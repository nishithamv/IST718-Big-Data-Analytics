{
 "cells": [
  {
   "cell_type": "markdown",
   "metadata": {},
   "source": [
    "##### Grading Feedback Cell"
   ]
  },
  {
   "cell_type": "markdown",
   "metadata": {
    "deletable": false,
    "nbgrader": {
     "checksum": "c51f80b694da894627ba37be28c86055",
     "grade": false,
     "grade_id": "cell-b038e38b5e3072a9",
     "locked": true,
     "schema_version": 1,
     "solution": false
    }
   },
   "source": [
    "# IST 718: Big Data Analytics\n",
    "\n",
    "- Professor: Willard Williamson <wewillia@syr.edu>\n",
    "- Faculty Assistant: Yash Pasar <yspasar@syr.edu>\n",
    "## General instructions:\n",
    "\n",
    "- You are welcome to discuss the problems with your classmates but __you are not allowed to copy any part of your answers from your classmates.  Short code snippets are allowed from the internet.  Code from the class text books or class provided code can be copied in its entirety.__\n",
    "- There could be tests in some cells (i.e., `assert` and `np.testing.` statements). These tests (if present) are used to grade your answers. **However, the professor and FAs could use __additional__ test for your answer. Think about cases where your code should run even if it passess all the tests you see.**\n",
    "- Before submitting your work, remember to check for run time errors with the following procedure:\n",
    "`Kernel`$\\rightarrow$`Restart and Run All`.  All runtime errors will result in a minimum penalty of half off.\n",
    "- Data Bricks is the official class runtime environment so you should test your code on Data Bricks before submission.  If there is a runtime problem in the grading environment, we will try your code on Data Bricks before making a final grading decision.\n",
    "- All plots shall include a title, and axis labels.\n",
    "- Grading feedback cells are there for graders to provide feedback to students.  Don't change or remove grading feedback cells.\n",
    "- Don't add or remove files from your git repo.\n",
    "- Do not change file names in your repo.  This also means don't change the title of the ipython notebook.\n",
    "- You are free to add additional code cells around the cells marked `your code here`.\n",
    "- __Only use spark, spark machine learning, spark data frames, RDD's, and map reduce to solve all problems unless instructed otherwise.__"
   ]
  },
  {
   "cell_type": "code",
   "execution_count": 1,
   "metadata": {},
   "outputs": [],
   "source": [
    "import pandas as pd\n",
    "from pyspark.sql import functions as fn\n",
    "from pyspark.ml import feature\n",
    "from pyspark.ml.feature import Tokenizer\n",
    "import requests\n",
    "from pyspark.ml.feature import StopWordsRemover\n",
    "from pyspark.ml.feature import CountVectorizer\n",
    "from pyspark.ml.feature import IDF\n",
    "from pyspark.ml import Pipeline\n",
    "from pyspark.ml.feature import StandardScaler\n",
    "from pyspark.ml.feature import PCA\n",
    "import matplotlib.pyplot as plt\n",
    "import numpy as np\n",
    "from pyspark.ml.feature import Normalizer\n",
    "from pyspark.ml.clustering import KMeans\n",
    "import seaborn as sns"
   ]
  },
  {
   "cell_type": "markdown",
   "metadata": {},
   "source": [
    "The following cell is used to determine if the environment is databricks or personal computer and determine the correct data file path accordingly."
   ]
  },
  {
   "cell_type": "code",
   "execution_count": 2,
   "metadata": {
    "deletable": false,
    "editable": false,
    "nbgrader": {
     "checksum": "ed593a17eab4017a9129cd4ad457fc98",
     "grade": true,
     "grade_id": "cell-20fb7c865c3ddf0e",
     "locked": true,
     "points": 10,
     "schema_version": 1,
     "solution": false
    }
   },
   "outputs": [],
   "source": [
    "# Do not delete or change this cell\n",
    "\n",
    "import os\n",
    "\n",
    "# Define a function to determine if we are running on data bricks\n",
    "# Return true if running in the data bricks environment, false otherwise\n",
    "def is_databricks():\n",
    "    # get the databricks runtime version\n",
    "    db_env = os.getenv(\"DATABRICKS_RUNTIME_VERSION\")\n",
    "    \n",
    "    # if running on data bricks\n",
    "    if db_env != None:\n",
    "        return True\n",
    "    else:\n",
    "        return False\n",
    "\n",
    "# Define a function to read the data file.  The full path data file name is constructed\n",
    "# by checking runtime environment variables to determine if the runtime environment is \n",
    "# databricks, or a student's personal computer.  The full path file name is then\n",
    "# constructed based on the runtime env.\n",
    "# \n",
    "# Params\n",
    "#   data_file_name: The base name of the data file to load\n",
    "# \n",
    "# Returns the full path file name based on the runtime env\n",
    "#\n",
    "def get_training_filename(data_file_name):    \n",
    "    # if running on data bricks\n",
    "    if is_databricks():\n",
    "        # build the full path file name assuming data brick env\n",
    "        full_path_name = \"/FileStore/tables/%s\" % data_file_name\n",
    "    # else the data is assumed to be in the same dir as this notebook\n",
    "    else:\n",
    "        # Assume the student is running on their own computer and load the data\n",
    "        # file from the same dir as this notebook\n",
    "        full_path_name = data_file_name\n",
    "    \n",
    "    # return the full path file name to the caller\n",
    "    return full_path_name"
   ]
  },
  {
   "cell_type": "markdown",
   "metadata": {},
   "source": [
    "# Unsupervised learning"
   ]
  },
  {
   "cell_type": "markdown",
   "metadata": {},
   "source": [
    "The colleges_data_science_programs dataset contains information about dozens of \"data science\" programs across the US."
   ]
  },
  {
   "cell_type": "markdown",
   "metadata": {},
   "source": [
    "## Question 1: (10 pts)\n",
    "\n",
    "This dataset contains many columns that we can use to understand how these data science programs differ from one another."
   ]
  },
  {
   "cell_type": "markdown",
   "metadata": {},
   "source": [
    "## Question 1a (5 pts)\n",
    "Using get_training_filename, read the colleges_data_science_programs.csv data file into a data frame named raw_ds_programs_text_df.  Print the head of the raw_ds_programs_text_df using Pandas, and the shape using spark."
   ]
  },
  {
   "cell_type": "code",
   "execution_count": 3,
   "metadata": {},
   "outputs": [
    {
     "data": {
      "text/html": [
       "<div>\n",
       "<style scoped>\n",
       "    .dataframe tbody tr th:only-of-type {\n",
       "        vertical-align: middle;\n",
       "    }\n",
       "\n",
       "    .dataframe tbody tr th {\n",
       "        vertical-align: top;\n",
       "    }\n",
       "\n",
       "    .dataframe thead th {\n",
       "        text-align: right;\n",
       "    }\n",
       "</style>\n",
       "<table border=\"1\" class=\"dataframe\">\n",
       "  <thead>\n",
       "    <tr style=\"text-align: right;\">\n",
       "      <th></th>\n",
       "      <th>id</th>\n",
       "      <th>name</th>\n",
       "      <th>url</th>\n",
       "      <th>program</th>\n",
       "      <th>degree</th>\n",
       "      <th>country</th>\n",
       "      <th>state</th>\n",
       "      <th>online</th>\n",
       "      <th>oncampus</th>\n",
       "      <th>department</th>\n",
       "      <th>...</th>\n",
       "      <th>cost</th>\n",
       "      <th>visualization</th>\n",
       "      <th>machine learning</th>\n",
       "      <th>business</th>\n",
       "      <th>databases</th>\n",
       "      <th>programminglanguages</th>\n",
       "      <th>capstone</th>\n",
       "      <th>mapreduce</th>\n",
       "      <th>part-time</th>\n",
       "      <th>ethics</th>\n",
       "    </tr>\n",
       "  </thead>\n",
       "  <tbody>\n",
       "    <tr>\n",
       "      <td>0</td>\n",
       "      <td>1</td>\n",
       "      <td>South Dakota State University</td>\n",
       "      <td>http://www.sdstate.edu/mathstat/grad/masters-i...</td>\n",
       "      <td>Data Science</td>\n",
       "      <td>Masters</td>\n",
       "      <td>US</td>\n",
       "      <td>SD</td>\n",
       "      <td>False</td>\n",
       "      <td>True</td>\n",
       "      <td>Mathematics and Statistics</td>\n",
       "      <td>...</td>\n",
       "      <td>None</td>\n",
       "      <td>None</td>\n",
       "      <td>None</td>\n",
       "      <td>None</td>\n",
       "      <td>None</td>\n",
       "      <td>None</td>\n",
       "      <td>None</td>\n",
       "      <td>None</td>\n",
       "      <td>None</td>\n",
       "      <td>None</td>\n",
       "    </tr>\n",
       "    <tr>\n",
       "      <td>1</td>\n",
       "      <td>2</td>\n",
       "      <td>Dakota State University</td>\n",
       "      <td>http://www.dsu.edu/msa/</td>\n",
       "      <td>Analytics</td>\n",
       "      <td>Masters</td>\n",
       "      <td>US</td>\n",
       "      <td>SD</td>\n",
       "      <td>True</td>\n",
       "      <td>True</td>\n",
       "      <td>Business and Information Systems</td>\n",
       "      <td>...</td>\n",
       "      <td>None</td>\n",
       "      <td>None</td>\n",
       "      <td>None</td>\n",
       "      <td>None</td>\n",
       "      <td>None</td>\n",
       "      <td>None</td>\n",
       "      <td>None</td>\n",
       "      <td>None</td>\n",
       "      <td>None</td>\n",
       "      <td>None</td>\n",
       "    </tr>\n",
       "    <tr>\n",
       "      <td>2</td>\n",
       "      <td>3</td>\n",
       "      <td>Lewis University</td>\n",
       "      <td>http://www.lewisu.edu/academics/data-science/i...</td>\n",
       "      <td>Data Science</td>\n",
       "      <td>Masters</td>\n",
       "      <td>US</td>\n",
       "      <td>IL</td>\n",
       "      <td>True</td>\n",
       "      <td>True</td>\n",
       "      <td>Computer Science</td>\n",
       "      <td>...</td>\n",
       "      <td>None</td>\n",
       "      <td>None</td>\n",
       "      <td>None</td>\n",
       "      <td>None</td>\n",
       "      <td>None</td>\n",
       "      <td>None</td>\n",
       "      <td>None</td>\n",
       "      <td>None</td>\n",
       "      <td>None</td>\n",
       "      <td>None</td>\n",
       "    </tr>\n",
       "    <tr>\n",
       "      <td>3</td>\n",
       "      <td>4</td>\n",
       "      <td>Saint Joseph's University</td>\n",
       "      <td>http://online.sju.edu/programs/business-intell...</td>\n",
       "      <td>Business Intelligence &amp; Analytics</td>\n",
       "      <td>Masters</td>\n",
       "      <td>US</td>\n",
       "      <td>PA</td>\n",
       "      <td>True</td>\n",
       "      <td>True</td>\n",
       "      <td>Business</td>\n",
       "      <td>...</td>\n",
       "      <td>None</td>\n",
       "      <td>None</td>\n",
       "      <td>None</td>\n",
       "      <td>None</td>\n",
       "      <td>None</td>\n",
       "      <td>None</td>\n",
       "      <td>None</td>\n",
       "      <td>None</td>\n",
       "      <td>None</td>\n",
       "      <td>None</td>\n",
       "    </tr>\n",
       "    <tr>\n",
       "      <td>4</td>\n",
       "      <td>5</td>\n",
       "      <td>University Of Leeds</td>\n",
       "      <td>http://www.engineering.leeds.ac.uk/computing/p...</td>\n",
       "      <td>Advanced Computer Science(Data Analytics)</td>\n",
       "      <td>Masters</td>\n",
       "      <td>GB</td>\n",
       "      <td>None</td>\n",
       "      <td>False</td>\n",
       "      <td>True</td>\n",
       "      <td>Computer Science</td>\n",
       "      <td>...</td>\n",
       "      <td>None</td>\n",
       "      <td>None</td>\n",
       "      <td>None</td>\n",
       "      <td>None</td>\n",
       "      <td>None</td>\n",
       "      <td>None</td>\n",
       "      <td>None</td>\n",
       "      <td>None</td>\n",
       "      <td>None</td>\n",
       "      <td>None</td>\n",
       "    </tr>\n",
       "  </tbody>\n",
       "</table>\n",
       "<p>5 rows × 28 columns</p>\n",
       "</div>"
      ],
      "text/plain": [
       "   id                           name  \\\n",
       "0   1  South Dakota State University   \n",
       "1   2        Dakota State University   \n",
       "2   3               Lewis University   \n",
       "3   4      Saint Joseph's University   \n",
       "4   5            University Of Leeds   \n",
       "\n",
       "                                                 url  \\\n",
       "0  http://www.sdstate.edu/mathstat/grad/masters-i...   \n",
       "1                            http://www.dsu.edu/msa/   \n",
       "2  http://www.lewisu.edu/academics/data-science/i...   \n",
       "3  http://online.sju.edu/programs/business-intell...   \n",
       "4  http://www.engineering.leeds.ac.uk/computing/p...   \n",
       "\n",
       "                                     program   degree country state  online  \\\n",
       "0                               Data Science  Masters      US    SD   False   \n",
       "1                                  Analytics  Masters      US    SD    True   \n",
       "2                               Data Science  Masters      US    IL    True   \n",
       "3          Business Intelligence & Analytics  Masters      US    PA    True   \n",
       "4  Advanced Computer Science(Data Analytics)  Masters      GB  None   False   \n",
       "\n",
       "   oncampus                        department  ...  cost visualization  \\\n",
       "0      True        Mathematics and Statistics  ...  None          None   \n",
       "1      True  Business and Information Systems  ...  None          None   \n",
       "2      True                  Computer Science  ...  None          None   \n",
       "3      True                          Business  ...  None          None   \n",
       "4      True                  Computer Science  ...  None          None   \n",
       "\n",
       "   machine learning business databases programminglanguages  capstone  \\\n",
       "0              None     None      None                 None      None   \n",
       "1              None     None      None                 None      None   \n",
       "2              None     None      None                 None      None   \n",
       "3              None     None      None                 None      None   \n",
       "4              None     None      None                 None      None   \n",
       "\n",
       "  mapreduce part-time ethics  \n",
       "0      None      None   None  \n",
       "1      None      None   None  \n",
       "2      None      None   None  \n",
       "3      None      None   None  \n",
       "4      None      None   None  \n",
       "\n",
       "[5 rows x 28 columns]"
      ]
     },
     "metadata": {},
     "output_type": "display_data"
    },
    {
     "name": "stdout",
     "output_type": "stream",
     "text": [
      "Shape of raw_ds_programs_text_df: (222, 28)\n"
     ]
    }
   ],
   "source": [
    "raw_ds_programs_text_df = spark.read.csv(get_training_filename('colleges_data_science_programs.csv'), header = True, inferSchema = True)\n",
    "\n",
    "display(raw_ds_programs_text_df.toPandas().head())\n",
    "\n",
    "print(\"Shape of raw_ds_programs_text_df:\", (raw_ds_programs_text_df.count(), len(raw_ds_programs_text_df.columns)))"
   ]
  },
  {
   "cell_type": "markdown",
   "metadata": {},
   "source": [
    "##### Grading Feedback Cell"
   ]
  },
  {
   "cell_type": "markdown",
   "metadata": {},
   "source": [
    "## Question 1b (5 pts)\n",
    "Starting with `raw_ds_programs_text_df`, create a new dataframe named`ds_programs_text_df` which simply adds a column `text` to the dataframe `raw_ds_programs_df`. This column will have the concatenation of the following columns separated by a space: `program`, `degree` and `department` (find the appropriate function in the `fn` package). <br>\n",
    "\n",
    "An example of the `ds_programs_text_df` should give you:\n",
    "\n",
    "```python\n",
    "ds_programs_text_df.orderBy('id').first().text\n",
    "```\n",
    "\n",
    "```console\n",
    "'Data Science Masters Mathematics and Statistics'\n",
    "```\n",
    "<br>\n",
    "- Print the head of the raw_ds_programs_text_df using Pandas, and the shape using spark.<br>\n",
    "- Print the text column in the first row of the ds_programs_text_df."
   ]
  },
  {
   "cell_type": "code",
   "execution_count": 4,
   "metadata": {
    "deletable": false,
    "nbgrader": {
     "checksum": "cb982914cbab5d8d552cafcab8a6f41b",
     "grade": false,
     "grade_id": "cell-18ebd4f77c37a8e3",
     "locked": false,
     "schema_version": 1,
     "solution": true
    }
   },
   "outputs": [
    {
     "data": {
      "text/html": [
       "<div>\n",
       "<style scoped>\n",
       "    .dataframe tbody tr th:only-of-type {\n",
       "        vertical-align: middle;\n",
       "    }\n",
       "\n",
       "    .dataframe tbody tr th {\n",
       "        vertical-align: top;\n",
       "    }\n",
       "\n",
       "    .dataframe thead th {\n",
       "        text-align: right;\n",
       "    }\n",
       "</style>\n",
       "<table border=\"1\" class=\"dataframe\">\n",
       "  <thead>\n",
       "    <tr style=\"text-align: right;\">\n",
       "      <th></th>\n",
       "      <th>id</th>\n",
       "      <th>name</th>\n",
       "      <th>url</th>\n",
       "      <th>program</th>\n",
       "      <th>degree</th>\n",
       "      <th>country</th>\n",
       "      <th>state</th>\n",
       "      <th>online</th>\n",
       "      <th>oncampus</th>\n",
       "      <th>department</th>\n",
       "      <th>...</th>\n",
       "      <th>visualization</th>\n",
       "      <th>machine learning</th>\n",
       "      <th>business</th>\n",
       "      <th>databases</th>\n",
       "      <th>programminglanguages</th>\n",
       "      <th>capstone</th>\n",
       "      <th>mapreduce</th>\n",
       "      <th>part-time</th>\n",
       "      <th>ethics</th>\n",
       "      <th>text</th>\n",
       "    </tr>\n",
       "  </thead>\n",
       "  <tbody>\n",
       "    <tr>\n",
       "      <td>0</td>\n",
       "      <td>1</td>\n",
       "      <td>South Dakota State University</td>\n",
       "      <td>http://www.sdstate.edu/mathstat/grad/masters-i...</td>\n",
       "      <td>Data Science</td>\n",
       "      <td>Masters</td>\n",
       "      <td>US</td>\n",
       "      <td>SD</td>\n",
       "      <td>False</td>\n",
       "      <td>True</td>\n",
       "      <td>Mathematics and Statistics</td>\n",
       "      <td>...</td>\n",
       "      <td>None</td>\n",
       "      <td>None</td>\n",
       "      <td>None</td>\n",
       "      <td>None</td>\n",
       "      <td>None</td>\n",
       "      <td>None</td>\n",
       "      <td>None</td>\n",
       "      <td>None</td>\n",
       "      <td>None</td>\n",
       "      <td>Data Science Masters Mathematics and Statistics</td>\n",
       "    </tr>\n",
       "    <tr>\n",
       "      <td>1</td>\n",
       "      <td>2</td>\n",
       "      <td>Dakota State University</td>\n",
       "      <td>http://www.dsu.edu/msa/</td>\n",
       "      <td>Analytics</td>\n",
       "      <td>Masters</td>\n",
       "      <td>US</td>\n",
       "      <td>SD</td>\n",
       "      <td>True</td>\n",
       "      <td>True</td>\n",
       "      <td>Business and Information Systems</td>\n",
       "      <td>...</td>\n",
       "      <td>None</td>\n",
       "      <td>None</td>\n",
       "      <td>None</td>\n",
       "      <td>None</td>\n",
       "      <td>None</td>\n",
       "      <td>None</td>\n",
       "      <td>None</td>\n",
       "      <td>None</td>\n",
       "      <td>None</td>\n",
       "      <td>Analytics Masters Business and Information Sys...</td>\n",
       "    </tr>\n",
       "    <tr>\n",
       "      <td>2</td>\n",
       "      <td>3</td>\n",
       "      <td>Lewis University</td>\n",
       "      <td>http://www.lewisu.edu/academics/data-science/i...</td>\n",
       "      <td>Data Science</td>\n",
       "      <td>Masters</td>\n",
       "      <td>US</td>\n",
       "      <td>IL</td>\n",
       "      <td>True</td>\n",
       "      <td>True</td>\n",
       "      <td>Computer Science</td>\n",
       "      <td>...</td>\n",
       "      <td>None</td>\n",
       "      <td>None</td>\n",
       "      <td>None</td>\n",
       "      <td>None</td>\n",
       "      <td>None</td>\n",
       "      <td>None</td>\n",
       "      <td>None</td>\n",
       "      <td>None</td>\n",
       "      <td>None</td>\n",
       "      <td>Data Science Masters Computer Science</td>\n",
       "    </tr>\n",
       "    <tr>\n",
       "      <td>3</td>\n",
       "      <td>4</td>\n",
       "      <td>Saint Joseph's University</td>\n",
       "      <td>http://online.sju.edu/programs/business-intell...</td>\n",
       "      <td>Business Intelligence &amp; Analytics</td>\n",
       "      <td>Masters</td>\n",
       "      <td>US</td>\n",
       "      <td>PA</td>\n",
       "      <td>True</td>\n",
       "      <td>True</td>\n",
       "      <td>Business</td>\n",
       "      <td>...</td>\n",
       "      <td>None</td>\n",
       "      <td>None</td>\n",
       "      <td>None</td>\n",
       "      <td>None</td>\n",
       "      <td>None</td>\n",
       "      <td>None</td>\n",
       "      <td>None</td>\n",
       "      <td>None</td>\n",
       "      <td>None</td>\n",
       "      <td>Business Intelligence &amp; Analytics Masters Busi...</td>\n",
       "    </tr>\n",
       "    <tr>\n",
       "      <td>4</td>\n",
       "      <td>5</td>\n",
       "      <td>University Of Leeds</td>\n",
       "      <td>http://www.engineering.leeds.ac.uk/computing/p...</td>\n",
       "      <td>Advanced Computer Science(Data Analytics)</td>\n",
       "      <td>Masters</td>\n",
       "      <td>GB</td>\n",
       "      <td>None</td>\n",
       "      <td>False</td>\n",
       "      <td>True</td>\n",
       "      <td>Computer Science</td>\n",
       "      <td>...</td>\n",
       "      <td>None</td>\n",
       "      <td>None</td>\n",
       "      <td>None</td>\n",
       "      <td>None</td>\n",
       "      <td>None</td>\n",
       "      <td>None</td>\n",
       "      <td>None</td>\n",
       "      <td>None</td>\n",
       "      <td>None</td>\n",
       "      <td>Advanced Computer Science(Data Analytics) Mast...</td>\n",
       "    </tr>\n",
       "  </tbody>\n",
       "</table>\n",
       "<p>5 rows × 29 columns</p>\n",
       "</div>"
      ],
      "text/plain": [
       "   id                           name  \\\n",
       "0   1  South Dakota State University   \n",
       "1   2        Dakota State University   \n",
       "2   3               Lewis University   \n",
       "3   4      Saint Joseph's University   \n",
       "4   5            University Of Leeds   \n",
       "\n",
       "                                                 url  \\\n",
       "0  http://www.sdstate.edu/mathstat/grad/masters-i...   \n",
       "1                            http://www.dsu.edu/msa/   \n",
       "2  http://www.lewisu.edu/academics/data-science/i...   \n",
       "3  http://online.sju.edu/programs/business-intell...   \n",
       "4  http://www.engineering.leeds.ac.uk/computing/p...   \n",
       "\n",
       "                                     program   degree country state  online  \\\n",
       "0                               Data Science  Masters      US    SD   False   \n",
       "1                                  Analytics  Masters      US    SD    True   \n",
       "2                               Data Science  Masters      US    IL    True   \n",
       "3          Business Intelligence & Analytics  Masters      US    PA    True   \n",
       "4  Advanced Computer Science(Data Analytics)  Masters      GB  None   False   \n",
       "\n",
       "   oncampus                        department  ... visualization  \\\n",
       "0      True        Mathematics and Statistics  ...          None   \n",
       "1      True  Business and Information Systems  ...          None   \n",
       "2      True                  Computer Science  ...          None   \n",
       "3      True                          Business  ...          None   \n",
       "4      True                  Computer Science  ...          None   \n",
       "\n",
       "  machine learning  business databases programminglanguages capstone  \\\n",
       "0             None      None      None                 None     None   \n",
       "1             None      None      None                 None     None   \n",
       "2             None      None      None                 None     None   \n",
       "3             None      None      None                 None     None   \n",
       "4             None      None      None                 None     None   \n",
       "\n",
       "   mapreduce part-time ethics  \\\n",
       "0       None      None   None   \n",
       "1       None      None   None   \n",
       "2       None      None   None   \n",
       "3       None      None   None   \n",
       "4       None      None   None   \n",
       "\n",
       "                                                text  \n",
       "0    Data Science Masters Mathematics and Statistics  \n",
       "1  Analytics Masters Business and Information Sys...  \n",
       "2              Data Science Masters Computer Science  \n",
       "3  Business Intelligence & Analytics Masters Busi...  \n",
       "4  Advanced Computer Science(Data Analytics) Mast...  \n",
       "\n",
       "[5 rows x 29 columns]"
      ]
     },
     "metadata": {},
     "output_type": "display_data"
    },
    {
     "name": "stdout",
     "output_type": "stream",
     "text": [
      "Shape of ds_programs_text_df: (222, 29)\n",
      "\n",
      "Text column in the first row of the ds_programs_text_df: Data Science Masters Mathematics and Statistics\n"
     ]
    }
   ],
   "source": [
    "ds_programs_text_df = raw_ds_programs_text_df.withColumn('text', fn.concat_ws(' ', raw_ds_programs_text_df.program, raw_ds_programs_text_df.degree, raw_ds_programs_text_df.department))\n",
    "        \n",
    "display(ds_programs_text_df.toPandas().head())\n",
    "\n",
    "print(\"Shape of ds_programs_text_df:\", (ds_programs_text_df.count(), len(ds_programs_text_df.columns)))\n",
    "\n",
    "print(\"\\nText column in the first row of the ds_programs_text_df:\", ds_programs_text_df.orderBy('id').first().text)"
   ]
  },
  {
   "cell_type": "markdown",
   "metadata": {},
   "source": [
    "##### Grading Feedback Cell"
   ]
  },
  {
   "cell_type": "markdown",
   "metadata": {},
   "source": [
    "# Question 2: (10 pts) "
   ]
  },
  {
   "cell_type": "markdown",
   "metadata": {},
   "source": [
    "## Question 2a (5 pts)\n",
    "Create a pipeline named `pipe_features` that creates a new dataframe `ds_features_df`.  The pipe_features pipeline adds a column `features` to `ds_programs_text_df` that contains the `tfidf` of the `text` column.  Print the head of ds_features_df using Pandas and print the shape using spark."
   ]
  },
  {
   "cell_type": "code",
   "execution_count": 5,
   "metadata": {
    "nbgrader": {
     "checksum": "2cb3933b05c489ba7cadcdc1a3abc02d",
     "grade": false,
     "grade_id": "cell-8d401e50a125c6f3",
     "locked": true,
     "schema_version": 1,
     "solution": false
    }
   },
   "outputs": [
    {
     "data": {
      "text/html": [
       "<div>\n",
       "<style scoped>\n",
       "    .dataframe tbody tr th:only-of-type {\n",
       "        vertical-align: middle;\n",
       "    }\n",
       "\n",
       "    .dataframe tbody tr th {\n",
       "        vertical-align: top;\n",
       "    }\n",
       "\n",
       "    .dataframe thead th {\n",
       "        text-align: right;\n",
       "    }\n",
       "</style>\n",
       "<table border=\"1\" class=\"dataframe\">\n",
       "  <thead>\n",
       "    <tr style=\"text-align: right;\">\n",
       "      <th></th>\n",
       "      <th>id</th>\n",
       "      <th>name</th>\n",
       "      <th>url</th>\n",
       "      <th>program</th>\n",
       "      <th>degree</th>\n",
       "      <th>country</th>\n",
       "      <th>state</th>\n",
       "      <th>online</th>\n",
       "      <th>oncampus</th>\n",
       "      <th>department</th>\n",
       "      <th>...</th>\n",
       "      <th>programminglanguages</th>\n",
       "      <th>capstone</th>\n",
       "      <th>mapreduce</th>\n",
       "      <th>part-time</th>\n",
       "      <th>ethics</th>\n",
       "      <th>text</th>\n",
       "      <th>words</th>\n",
       "      <th>filtered_text</th>\n",
       "      <th>tf</th>\n",
       "      <th>features</th>\n",
       "    </tr>\n",
       "  </thead>\n",
       "  <tbody>\n",
       "    <tr>\n",
       "      <td>0</td>\n",
       "      <td>1</td>\n",
       "      <td>South Dakota State University</td>\n",
       "      <td>http://www.sdstate.edu/mathstat/grad/masters-i...</td>\n",
       "      <td>Data Science</td>\n",
       "      <td>Masters</td>\n",
       "      <td>US</td>\n",
       "      <td>SD</td>\n",
       "      <td>False</td>\n",
       "      <td>True</td>\n",
       "      <td>Mathematics and Statistics</td>\n",
       "      <td>...</td>\n",
       "      <td>None</td>\n",
       "      <td>None</td>\n",
       "      <td>None</td>\n",
       "      <td>None</td>\n",
       "      <td>None</td>\n",
       "      <td>Data Science Masters Mathematics and Statistics</td>\n",
       "      <td>[data, science, masters, mathematics, and, sta...</td>\n",
       "      <td>[data, science, masters, mathematics, statistics]</td>\n",
       "      <td>(1.0, 1.0, 0.0, 0.0, 1.0, 0.0, 1.0, 0.0, 0.0, ...</td>\n",
       "      <td>(0.2538801769623398, 0.6709733230656233, 0.0, ...</td>\n",
       "    </tr>\n",
       "    <tr>\n",
       "      <td>1</td>\n",
       "      <td>2</td>\n",
       "      <td>Dakota State University</td>\n",
       "      <td>http://www.dsu.edu/msa/</td>\n",
       "      <td>Analytics</td>\n",
       "      <td>Masters</td>\n",
       "      <td>US</td>\n",
       "      <td>SD</td>\n",
       "      <td>True</td>\n",
       "      <td>True</td>\n",
       "      <td>Business and Information Systems</td>\n",
       "      <td>...</td>\n",
       "      <td>None</td>\n",
       "      <td>None</td>\n",
       "      <td>None</td>\n",
       "      <td>None</td>\n",
       "      <td>None</td>\n",
       "      <td>Analytics Masters Business and Information Sys...</td>\n",
       "      <td>[analytics, masters, business, and, informatio...</td>\n",
       "      <td>[analytics, masters, business, information, sy...</td>\n",
       "      <td>(1.0, 0.0, 1.0, 1.0, 0.0, 0.0, 0.0, 1.0, 0.0, ...</td>\n",
       "      <td>(0.2538801769623398, 0.0, 1.0377239189930973, ...</td>\n",
       "    </tr>\n",
       "    <tr>\n",
       "      <td>2</td>\n",
       "      <td>3</td>\n",
       "      <td>Lewis University</td>\n",
       "      <td>http://www.lewisu.edu/academics/data-science/i...</td>\n",
       "      <td>Data Science</td>\n",
       "      <td>Masters</td>\n",
       "      <td>US</td>\n",
       "      <td>IL</td>\n",
       "      <td>True</td>\n",
       "      <td>True</td>\n",
       "      <td>Computer Science</td>\n",
       "      <td>...</td>\n",
       "      <td>None</td>\n",
       "      <td>None</td>\n",
       "      <td>None</td>\n",
       "      <td>None</td>\n",
       "      <td>None</td>\n",
       "      <td>Data Science Masters Computer Science</td>\n",
       "      <td>[data, science, masters, computer, science]</td>\n",
       "      <td>[data, science, masters, science]</td>\n",
       "      <td>(1.0, 1.0, 0.0, 0.0, 2.0, 0.0, 0.0, 0.0, 0.0, ...</td>\n",
       "      <td>(0.2538801769623398, 0.6709733230656233, 0.0, ...</td>\n",
       "    </tr>\n",
       "    <tr>\n",
       "      <td>3</td>\n",
       "      <td>4</td>\n",
       "      <td>Saint Joseph's University</td>\n",
       "      <td>http://online.sju.edu/programs/business-intell...</td>\n",
       "      <td>Business Intelligence &amp; Analytics</td>\n",
       "      <td>Masters</td>\n",
       "      <td>US</td>\n",
       "      <td>PA</td>\n",
       "      <td>True</td>\n",
       "      <td>True</td>\n",
       "      <td>Business</td>\n",
       "      <td>...</td>\n",
       "      <td>None</td>\n",
       "      <td>None</td>\n",
       "      <td>None</td>\n",
       "      <td>None</td>\n",
       "      <td>None</td>\n",
       "      <td>Business Intelligence &amp; Analytics Masters Busi...</td>\n",
       "      <td>[business, intelligence, &amp;, analytics, masters...</td>\n",
       "      <td>[business, intelligence, &amp;, analytics, masters...</td>\n",
       "      <td>(1.0, 0.0, 2.0, 1.0, 0.0, 0.0, 0.0, 0.0, 1.0, ...</td>\n",
       "      <td>(0.2538801769623398, 0.0, 2.0754478379861947, ...</td>\n",
       "    </tr>\n",
       "    <tr>\n",
       "      <td>4</td>\n",
       "      <td>5</td>\n",
       "      <td>University Of Leeds</td>\n",
       "      <td>http://www.engineering.leeds.ac.uk/computing/p...</td>\n",
       "      <td>Advanced Computer Science(Data Analytics)</td>\n",
       "      <td>Masters</td>\n",
       "      <td>GB</td>\n",
       "      <td>None</td>\n",
       "      <td>False</td>\n",
       "      <td>True</td>\n",
       "      <td>Computer Science</td>\n",
       "      <td>...</td>\n",
       "      <td>None</td>\n",
       "      <td>None</td>\n",
       "      <td>None</td>\n",
       "      <td>None</td>\n",
       "      <td>None</td>\n",
       "      <td>Advanced Computer Science(Data Analytics) Mast...</td>\n",
       "      <td>[advanced, computer, science(data, analytics),...</td>\n",
       "      <td>[advanced, science(data, analytics), masters, ...</td>\n",
       "      <td>(1.0, 0.0, 0.0, 0.0, 1.0, 0.0, 0.0, 0.0, 0.0, ...</td>\n",
       "      <td>(0.2538801769623398, 0.0, 0.0, 0.0, 1.29629790...</td>\n",
       "    </tr>\n",
       "  </tbody>\n",
       "</table>\n",
       "<p>5 rows × 33 columns</p>\n",
       "</div>"
      ],
      "text/plain": [
       "   id                           name  \\\n",
       "0   1  South Dakota State University   \n",
       "1   2        Dakota State University   \n",
       "2   3               Lewis University   \n",
       "3   4      Saint Joseph's University   \n",
       "4   5            University Of Leeds   \n",
       "\n",
       "                                                 url  \\\n",
       "0  http://www.sdstate.edu/mathstat/grad/masters-i...   \n",
       "1                            http://www.dsu.edu/msa/   \n",
       "2  http://www.lewisu.edu/academics/data-science/i...   \n",
       "3  http://online.sju.edu/programs/business-intell...   \n",
       "4  http://www.engineering.leeds.ac.uk/computing/p...   \n",
       "\n",
       "                                     program   degree country state  online  \\\n",
       "0                               Data Science  Masters      US    SD   False   \n",
       "1                                  Analytics  Masters      US    SD    True   \n",
       "2                               Data Science  Masters      US    IL    True   \n",
       "3          Business Intelligence & Analytics  Masters      US    PA    True   \n",
       "4  Advanced Computer Science(Data Analytics)  Masters      GB  None   False   \n",
       "\n",
       "   oncampus                        department  ... programminglanguages  \\\n",
       "0      True        Mathematics and Statistics  ...                 None   \n",
       "1      True  Business and Information Systems  ...                 None   \n",
       "2      True                  Computer Science  ...                 None   \n",
       "3      True                          Business  ...                 None   \n",
       "4      True                  Computer Science  ...                 None   \n",
       "\n",
       "  capstone  mapreduce part-time ethics  \\\n",
       "0     None       None      None   None   \n",
       "1     None       None      None   None   \n",
       "2     None       None      None   None   \n",
       "3     None       None      None   None   \n",
       "4     None       None      None   None   \n",
       "\n",
       "                                                text  \\\n",
       "0    Data Science Masters Mathematics and Statistics   \n",
       "1  Analytics Masters Business and Information Sys...   \n",
       "2              Data Science Masters Computer Science   \n",
       "3  Business Intelligence & Analytics Masters Busi...   \n",
       "4  Advanced Computer Science(Data Analytics) Mast...   \n",
       "\n",
       "                                               words  \\\n",
       "0  [data, science, masters, mathematics, and, sta...   \n",
       "1  [analytics, masters, business, and, informatio...   \n",
       "2        [data, science, masters, computer, science]   \n",
       "3  [business, intelligence, &, analytics, masters...   \n",
       "4  [advanced, computer, science(data, analytics),...   \n",
       "\n",
       "                                       filtered_text  \\\n",
       "0  [data, science, masters, mathematics, statistics]   \n",
       "1  [analytics, masters, business, information, sy...   \n",
       "2                  [data, science, masters, science]   \n",
       "3  [business, intelligence, &, analytics, masters...   \n",
       "4  [advanced, science(data, analytics), masters, ...   \n",
       "\n",
       "                                                  tf  \\\n",
       "0  (1.0, 1.0, 0.0, 0.0, 1.0, 0.0, 1.0, 0.0, 0.0, ...   \n",
       "1  (1.0, 0.0, 1.0, 1.0, 0.0, 0.0, 0.0, 1.0, 0.0, ...   \n",
       "2  (1.0, 1.0, 0.0, 0.0, 2.0, 0.0, 0.0, 0.0, 0.0, ...   \n",
       "3  (1.0, 0.0, 2.0, 1.0, 0.0, 0.0, 0.0, 0.0, 1.0, ...   \n",
       "4  (1.0, 0.0, 0.0, 0.0, 1.0, 0.0, 0.0, 0.0, 0.0, ...   \n",
       "\n",
       "                                            features  \n",
       "0  (0.2538801769623398, 0.6709733230656233, 0.0, ...  \n",
       "1  (0.2538801769623398, 0.0, 1.0377239189930973, ...  \n",
       "2  (0.2538801769623398, 0.6709733230656233, 0.0, ...  \n",
       "3  (0.2538801769623398, 0.0, 2.0754478379861947, ...  \n",
       "4  (0.2538801769623398, 0.0, 0.0, 0.0, 1.29629790...  \n",
       "\n",
       "[5 rows x 33 columns]"
      ]
     },
     "metadata": {},
     "output_type": "display_data"
    },
    {
     "name": "stdout",
     "output_type": "stream",
     "text": [
      "Shape of ds_features_df: (222, 33)\n"
     ]
    }
   ],
   "source": [
    "tokenizer = Tokenizer().setInputCol('text').setOutputCol('words')\n",
    "\n",
    "stop_words = requests.get('http://ir.dcs.gla.ac.uk/resources/linguistic_utils/stop_words').text.split()\n",
    "\n",
    "sw_filter = StopWordsRemover()\\\n",
    "    .setStopWords(stop_words)\\\n",
    "    .setCaseSensitive(False)\\\n",
    "    .setInputCol('words')\\\n",
    "    .setOutputCol('filtered_text')\n",
    "\n",
    "cv = CountVectorizer()\\\n",
    "    .setInputCol('filtered_text')\\\n",
    "    .setOutputCol('tf')\n",
    "\n",
    "idf = IDF()\\\n",
    "    .setInputCol('tf')\\\n",
    "    .setOutputCol('features')\n",
    "\n",
    "pipe_features = Pipeline(stages = [tokenizer, sw_filter, cv, idf]).fit(ds_programs_text_df)\n",
    "\n",
    "ds_features_df = pipe_features.transform(ds_programs_text_df)\n",
    "\n",
    "display(ds_features_df.toPandas().head())\n",
    "\n",
    "print(\"Shape of ds_features_df:\", (ds_features_df.count(), len(ds_features_df.columns)))"
   ]
  },
  {
   "cell_type": "markdown",
   "metadata": {},
   "source": [
    "##### Grading Feedback Cell"
   ]
  },
  {
   "cell_type": "markdown",
   "metadata": {},
   "source": [
    "## Question 2b (5 pts)\n",
    "Create a pipeline model `pipe_pca` that computes the two first principal components of the `features` column as computed by `pipe_features` and creates a column named `scores`. Use that pipeline to create a dataframe `ds_features_df` with the columns `id`, `name`, `url`, and `scores`."
   ]
  },
  {
   "cell_type": "code",
   "execution_count": 6,
   "metadata": {
    "deletable": false,
    "nbgrader": {
     "checksum": "fe5246f975004002ec6318349b882137",
     "grade": false,
     "grade_id": "cell-cab09e882ef8f6d1",
     "locked": false,
     "schema_version": 1,
     "solution": true
    }
   },
   "outputs": [
    {
     "data": {
      "text/html": [
       "<div>\n",
       "<style scoped>\n",
       "    .dataframe tbody tr th:only-of-type {\n",
       "        vertical-align: middle;\n",
       "    }\n",
       "\n",
       "    .dataframe tbody tr th {\n",
       "        vertical-align: top;\n",
       "    }\n",
       "\n",
       "    .dataframe thead th {\n",
       "        text-align: right;\n",
       "    }\n",
       "</style>\n",
       "<table border=\"1\" class=\"dataframe\">\n",
       "  <thead>\n",
       "    <tr style=\"text-align: right;\">\n",
       "      <th></th>\n",
       "      <th>id</th>\n",
       "      <th>name</th>\n",
       "      <th>url</th>\n",
       "      <th>scores</th>\n",
       "    </tr>\n",
       "  </thead>\n",
       "  <tbody>\n",
       "    <tr>\n",
       "      <td>0</td>\n",
       "      <td>1</td>\n",
       "      <td>South Dakota State University</td>\n",
       "      <td>http://www.sdstate.edu/mathstat/grad/masters-i...</td>\n",
       "      <td>[-0.2687441591874628, -0.4344302182472158]</td>\n",
       "    </tr>\n",
       "    <tr>\n",
       "      <td>1</td>\n",
       "      <td>2</td>\n",
       "      <td>Dakota State University</td>\n",
       "      <td>http://www.dsu.edu/msa/</td>\n",
       "      <td>[-0.3286481706567633, 2.104257913227512]</td>\n",
       "    </tr>\n",
       "    <tr>\n",
       "      <td>2</td>\n",
       "      <td>3</td>\n",
       "      <td>Lewis University</td>\n",
       "      <td>http://www.lewisu.edu/academics/data-science/i...</td>\n",
       "      <td>[-0.002820606988135067, -0.41690483200529677]</td>\n",
       "    </tr>\n",
       "    <tr>\n",
       "      <td>3</td>\n",
       "      <td>4</td>\n",
       "      <td>Saint Joseph's University</td>\n",
       "      <td>http://online.sju.edu/programs/business-intell...</td>\n",
       "      <td>[-0.8485791207087877, -0.0012554062193079398]</td>\n",
       "    </tr>\n",
       "    <tr>\n",
       "      <td>4</td>\n",
       "      <td>5</td>\n",
       "      <td>University Of Leeds</td>\n",
       "      <td>http://www.engineering.leeds.ac.uk/computing/p...</td>\n",
       "      <td>[-0.19402822664110167, -0.41119573075412363]</td>\n",
       "    </tr>\n",
       "  </tbody>\n",
       "</table>\n",
       "</div>"
      ],
      "text/plain": [
       "   id                           name  \\\n",
       "0   1  South Dakota State University   \n",
       "1   2        Dakota State University   \n",
       "2   3               Lewis University   \n",
       "3   4      Saint Joseph's University   \n",
       "4   5            University Of Leeds   \n",
       "\n",
       "                                                 url  \\\n",
       "0  http://www.sdstate.edu/mathstat/grad/masters-i...   \n",
       "1                            http://www.dsu.edu/msa/   \n",
       "2  http://www.lewisu.edu/academics/data-science/i...   \n",
       "3  http://online.sju.edu/programs/business-intell...   \n",
       "4  http://www.engineering.leeds.ac.uk/computing/p...   \n",
       "\n",
       "                                          scores  \n",
       "0     [-0.2687441591874628, -0.4344302182472158]  \n",
       "1       [-0.3286481706567633, 2.104257913227512]  \n",
       "2  [-0.002820606988135067, -0.41690483200529677]  \n",
       "3  [-0.8485791207087877, -0.0012554062193079398]  \n",
       "4   [-0.19402822664110167, -0.41119573075412363]  "
      ]
     },
     "metadata": {},
     "output_type": "display_data"
    },
    {
     "name": "stdout",
     "output_type": "stream",
     "text": [
      "Shape of ds_features_df: (222, 4)\n"
     ]
    }
   ],
   "source": [
    "center = StandardScaler(withMean = True, withStd = False, inputCol = 'features', outputCol = 'centered_features')\n",
    "\n",
    "pca = PCA(k = 2, inputCol ='centered_features', outputCol = 'scores')\n",
    "\n",
    "pipe_pca = Pipeline(stages = [center, pca]).fit(ds_features_df)\n",
    "\n",
    "ds_features_df = pipe_pca.transform(ds_features_df)\n",
    "\n",
    "ds_features_df = ds_features_df.select('id', 'name', 'url', 'scores')\n",
    "\n",
    "display(ds_features_df.toPandas().head())\n",
    "\n",
    "print(\"Shape of ds_features_df:\", (ds_features_df.count(), len(ds_features_df.columns)))"
   ]
  },
  {
   "cell_type": "markdown",
   "metadata": {},
   "source": [
    "##### Grading Feedback Cell"
   ]
  },
  {
   "cell_type": "markdown",
   "metadata": {},
   "source": [
    "# Question 3: (10 pts)\n",
    "\n",
    "Create a scatter plot with the x axis containing the first principal component (loading) and the y axis containing the second principal component (loading) of `ds_features_df`"
   ]
  },
  {
   "cell_type": "code",
   "execution_count": 7,
   "metadata": {
    "deletable": false,
    "nbgrader": {
     "checksum": "25f8bfc0359ff722d557a39233e1bfe2",
     "grade": true,
     "grade_id": "cell-cfe761874325794d",
     "locked": false,
     "points": 10,
     "schema_version": 1,
     "solution": true
    },
    "scrolled": false
   },
   "outputs": [
    {
     "data": {
      "image/png": "[encoded data removed]",
      "text/plain": [
       "<Figure size 432x288 with 1 Axes>"
      ]
     },
     "metadata": {
      "needs_background": "light"
     },
     "output_type": "display_data"
    }
   ],
   "source": [
    "%matplotlib inline\n",
    "\n",
    "pc1 = pipe_pca.stages[-1].pc.toArray()[:, 0].tolist()\n",
    "pc2 = pipe_pca.stages[-1].pc.toArray()[:, 1].tolist()\n",
    "\n",
    "plt.scatter(pc1, pc2)\n",
    "plt.xlabel('PC1')\n",
    "plt.ylabel('PC2')\n",
    "plt.title('Loadings for PC2 vs PC1')\n",
    "\n",
    "plt.show()"
   ]
  },
  {
   "cell_type": "markdown",
   "metadata": {},
   "source": [
    "##### Grading Feedback Cell"
   ]
  },
  {
   "cell_type": "markdown",
   "metadata": {},
   "source": [
    "# Question 4 (10 pts)\n",
    "\n",
    "Create two Pandas dataframes `pc1_pd` and `pc2_pd` with the columns `word` and `abs_loading` that contain the top 5 words and absolute loadings for the principal components 1 and 2, respetively.  Print both dataframes. Interpret the loadings."
   ]
  },
  {
   "cell_type": "code",
   "execution_count": 8,
   "metadata": {
    "deletable": false,
    "nbgrader": {
     "checksum": "21ba70a5a4393b6c5f5d5ce14bca6f26",
     "grade": false,
     "grade_id": "cell-f9d1641edcc927e5",
     "locked": false,
     "schema_version": 1,
     "solution": true
    }
   },
   "outputs": [
    {
     "name": "stdout",
     "output_type": "stream",
     "text": [
      "Top 5 words with absolute loading for PC1\n"
     ]
    },
    {
     "data": {
      "text/html": [
       "<div>\n",
       "<style scoped>\n",
       "    .dataframe tbody tr th:only-of-type {\n",
       "        vertical-align: middle;\n",
       "    }\n",
       "\n",
       "    .dataframe tbody tr th {\n",
       "        vertical-align: top;\n",
       "    }\n",
       "\n",
       "    .dataframe thead th {\n",
       "        text-align: right;\n",
       "    }\n",
       "</style>\n",
       "<table border=\"1\" class=\"dataframe\">\n",
       "  <thead>\n",
       "    <tr style=\"text-align: right;\">\n",
       "      <th></th>\n",
       "      <th>word</th>\n",
       "      <th>abs_loading</th>\n",
       "    </tr>\n",
       "  </thead>\n",
       "  <tbody>\n",
       "    <tr>\n",
       "      <td>16</td>\n",
       "      <td>computational</td>\n",
       "      <td>0.580729</td>\n",
       "    </tr>\n",
       "    <tr>\n",
       "      <td>14</td>\n",
       "      <td>sciences</td>\n",
       "      <td>0.499646</td>\n",
       "    </tr>\n",
       "    <tr>\n",
       "      <td>37</td>\n",
       "      <td>physics,</td>\n",
       "      <td>0.308371</td>\n",
       "    </tr>\n",
       "    <tr>\n",
       "      <td>35</td>\n",
       "      <td>astronomy,</td>\n",
       "      <td>0.308371</td>\n",
       "    </tr>\n",
       "    <tr>\n",
       "      <td>21</td>\n",
       "      <td>school</td>\n",
       "      <td>0.28337</td>\n",
       "    </tr>\n",
       "  </tbody>\n",
       "</table>\n",
       "</div>"
      ],
      "text/plain": [
       "             word abs_loading\n",
       "16  computational    0.580729\n",
       "14       sciences    0.499646\n",
       "37       physics,    0.308371\n",
       "35     astronomy,    0.308371\n",
       "21         school     0.28337"
      ]
     },
     "metadata": {},
     "output_type": "display_data"
    },
    {
     "name": "stdout",
     "output_type": "stream",
     "text": [
      "\n",
      "Top 5 words with absolute loading for PC2\n"
     ]
    },
    {
     "data": {
      "text/html": [
       "<div>\n",
       "<style scoped>\n",
       "    .dataframe tbody tr th:only-of-type {\n",
       "        vertical-align: middle;\n",
       "    }\n",
       "\n",
       "    .dataframe tbody tr th {\n",
       "        vertical-align: top;\n",
       "    }\n",
       "\n",
       "    .dataframe thead th {\n",
       "        text-align: right;\n",
       "    }\n",
       "</style>\n",
       "<table border=\"1\" class=\"dataframe\">\n",
       "  <thead>\n",
       "    <tr style=\"text-align: right;\">\n",
       "      <th></th>\n",
       "      <th>word</th>\n",
       "      <th>abs_loading</th>\n",
       "    </tr>\n",
       "  </thead>\n",
       "  <tbody>\n",
       "    <tr>\n",
       "      <td>7</td>\n",
       "      <td>information</td>\n",
       "      <td>0.604629</td>\n",
       "    </tr>\n",
       "    <tr>\n",
       "      <td>19</td>\n",
       "      <td>computing</td>\n",
       "      <td>0.336743</td>\n",
       "    </tr>\n",
       "    <tr>\n",
       "      <td>18</td>\n",
       "      <td>systems</td>\n",
       "      <td>0.262752</td>\n",
       "    </tr>\n",
       "    <tr>\n",
       "      <td>12</td>\n",
       "      <td>management</td>\n",
       "      <td>0.240699</td>\n",
       "    </tr>\n",
       "    <tr>\n",
       "      <td>22</td>\n",
       "      <td>informatics</td>\n",
       "      <td>0.200191</td>\n",
       "    </tr>\n",
       "  </tbody>\n",
       "</table>\n",
       "</div>"
      ],
      "text/plain": [
       "           word abs_loading\n",
       "7   information    0.604629\n",
       "19    computing    0.336743\n",
       "18      systems    0.262752\n",
       "12   management    0.240699\n",
       "22  informatics    0.200191"
      ]
     },
     "metadata": {},
     "output_type": "display_data"
    }
   ],
   "source": [
    "vocabulary = pipe_features.stages[2].vocabulary\n",
    "\n",
    "pc1_pd = pd.DataFrame([vocabulary, pc1]).T.rename(columns = {0: 'word', 1: 'abs_loading'})\n",
    "pc1_pd.abs_loading = pc1_pd.abs_loading.abs()\n",
    "pc1_pd = pc1_pd.sort_values('abs_loading', ascending = False).head()\n",
    "\n",
    "pc2_pd = pd.DataFrame([vocabulary, pc2]).T.rename(columns = {0: 'word', 1: 'abs_loading'})\n",
    "pc2_pd.abs_loading = pc2_pd.abs_loading.abs()\n",
    "pc2_pd = pc2_pd.sort_values('abs_loading', ascending = False).head()\n",
    "\n",
    "print(\"Top 5 words with absolute loading for PC1\")\n",
    "\n",
    "display(pc1_pd)\n",
    "\n",
    "print(\"\\nTop 5 words with absolute loading for PC2\")\n",
    "\n",
    "display(pc2_pd)"
   ]
  },
  {
   "cell_type": "markdown",
   "metadata": {},
   "source": [
    "##### Grading Feedback Cell"
   ]
  },
  {
   "cell_type": "markdown",
   "metadata": {},
   "source": [
    "Your interpretation here (5 pts): \n",
    "\n",
    "- 'computational' and 'sciences'are highly correlated to PC1. \n",
    "\n",
    "- Correlation of 'physics', 'astronomy' and 'school' with PC1 is hard to interpret as their absolute loadings are less than 0.5.\n",
    "\n",
    "- 'information' is highly correlated to PC2.\n",
    "\n",
    "- Correlation of 'computing', 'systems', 'management' and 'informatics' with PC2 is hard to interpret as their absolute loadings are less than 0.5."
   ]
  },
  {
   "cell_type": "markdown",
   "metadata": {},
   "source": [
    "##### Grading Feedback Cell"
   ]
  },
  {
   "cell_type": "markdown",
   "metadata": {},
   "source": [
    "# Question 5: (10 pts)\n",
    "\n",
    "Create a new pipeline for PCA called `pipe_pca2` where you fit 50 principal components. Extract the `PCAModel` from the stages of this pipeline, and assign to a variable named `explainedVariance` which represents the variance explained by components of the model. Finally, assign to a variable named `best_k` the value $k$ such that ($k+1$)-th component is not able to explain more than 0.01 variance. You can use a for-loop to find such best k.  The value best_k should be be 0 based - in other words present best_k assuming that you started counting at 0."
   ]
  },
  {
   "cell_type": "code",
   "execution_count": 9,
   "metadata": {
    "deletable": false,
    "nbgrader": {
     "checksum": "8f1eb781acb7a61a4176067666602247",
     "grade": false,
     "grade_id": "cell-3c9669871f98d13c",
     "locked": false,
     "schema_version": 1,
     "solution": true
    }
   },
   "outputs": [
    {
     "name": "stdout",
     "output_type": "stream",
     "text": [
      "Best value of k: 30\n"
     ]
    }
   ],
   "source": [
    "pca = PCA(k = 50, inputCol ='centered_features', outputCol = 'scores')\n",
    "\n",
    "pipe_pca2 = Pipeline(stages = [tokenizer, sw_filter, cv, idf, center, pca]).fit(ds_programs_text_df)\n",
    "\n",
    "PCAModel = pipe_pca2.stages[-1]\n",
    "\n",
    "explainedVariance = PCAModel.explainedVariance\n",
    "\n",
    "for i in range(len(explainedVariance)):\n",
    "    \n",
    "    if explainedVariance[i + 1] < 0.01:\n",
    "        best_k = i\n",
    "        break\n",
    "\n",
    "print(\"Best value of k:\", best_k)"
   ]
  },
  {
   "cell_type": "markdown",
   "metadata": {},
   "source": [
    "##### Grading Feedback Cell"
   ]
  },
  {
   "cell_type": "markdown",
   "metadata": {},
   "source": [
    "# Question 6: (10 pts)\n",
    "\n",
    "Create a new pipeline for PCA called pipe_pca3 (similar to pipe_pca2 above) where you fit the maximum possible number of principal components for this dataset. Create a scree plot and a plot of cumulative variance explained."
   ]
  },
  {
   "cell_type": "code",
   "execution_count": 10,
   "metadata": {
    "scrolled": true
   },
   "outputs": [
    {
     "data": {
      "image/png": "[encoded data removed]",
      "text/plain": [
       "<Figure size 432x288 with 1 Axes>"
      ]
     },
     "metadata": {
      "needs_background": "light"
     },
     "output_type": "display_data"
    }
   ],
   "source": [
    "%matplotlib inline\n",
    "\n",
    "pca = PCA(k = len(vocabulary), inputCol ='centered_features', outputCol = 'scores')\n",
    "\n",
    "pipe_pca3 = Pipeline(stages = [tokenizer, sw_filter, cv, idf, center, pca]).fit(ds_programs_text_df)\n",
    "\n",
    "explained_var = pipe_pca3.stages[-1].explainedVariance\n",
    "\n",
    "plt.plot(np.arange(1, len(explained_var) + 1), explained_var)\n",
    "plt.xlabel(\"Principal Component\")\n",
    "plt.ylabel(\"Proportion Variance Explained\")\n",
    "plt.title(\"Scree Plot\")\n",
    "\n",
    "plt.show()"
   ]
  },
  {
   "cell_type": "code",
   "execution_count": 11,
   "metadata": {},
   "outputs": [
    {
     "data": {
      "image/png": "[encoded data removed]",
      "text/plain": [
       "<Figure size 432x288 with 1 Axes>"
      ]
     },
     "metadata": {
      "needs_background": "light"
     },
     "output_type": "display_data"
    }
   ],
   "source": [
    "%matplotlib inline\n",
    "\n",
    "cum_sum = np.cumsum(explained_var)\n",
    "\n",
    "plt.plot(np.arange(1, len(explained_var) + 1), cum_sum)\n",
    "plt.title(\"Cumulative Sum of Variance Explained\")\n",
    "plt.xlabel(\"Cumulative Components\")\n",
    "plt.ylabel(\"Cumulative Sum of Variance Explained\")\n",
    "\n",
    "plt.show()"
   ]
  },
  {
   "cell_type": "markdown",
   "metadata": {},
   "source": [
    "##### Grading Feedback Cell"
   ]
  },
  {
   "cell_type": "markdown",
   "metadata": {},
   "source": [
    "# Question 7: (10 pts)\n",
    "Create a pipeline named pipe_pca4 (similar to pipe_pca3 above) that computes the first 2 principal components.  Add a kmeans objects to the end of pipe_pca4 and compute kmeans with k = 5.  Create a scatter plot PC2 vs. PC1 where each scatter dot is colored by the cluster assignment.  Include a plot legend."
   ]
  },
  {
   "cell_type": "code",
   "execution_count": 12,
   "metadata": {},
   "outputs": [
    {
     "data": {
      "image/png": "[encoded data removed]",
      "text/plain": [
       "<Figure size 403.5x360 with 1 Axes>"
      ]
     },
     "metadata": {
      "needs_background": "light"
     },
     "output_type": "display_data"
    }
   ],
   "source": [
    "%matplotlib inline\n",
    "\n",
    "pca = PCA(k = 2, inputCol ='centered_features', outputCol = 'scores')\n",
    "\n",
    "kmeans = KMeans(k = 5, featuresCol = 'scores', predictionCol = 'kmeans_feat')\n",
    "\n",
    "pipe_pca4 = Pipeline(stages = [tokenizer, sw_filter, cv, idf, center, pca, kmeans]).fit(ds_programs_text_df)\n",
    "\n",
    "pc = np.array(pipe_pca4.transform(ds_programs_text_df).select('scores').rdd.map(lambda x: x['scores']).collect())\n",
    "\n",
    "cluster = np.array(pipe_pca4.transform(ds_programs_text_df).select('kmeans_feat').rdd.map(lambda x: x['kmeans_feat']).collect())\n",
    "\n",
    "km = pd.DataFrame([pc[:, 0], pc[:, 1], cluster]).T.rename(columns = {0: 'PC1', 1: 'PC2', 2: 'Cluster'})\n",
    "km.Cluster = km.Cluster.astype(int)\n",
    "\n",
    "sns.lmplot(data = km, x = 'PC1', y = 'PC2', hue = 'Cluster', fit_reg = False, legend = True, legend_out = True).set(title = 'PC2 vs PC1')\n",
    "\n",
    "plt.show()"
   ]
  },
  {
   "cell_type": "markdown",
   "metadata": {},
   "source": [
    "##### Grading Feedback Cell"
   ]
  },
  {
   "cell_type": "markdown",
   "metadata": {},
   "source": [
    "# Question 8: (10 pts)\n",
    "Starting with pipe_pca2, transform the pipeline and save the resulting dataframe to a variable named `pca_fun`.  Extract the output from the standard scaler column from the first row of pca_fun and store in a variable called `z`. Manually compute 10 PCA scores by projecting z onto the first 10 loading vectors. Save the 10 projected pca scores in a varialbe called `projection`.  Extract the first 10 PCA scores from the first row of pca_fun and save them in a variable named `model_scores`.  Print `projection` and `model_scores`.  Compare `projection` to `model_scores` and explain why they are the same or different. "
   ]
  },
  {
   "cell_type": "code",
   "execution_count": 13,
   "metadata": {},
   "outputs": [
    {
     "name": "stdout",
     "output_type": "stream",
     "text": [
      "10 PCA manually computed: [-0.26874416 -0.43443022 -1.99990463 -0.45846524  0.14171739 -0.78124129\n",
      " -1.46182952 -0.38379532  0.01341778 -0.24463091]\n",
      "\n",
      "10 PCA extracted from the model: [-0.26874416 -0.43443022 -1.99990463 -0.45846524  0.14171739 -0.78124129\n",
      " -1.46182952 -0.38379532  0.01341778 -0.24463091]\n"
     ]
    }
   ],
   "source": [
    "pca_fun = pipe_pca2.transform(ds_programs_text_df)\n",
    "\n",
    "z = pca_fun.select('centered_features', 'scores').first()['centered_features']\n",
    "\n",
    "loadings = pipe_pca2.stages[5].pc.toArray()\n",
    "\n",
    "projection = z.dot(loadings[:, : 10])\n",
    "\n",
    "print(\"10 PCA manually computed:\", projection)\n",
    "\n",
    "model_scores = pca_fun.select('centered_features', 'scores').first()['scores'][: 10]\n",
    "\n",
    "print(\"\\n10 PCA extracted from the model:\", model_scores)"
   ]
  },
  {
   "cell_type": "markdown",
   "metadata": {},
   "source": [
    "##### Grading Feedback Cell"
   ]
  },
  {
   "cell_type": "markdown",
   "metadata": {},
   "source": [
    "Your explanation here (5 pts): \n",
    "\n",
    "The scores are produced by projecting the data observations onto the loading vectors. A projection is performed by multiplying the loading vector by the data observations which projects the observation in the direction of the loading vector. Hence, both \"projection\" and \"model_scores\" are the same."
   ]
  },
  {
   "cell_type": "markdown",
   "metadata": {},
   "source": [
    "##### Grading Feedback Cell"
   ]
  },
  {
   "cell_type": "markdown",
   "metadata": {},
   "source": [
    "# Question 9: (10 pts)\n",
    "Using PCA loading vectors, perform an inverse transform on the `projection` variable and store the result in a variable named inverse.  Print `inverse` and the original `z` data.  Explain why the inverse data is the same as `z` (or really close to `z`), or why it is different than `z`.  "
   ]
  },
  {
   "cell_type": "code",
   "execution_count": 14,
   "metadata": {},
   "outputs": [
    {
     "name": "stdout",
     "output_type": "stream",
     "text": [
      "Inverse: [-0.0398181   0.24320586 -0.63158572 -0.26995935  0.33956369  0.12125008\n",
      "  2.06481351 -0.25114705 -0.39096829  0.00739924]\n",
      "\n",
      "z: [ 0.05718022  0.30526264 -0.4954898  -0.36295505  0.8641986  -0.24098572\n",
      "  2.21867819 -0.23897148 -0.21909331 -0.20638446]\n"
     ]
    }
   ],
   "source": [
    "inverse = loadings[:, : 10].dot(projection)\n",
    "    \n",
    "print(\"Inverse:\", inverse[: 10])\n",
    "\n",
    "print(\"\\nz:\", z[:10])"
   ]
  },
  {
   "cell_type": "markdown",
   "metadata": {},
   "source": [
    "##### Grading Feedback Cell"
   ]
  },
  {
   "cell_type": "markdown",
   "metadata": {},
   "source": [
    "Your explanation here (5 pts): \n",
    "\n",
    "The \"inverse\" values are quite different compared to the actual \"z\" value as we are using only the first 10 loadings to calculate the inverse transform. The more loadings we use for the inverse transform, the closer the approximation to the original z."
   ]
  },
  {
   "cell_type": "markdown",
   "metadata": {},
   "source": [
    "##### Grading Feedbck Cell"
   ]
  },
  {
   "cell_type": "markdown",
   "metadata": {},
   "source": [
    "# Question 10: (10 pts)\n",
    "\n",
    "Think about the cumulative variance and the scree plot from the question above.  If you were building a machine learning model, how many principal components would you pick for your model.  Explain why.  "
   ]
  },
  {
   "cell_type": "markdown",
   "metadata": {},
   "source": [
    "Your Answer Here:\n",
    "\n",
    "Deciding on number of principal components to use for building a machine learning model is not a simple task. The scree plot can be used to decide on number of principal components by looking for an elbow in the plot. The cumulative variance plot can be used to determine how much of variance is explanied by the number of principal components selected from the scree plot."
   ]
  },
  {
   "cell_type": "markdown",
   "metadata": {},
   "source": [
    "##### Grading Feedback Cell"
   ]
  }
 ],
 "metadata": {
  "celltoolbar": "Edit Metadata",
  "kernelspec": {
   "display_name": "Python 3",
   "language": "python",
   "name": "python3"
  },
  "language_info": {
   "codemirror_mode": {
    "name": "ipython",
    "version": 3
   },
   "file_extension": ".py",
   "mimetype": "text/x-python",
   "name": "python",
   "nbconvert_exporter": "python",
   "pygments_lexer": "ipython3",
   "version": "3.7.4"
  }
 },
 "nbformat": 4,
 "nbformat_minor": 2
}
