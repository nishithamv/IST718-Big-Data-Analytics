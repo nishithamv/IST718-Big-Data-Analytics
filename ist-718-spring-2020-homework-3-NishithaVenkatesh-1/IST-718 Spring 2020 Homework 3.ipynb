{
 "cells": [
  {
   "cell_type": "markdown",
   "metadata": {},
   "source": [
    "##### Grading Feedback Cell"
   ]
  },
  {
   "cell_type": "markdown",
   "metadata": {},
   "source": [
    "# IST 718: Big Data Analytics\n",
    "\n",
    "- Professor: Willard Williamson <wewillia@syr.edu>\n",
    "- Faculty Assistant: Yash Pasar <yspasar@syr.edu>\n",
    "## General instructions:\n",
    "\n",
    "- You are welcome to discuss the problems with your classmates but __you are not allowed to copy any part of your answers from your classmates.  Short code snippets are allowed from the internet.  Code from the class text books or class provided code can be copied in its entirety.__\n",
    "- There could be tests in some cells (i.e., `assert` and `np.testing.` statements). These tests (if present) are used to grade your answers. **However, the professor and FAs could use __additional__ test for your answer. Think about cases where your code should run even if it passess all the tests you see.**\n",
    "- Before submitting your work, remember to check for run time errors with the following procedure:\n",
    "`Kernel`$\\rightarrow$`Restart and Run All`.  All runtime errors will result in a minimum penalty of half off.\n",
    "- Data Bricks is the official class runtime environment so you should test your code on Data Bricks before submission.  If there is a runtime problem in the grading environment, we will try your code on Data Bricks before making a final grading decision.\n",
    "- All plots shall include a title, and axis labels.\n",
    "- Grading feedback cells are there for graders to provide feedback to students.  Don't change or remove grading feedback cells.\n",
    "- Don't add or remove files from your git repo.\n",
    "- Do not change file names in your repo.  This also means don't change the title of the ipython notebook.\n",
    "- __Only use spark, spark machine learning, spark data frames, RDD's, and map reduce to solve all problems unless instructed otherwise.__"
   ]
  },
  {
   "cell_type": "code",
   "execution_count": 1,
   "metadata": {
    "deletable": false,
    "editable": false,
    "nbgrader": {
     "checksum": "34b858b2a4dae4c0c6569a235758d7e7",
     "grade": true,
     "grade_id": "cell-16fe9b731c74bdb1",
     "locked": true,
     "points": 5,
     "schema_version": 1,
     "solution": false
    }
   },
   "outputs": [],
   "source": [
    "# read only cell\n",
    "\n",
    "import os\n",
    "\n",
    "# get the databricks runtime version\n",
    "db_env = os.getenv(\"DATABRICKS_RUNTIME_VERSION\")\n",
    "\n",
    "# Define a function to read the data file.  The full path data file name is constructed\n",
    "# by checking runtime environment variables to determine if the runtime environment is \n",
    "# databricks, or a student's personal computer.  The full path file name is then\n",
    "# constructed based on the runtime env.\n",
    "# \n",
    "# Params\n",
    "#   data_file_name: The base name of the data file to load\n",
    "# \n",
    "# Returns the full path file name based on the runtime env\n",
    "#\n",
    "def get_training_filename(data_file_name):    \n",
    "    # if the databricks env var exists\n",
    "    if db_env != None:\n",
    "        # build the full path file name assuming data brick env\n",
    "        full_path_name = \"/FileStore/tables/%s\" % data_file_name\n",
    "    # else the data is assumed to be in the same dir as this notebook\n",
    "    else:\n",
    "        # Assume the student is running on their own computer and load the data\n",
    "        # file from the same dir as this notebook\n",
    "        full_path_name = data_file_name\n",
    "    \n",
    "    # return the full path file name to the caller\n",
    "    return full_path_name"
   ]
  },
  {
   "cell_type": "code",
   "execution_count": 2,
   "metadata": {},
   "outputs": [],
   "source": [
    "# import statements here\n",
    "# create spark and sparkcontext objects\n",
    "from pyspark.sql import SparkSession\n",
    "from pyspark.sql import Row\n",
    "import numpy as np\n",
    "import pandas as pd\n",
    "spark = SparkSession.builder.getOrCreate()\n",
    "sc = spark.sparkContext"
   ]
  },
  {
   "cell_type": "markdown",
   "metadata": {},
   "source": [
    "# Moore's Law\n",
    "The frequently cited “Moore’s Law” originated with a 1965 article in Electronics magazine that said the number of transistors in a given area would double every year."
   ]
  },
  {
   "cell_type": "markdown",
   "metadata": {},
   "source": [
    "### ONLY use spark functions unless the question instructions say otherwise."
   ]
  },
  {
   "cell_type": "markdown",
   "metadata": {},
   "source": [
    "## Question 1 Load the Transistor Data (5 pts)\n",
    "- Read the MooresLaw.txt file into a spark data frame named trans_df using only spark.  The columns should be named as per the header in the txt file.\n",
    "- Print the first 5 rows of trans_df \n",
    "- Print the shape of trans_df (num_rows, num_cols)\n",
    "- Make sure to use the get_training_filename function above to obtain the file name based on your runtime environment"
   ]
  },
  {
   "cell_type": "code",
   "execution_count": 3,
   "metadata": {},
   "outputs": [
    {
     "name": "stdout",
     "output_type": "stream",
     "text": [
      "+---------------+------+-----------+\n",
      "|Intel_Processor|  Year|Transistors|\n",
      "+---------------+------+-----------+\n",
      "|           4004|1971.9|       2300|\n",
      "|           8008|1972.3|       3500|\n",
      "|           8080|1974.3|       6000|\n",
      "|           8085|1976.3|       6500|\n",
      "|           8086|1978.5|      29000|\n",
      "+---------------+------+-----------+\n",
      "only showing top 5 rows\n",
      "\n",
      "Shape of trans_df: (74, 3)\n"
     ]
    }
   ],
   "source": [
    "data_rdd = sc.textFile(get_training_filename('mooresLaw.txt'))\n",
    "\n",
    "def map_processor(e):\n",
    "    \n",
    "    x = e.split('\\t')\n",
    "        \n",
    "    return Row(Intel_Processor = x[0], Year = x[1], Transistors = x[2])\n",
    "\n",
    "trans_df = data_rdd.map(map_processor).filter(lambda x: x[0] != 'Intel Processor').toDF()\n",
    "\n",
    "trans_df = trans_df.selectExpr(\"cast(Intel_Processor as string) Intel_Processor\",\n",
    "                               \"cast(Year as float) Year\",\n",
    "                               \"cast(Transistors as long) Transistors\")\n",
    "trans_df.show(5)\n",
    "\n",
    "print(\"Shape of trans_df:\", (trans_df.count(), len(trans_df.columns)))"
   ]
  },
  {
   "cell_type": "markdown",
   "metadata": {},
   "source": [
    "##### Grading Feedback Cell"
   ]
  },
  {
   "cell_type": "markdown",
   "metadata": {},
   "source": [
    "## Question 2 Transistor Data Cleanup (5 pts)\n",
    "- Drop all columns in trans_df except the Year and Transistors column.\n",
    "- Drop rows in trans_df that contain NaN vales\n",
    "- Prove that trans_df does not contain NaN values by showing a single integer sum of the number of Nan values in the dataframe (should equal 0)"
   ]
  },
  {
   "cell_type": "code",
   "execution_count": 4,
   "metadata": {},
   "outputs": [
    {
     "name": "stdout",
     "output_type": "stream",
     "text": [
      "Number of NaN values in trans_df dataframe: 0\n"
     ]
    }
   ],
   "source": [
    "trans_df = trans_df.drop('Intel_Processor')\n",
    "\n",
    "trans_df = trans_df.filter((trans_df.Year.isNotNull()) & (trans_df.Transistors.isNotNull()))\n",
    "\n",
    "print(\"Number of NaN values in trans_df dataframe:\", trans_df.filter((trans_df.Year.isNull()) | (trans_df.Transistors.isNull())).count())"
   ]
  },
  {
   "cell_type": "markdown",
   "metadata": {},
   "source": [
    "##### Grading Feedback Cell"
   ]
  },
  {
   "cell_type": "markdown",
   "metadata": {},
   "source": [
    "## Question 3 Transistor Data Exploration (10 pts)\n"
   ]
  },
  {
   "cell_type": "markdown",
   "metadata": {},
   "source": [
    "### Question 3a (3 pts) \n",
    "Explore the data in trans_df by plotting transistors vs. year with a scatter plot.  You may use packages outside of spark to perform the task in question 3a."
   ]
  },
  {
   "cell_type": "code",
   "execution_count": 5,
   "metadata": {},
   "outputs": [
    {
     "data": {
      "image/png": "[encoded data removed]",
      "text/plain": [
       "<Figure size 432x288 with 1 Axes>"
      ]
     },
     "metadata": {
      "needs_background": "light"
     },
     "output_type": "display_data"
    }
   ],
   "source": [
    "%matplotlib inline\n",
    "import matplotlib.pyplot as plt\n",
    "\n",
    "plt.scatter(trans_df.rdd.map(lambda row: row.Year).collect(), \n",
    "            trans_df.rdd.map(lambda row: row.Transistors).collect())\n",
    "plt.xlabel(\"Year\")\n",
    "plt.ylabel(\"Transistors\")\n",
    "plt.title(\"Scatter Plot - Transistors vs Year\")\n",
    "\n",
    "plt.show()"
   ]
  },
  {
   "cell_type": "markdown",
   "metadata": {},
   "source": [
    "##### Grading Feedback Cell"
   ]
  },
  {
   "cell_type": "markdown",
   "metadata": {},
   "source": [
    "### Question 3b (3 pts)\n",
    "Compute the correlation between year and number of transistors in the trans_df using spark.  Print the resulting correlation value.  Interpret the correlation in words in the provided markdown cell."
   ]
  },
  {
   "cell_type": "code",
   "execution_count": 6,
   "metadata": {},
   "outputs": [
    {
     "name": "stdout",
     "output_type": "stream",
     "text": [
      "+-----------------------+\n",
      "|corr(Year, Transistors)|\n",
      "+-----------------------+\n",
      "|     0.5434354144405419|\n",
      "+-----------------------+\n",
      "\n"
     ]
    }
   ],
   "source": [
    "from pyspark.sql import functions as fn\n",
    "\n",
    "trans_df.select(fn.corr('Year', 'Transistors')).show()"
   ]
  },
  {
   "cell_type": "markdown",
   "metadata": {},
   "source": [
    "##### Grading Feedback Cell"
   ]
  },
  {
   "cell_type": "markdown",
   "metadata": {},
   "source": [
    "### Question 3c (4 pts) \n",
    "- Interpret the correlation value computed above in the markdown cell below."
   ]
  },
  {
   "cell_type": "markdown",
   "metadata": {},
   "source": [
    "- There is a moderate positive linear relationship between Years and Transistors.\n",
    "- The number of transistors increases with every passing year."
   ]
  },
  {
   "cell_type": "markdown",
   "metadata": {},
   "source": [
    "##### Grading Feedback Cell"
   ]
  },
  {
   "cell_type": "markdown",
   "metadata": {},
   "source": [
    "## Question 4 Transform the Data (10 pts)"
   ]
  },
  {
   "cell_type": "markdown",
   "metadata": {},
   "source": [
    "### Question 4a (5 pts)\n",
    "- Create a new data frame named trans_df_2 that adds a log transform to the transistors col in trans_df.\n",
    "- Print the head of trans_df_2\n",
    "- Print the shape of trans_df_2"
   ]
  },
  {
   "cell_type": "code",
   "execution_count": 7,
   "metadata": {},
   "outputs": [
    {
     "name": "stdout",
     "output_type": "stream",
     "text": [
      "+------+-----------+------------------+\n",
      "|  Year|Transistors|   log_Transistors|\n",
      "+------+-----------+------------------+\n",
      "|1971.9|       2300|7.7406644019172415|\n",
      "|1972.3|       3500| 8.160518247477505|\n",
      "|1974.3|       6000| 8.699514748210191|\n",
      "|1976.3|       6500| 8.779557455883728|\n",
      "|1978.5|      29000|10.275051108968611|\n",
      "+------+-----------+------------------+\n",
      "only showing top 5 rows\n",
      "\n",
      "Shape of trans_df_2: (74, 3)\n"
     ]
    }
   ],
   "source": [
    "trans_df_2 = trans_df.withColumn(\"log_Transistors\", fn.log(\"Transistors\"))\n",
    "trans_df_2.show(5)\n",
    "\n",
    "print(\"Shape of trans_df_2:\", (trans_df_2.count(), len(trans_df_2.columns)))"
   ]
  },
  {
   "cell_type": "markdown",
   "metadata": {},
   "source": [
    "##### Grading Feedback Cell"
   ]
  },
  {
   "cell_type": "markdown",
   "metadata": {},
   "source": [
    "### Question 4b (5 pts)\n",
    "- Using trans_df_2, create a scatter plot of log transistors vs. year.  You may use packages outside of spark for this task."
   ]
  },
  {
   "cell_type": "code",
   "execution_count": 8,
   "metadata": {},
   "outputs": [
    {
     "data": {
      "image/png": "[encoded data removed]",
      "text/plain": [
       "<Figure size 432x288 with 1 Axes>"
      ]
     },
     "metadata": {
      "needs_background": "light"
     },
     "output_type": "display_data"
    }
   ],
   "source": [
    "plt.scatter(trans_df_2.rdd.map(lambda row: row.Year).collect(), \n",
    "            trans_df_2.rdd.map(lambda row: row.log_Transistors).collect())\n",
    "plt.xlabel(\"Year\")\n",
    "plt.ylabel(\"log_Transistors\")\n",
    "plt.title(\"Scatter Plot - log_Transistors vs Year\")\n",
    "\n",
    "plt.show()"
   ]
  },
  {
   "cell_type": "markdown",
   "metadata": {},
   "source": [
    "##### Grading Feedback Cell"
   ]
  },
  {
   "cell_type": "markdown",
   "metadata": {},
   "source": [
    "## Question 5 Fit a Linear Regression Pipeline (10 pts)"
   ]
  },
  {
   "cell_type": "markdown",
   "metadata": {},
   "source": [
    "### Question 5a ( 2 pts)\n",
    "- Split trans_df_2 into train and test splits with a 60:40 ratio.  Name the resulting data frames trans_train and trans_test.  Print the shape of of the train and test data frames."
   ]
  },
  {
   "cell_type": "code",
   "execution_count": 9,
   "metadata": {},
   "outputs": [
    {
     "name": "stdout",
     "output_type": "stream",
     "text": [
      "Shape of train dataframe: (44, 3)\n",
      "Shape of test dataframe: (30, 3)\n"
     ]
    }
   ],
   "source": [
    "trans_train, trans_test = trans_df_2.randomSplit([0.6, 0.4], seed = 11)\n",
    "\n",
    "print(\"Shape of train dataframe:\", (trans_train.count(), len(trans_train.columns)))\n",
    "\n",
    "print(\"Shape of test dataframe:\", (trans_test.count(), len(trans_test.columns)))"
   ]
  },
  {
   "cell_type": "markdown",
   "metadata": {},
   "source": [
    "##### Grading Feedback Cell"
   ]
  },
  {
   "cell_type": "markdown",
   "metadata": {},
   "source": [
    "### Question 5b (6 pts)\n",
    "- Create a spark pipeline named trans_pipe to perform linear regression\n",
    "- Fit the pipeline using the transistors as the targets and year as the features.  Name the resulting fitted pipeline fitted_trans_pipe.\n",
    "- Fit another pipeline using the log transistors column as the targets and year as the features.  Name the resulting fitted pipeline log_fitted_trans_pipe."
   ]
  },
  {
   "cell_type": "code",
   "execution_count": 10,
   "metadata": {},
   "outputs": [],
   "source": [
    "from pyspark.ml import feature, regression, evaluation, Pipeline\n",
    "\n",
    "trans_pipe = Pipeline(stages = [feature.VectorAssembler(inputCols = ['Year'], outputCol='features'),\n",
    "                                regression.LinearRegression(featuresCol = 'features', labelCol = 'Transistors')])\n",
    "\n",
    "fitted_trans_pipe = trans_pipe.fit(trans_train)\n",
    "\n",
    "log_fitted_trans_pipe = Pipeline(stages = [feature.VectorAssembler(inputCols = ['Year'], outputCol='features'),\n",
    "                                           regression.LinearRegression(featuresCol = 'features', labelCol = 'log_Transistors')]).fit(trans_train)"
   ]
  },
  {
   "cell_type": "markdown",
   "metadata": {},
   "source": [
    "##### Grading Feedback Cell"
   ]
  },
  {
   "cell_type": "markdown",
   "metadata": {},
   "source": [
    "### Question 5c (2 pts)\n",
    "- Print the linear regression coefficient in the linear regression object in each fitted model\n",
    "- Print the linear regression Y intercept in the linear regression object in each fitted model"
   ]
  },
  {
   "cell_type": "code",
   "execution_count": 11,
   "metadata": {},
   "outputs": [
    {
     "name": "stdout",
     "output_type": "stream",
     "text": [
      "trans fitted model\n",
      "Coefficient: [70831544.48925729]\n",
      "Intercept: -140966842837.0843\n",
      "\n",
      "log fitted model\n",
      "Coefficient: [0.330169416023645]\n",
      "Intercept: -642.9934672105999\n"
     ]
    }
   ],
   "source": [
    "print(\"trans fitted model\")\n",
    "\n",
    "print(\"Coefficient:\", fitted_trans_pipe.stages[1].coefficients)\n",
    "\n",
    "print(\"Intercept:\", fitted_trans_pipe.stages[1].intercept)\n",
    "\n",
    "print(\"\\nlog fitted model\")\n",
    "\n",
    "print(\"Coefficient:\", log_fitted_trans_pipe.stages[1].coefficients)\n",
    "\n",
    "print(\"Intercept:\", log_fitted_trans_pipe.stages[1].intercept)"
   ]
  },
  {
   "cell_type": "markdown",
   "metadata": {},
   "source": [
    "##### Grading Feedback Cell"
   ]
  },
  {
   "cell_type": "markdown",
   "metadata": {},
   "source": [
    "### Question 6 Test the linear regression pipeline (10 pts)"
   ]
  },
  {
   "cell_type": "markdown",
   "metadata": {},
   "source": [
    "### Question 6a (5 pts)\n",
    "- Compute mean squared error (MSE) using the transform method on each fitted model.\n",
    "- Print the resulting MSEs."
   ]
  },
  {
   "cell_type": "code",
   "execution_count": 12,
   "metadata": {},
   "outputs": [
    {
     "name": "stdout",
     "output_type": "stream",
     "text": [
      "MSE for trans fitted model:\n",
      "+--------------------+\n",
      "|                 mse|\n",
      "+--------------------+\n",
      "|7.278821655465393...|\n",
      "+--------------------+\n",
      "\n",
      "MSE for log fitted model:\n",
      "+-----------------+\n",
      "|              mse|\n",
      "+-----------------+\n",
      "|0.379895002162536|\n",
      "+-----------------+\n",
      "\n"
     ]
    }
   ],
   "source": [
    "mse = fn.mean((fn.col('Transistors') - fn.col('prediction')) ** 2).alias('mse')\n",
    "\n",
    "print(\"MSE for trans fitted model:\")\n",
    "\n",
    "fitted_trans_pipe.transform(trans_test).select(mse).show()\n",
    "\n",
    "mse = fn.mean((fn.col('log_Transistors') - fn.col('prediction')) ** 2).alias('mse')\n",
    "\n",
    "print(\"MSE for log fitted model:\")\n",
    "\n",
    "log_fitted_trans_pipe.transform(trans_test).select(mse).show()"
   ]
  },
  {
   "cell_type": "markdown",
   "metadata": {},
   "source": [
    "##### Grading Feedback Cell"
   ]
  },
  {
   "cell_type": "markdown",
   "metadata": {},
   "source": [
    "### Question 6b (5 pts)\n",
    "- Using log_fitted_trans_pipe and any needed support code, predict and print the number of transistors for the years 1970.0, 1980.0, 1990.0, 2000.0, and 2010.0"
   ]
  },
  {
   "cell_type": "code",
   "execution_count": 13,
   "metadata": {},
   "outputs": [
    {
     "name": "stdout",
     "output_type": "stream",
     "text": [
      "Year \t Prediction\n",
      "1970.0 \t [1703.23107074]\n",
      "1980.0 \t [46257.3901044]\n",
      "1990.0 \t [1256286.46401989]\n",
      "2000.0 \t [34118995.3890028]\n",
      "2010.0 \t [9.26624524e+08]\n"
     ]
    }
   ],
   "source": [
    "years = [1970.0, 1980.0, 1990.0, 2000.0, 2010.0]\n",
    "\n",
    "print(\"Year \\t Prediction\")\n",
    "\n",
    "for x in years:  \n",
    "    \n",
    "    y = np.exp(((log_fitted_trans_pipe.stages[1].coefficients) * x) + (log_fitted_trans_pipe.stages[1].intercept))\n",
    "    \n",
    "    print(x, \"\\t\", y)"
   ]
  },
  {
   "cell_type": "markdown",
   "metadata": {},
   "source": [
    "##### Grading Feedback Cell"
   ]
  },
  {
   "cell_type": "markdown",
   "metadata": {},
   "source": [
    "# Climate Change"
   ]
  },
  {
   "cell_type": "markdown",
   "metadata": {},
   "source": [
    "## Question 7 Load the global warming data (5 pts)\n",
    "- Read the globalWarm.txt file into a spark data frame named global_warm_df using only spark.  The columns should be named as per the header in the txt file.\n",
    "- Print the first 5 rows of global_warm_df \n",
    "- Print the shape of global_warm_df (num_rows, num_cols)\n",
    "- Make sure to use the get_training_filename function above to obtain the file name based on your runtime environment\n",
    "- A data description follows:\n",
    "<ul>\n",
    "<li/>Temp = annual surface temperature measured in 1/100<sup>o</sup> C   over the 1950-1980 mean.  \n",
    "<li/>Solar = annual mean intensity of sunlight piercing the atmosphere\n",
    "<li/>CO2 = annual average fraction CO<sub>2</sub> in atmosphere (#molecules/#molecules of dry air) \n",
    "<li/>IceShelf = sea ice in 1MM square miles  hypothesized to reflect heat\n",
    "<li/>Transmission = volcanic MLO transmission data where eruptions release greenhouse gases but also decrease the temperature\n",
    "</ul>"
   ]
  },
  {
   "cell_type": "code",
   "execution_count": 14,
   "metadata": {},
   "outputs": [
    {
     "name": "stdout",
     "output_type": "stream",
     "text": [
      "+----+----+------+-------+------------+--------+\n",
      "|Year|Temp|   CO2|  Solar|Transmission|IceShelf|\n",
      "+----+----+------+-------+------------+--------+\n",
      "|1979|   8|336.67|1366.43|   0.9284667|     7.2|\n",
      "|1980|  19|338.57|1366.51|  0.92966664|    7.85|\n",
      "|1981|  26|339.92|1366.51|  0.92976665|    7.25|\n",
      "|1982|   4| 341.3|1366.16|   0.8530667|    7.45|\n",
      "|1983|  25|342.71|1366.18|  0.89771664|    7.52|\n",
      "+----+----+------+-------+------------+--------+\n",
      "only showing top 5 rows\n",
      "\n",
      "Shape of global_warm_df: (32, 6)\n"
     ]
    }
   ],
   "source": [
    "data_rdd = sc.textFile(get_training_filename('globalWarm.txt'))\n",
    "\n",
    "def map_globalwarm(e):\n",
    "    \n",
    "    x = e.split('\\t')\n",
    "    \n",
    "    return Row(Year = x[0], Temp = x[1], CO2 = x[2], Solar = x[3], Transmission = x[4], IceShelf = x[5])\n",
    "\n",
    "global_warm_df = data_rdd.map(map_globalwarm).filter(lambda x: x[0] != 'CO2').toDF()\n",
    "\n",
    "global_warm_df = global_warm_df.selectExpr(\"cast(Year as int) Year\", \n",
    "                                           \"cast(Temp as int) Temp\",\n",
    "                                           \"cast(CO2 as float) CO2\",\n",
    "                                           \"cast(Solar as float) Solar\",\n",
    "                                           \"cast(Transmission as float) Transmission\",\n",
    "                                           \"cast(IceShelf as float) IceShelf\")\n",
    "global_warm_df.show(5)\n",
    "\n",
    "print(\"Shape of global_warm_df:\", (global_warm_df.count(), len(global_warm_df.columns)))"
   ]
  },
  {
   "cell_type": "markdown",
   "metadata": {},
   "source": [
    "##### Grading Feedback Cell"
   ]
  },
  {
   "cell_type": "markdown",
   "metadata": {},
   "source": [
    "## Question 8 Global Warming Data Exploration (5 pts)\n",
    "- Create a temperature vs. year scatter plot from global_warm_df\n",
    "- You may use packages outside of spark for this question"
   ]
  },
  {
   "cell_type": "code",
   "execution_count": 15,
   "metadata": {},
   "outputs": [
    {
     "data": {
      "image/png": "[encoded data removed]",
      "text/plain": [
       "<Figure size 432x288 with 1 Axes>"
      ]
     },
     "metadata": {
      "needs_background": "light"
     },
     "output_type": "display_data"
    }
   ],
   "source": [
    "plt.scatter(global_warm_df.rdd.map(lambda row: row.Year).collect(), \n",
    "            global_warm_df.rdd.map(lambda row: row.Temp).collect())\n",
    "plt.xlabel(\"Year\")\n",
    "plt.ylabel(\"Tempeature\")\n",
    "plt.title(\"Scatter Plot - Temperature vs Year\")\n",
    "\n",
    "plt.show()"
   ]
  },
  {
   "cell_type": "markdown",
   "metadata": {},
   "source": [
    "##### Grading Feedback Cell"
   ]
  },
  {
   "cell_type": "markdown",
   "metadata": {},
   "source": [
    "## Question 9 Global Warming Data Exploration (10 pts)\n"
   ]
  },
  {
   "cell_type": "markdown",
   "metadata": {},
   "source": [
    "### Question 9a (5 pts)\n",
    "- Using global_warm_df, create a pair plot of the following variables in a grid:  Temp, CO<sub>2</sub>, Solar, Transmission, and IceShelf.\n",
    "- You may use packages outside of spark for this question"
   ]
  },
  {
   "cell_type": "code",
   "execution_count": 16,
   "metadata": {},
   "outputs": [
    {
     "data": {
      "image/png": "[encoded data removed]",
      "text/plain": [
       "<Figure size 900x900 with 30 Axes>"
      ]
     },
     "metadata": {
      "needs_background": "light"
     },
     "output_type": "display_data"
    }
   ],
   "source": [
    "%matplotlib inline\n",
    "import seaborn as sns\n",
    "\n",
    "pgw_df = global_warm_df.toPandas()\n",
    "pgw_df = pgw_df.drop(columns = 'Year')\n",
    "\n",
    "grid = sns.pairplot(pgw_df)\n",
    "grid.map_diag(plt.hist, edgecolor = \"w\")\n",
    "\n",
    "f = grid.fig\n",
    "f.suptitle(\"Pair Plot - Temp, CO2, Solar, Transmission, IceShelf\", fontsize = 14)\n",
    "f.subplots_adjust(top=0.93, wspace=0.3)\n",
    "\n",
    "plt.show(f)"
   ]
  },
  {
   "cell_type": "markdown",
   "metadata": {},
   "source": [
    "##### Grading Feedback Cell"
   ]
  },
  {
   "cell_type": "markdown",
   "metadata": {},
   "source": [
    "### Question 9b (5 pts)\n",
    "- Compute a correlation matrix between Temp, CO<sub>2</sub>, Solar, Transmission, and IceShelf using spark.\n",
    "- Print a labeled correlation matrix."
   ]
  },
  {
   "cell_type": "code",
   "execution_count": 17,
   "metadata": {},
   "outputs": [
    {
     "name": "stdout",
     "output_type": "stream",
     "text": [
      "+------------------+-----------+-----------+-----------+------------+-----------+\n",
      "|Correlation_Matrix|       Temp|        CO2|      Solar|Transmission|   IceShelf|\n",
      "+------------------+-----------+-----------+-----------+------------+-----------+\n",
      "|              Temp|        1.0|  0.8609275|-0.34034297|  0.43539405| -0.7474255|\n",
      "|               CO2|  0.8609275|        1.0|-0.54282194|   0.3282278| -0.8469608|\n",
      "|             Solar|-0.34034297|-0.54282194|        1.0|  -0.2058605| 0.47069034|\n",
      "|      Transmission| 0.43539405|  0.3282278| -0.2058605|         1.0|-0.30248398|\n",
      "|          IceShelf| -0.7474255| -0.8469608| 0.47069034| -0.30248398|        1.0|\n",
      "+------------------+-----------+-----------+-----------+------------+-----------+\n",
      "\n"
     ]
    }
   ],
   "source": [
    "from pyspark.ml.stat import Correlation\n",
    "\n",
    "df = feature.VectorAssembler(inputCols = ['Temp', 'CO2', 'Solar', 'Transmission', 'IceShelf'], \n",
    "                             outputCol = \"features\").transform(global_warm_df)\n",
    "\n",
    "corr_matrix = Correlation.corr(df, \"features\").head()\n",
    "\n",
    "rows = corr_matrix[0].toArray().tolist()\n",
    "features = ('Temp', 'CO2', 'Solar', 'Transmission', 'IceShelf')\n",
    "\n",
    "for i in range(len(features)):\n",
    "    \n",
    "    rows[i].insert(0, features[i])\n",
    "\n",
    "cor_df = spark.createDataFrame(rows, ['Correlation_Matrix', 'Temp', 'CO2', 'Solar', 'Transmission', 'IceShelf'])\n",
    "cor_df = cor_df.selectExpr(\"cast(Correlation_Matrix as string) Correlation_Matrix\", \n",
    "                     \"cast(Temp as float) Temp\",\n",
    "                     \"cast(CO2 as float) CO2\",\n",
    "                     \"cast(Solar as float) Solar\",\n",
    "                     \"cast(Transmission as float) Transmission\",\n",
    "                     \"cast(IceShelf as float) IceShelf\")\n",
    "cor_df.show()\n"
   ]
  },
  {
   "cell_type": "markdown",
   "metadata": {},
   "source": [
    "##### Grading Feedback Cell"
   ]
  },
  {
   "cell_type": "markdown",
   "metadata": {},
   "source": [
    "## Question 10 Fit Linear Regression Pipelines (10 pts)"
   ]
  },
  {
   "cell_type": "markdown",
   "metadata": {},
   "source": [
    "### Question 10a (2 pts)\n",
    "Split global_warm_df into train and test splits with a 60:40 ratio.  Name the resulting data frames gw_train and gw_test.  Print the shape of of the train and test data frames.   "
   ]
  },
  {
   "cell_type": "code",
   "execution_count": 18,
   "metadata": {},
   "outputs": [
    {
     "name": "stdout",
     "output_type": "stream",
     "text": [
      "Shape of train dataframe: (19, 6)\n",
      "Shape of test dataframe: (13, 6)\n"
     ]
    }
   ],
   "source": [
    "gw_train, gw_test = global_warm_df.randomSplit([0.6, 0.4], seed = 12)\n",
    "\n",
    "print(\"Shape of train dataframe:\", (gw_train.count(), len(gw_train.columns)))\n",
    "\n",
    "print(\"Shape of test dataframe:\", (gw_test.count(), len(gw_test.columns)))"
   ]
  },
  {
   "cell_type": "markdown",
   "metadata": {},
   "source": [
    "##### Grading Feedback Cell"
   ]
  },
  {
   "cell_type": "markdown",
   "metadata": {},
   "source": [
    "### Question 10b (6 pts)\n",
    "- Create a spark pipeline named global_warm_pipe to perform linear regression.\n",
    "- Use the global_warm_df data frame\n",
    "- Fit a pipeline on the temp column as the target and CO2 as the feature.  Name the resulting fitted pipeline fitted_global_warm_pipe.\n",
    "- Fit another pipeline on the temp column as the target and all other columns except year as the features.  Name the resulting fitted pipeline fitted_global_warm_pipe_2."
   ]
  },
  {
   "cell_type": "code",
   "execution_count": 19,
   "metadata": {},
   "outputs": [],
   "source": [
    "global_warm_pipe = Pipeline(stages = [feature.VectorAssembler(inputCols = ['CO2'], outputCol='features'),\n",
    "                                      regression.LinearRegression(featuresCol = 'features', labelCol = 'Temp')])\n",
    "\n",
    "fitted_global_warm_pipe = global_warm_pipe.fit(gw_train)\n",
    "\n",
    "fitted_global_warm_pipe_2 = Pipeline(stages = [feature.VectorAssembler(inputCols = ['CO2', 'Solar', 'Transmission', 'IceShelf'], outputCol='features'),\n",
    "                                               regression.LinearRegression(featuresCol = 'features', labelCol = 'Temp')]).fit(gw_train)"
   ]
  },
  {
   "cell_type": "markdown",
   "metadata": {},
   "source": [
    "##### Grading Feedback Cell"
   ]
  },
  {
   "cell_type": "markdown",
   "metadata": {},
   "source": [
    "### Question 10c (2 pts)\n",
    "- Print the linear regression coefficient(s) in the linear regression object in each fitted model\n",
    "- Print the linear regression Y intercept in the linear regression object in each fitted model"
   ]
  },
  {
   "cell_type": "code",
   "execution_count": 20,
   "metadata": {},
   "outputs": [
    {
     "name": "stdout",
     "output_type": "stream",
     "text": [
      "Model 1\n",
      "Coefficient: [0.8798406701290213]\n",
      "Intercept: -281.11507345537973\n",
      "\n",
      "Model 2\n",
      "Coefficient: [0.8936794097950107,8.011344551208783,168.03797084940905,-1.827942874965872]\n",
      "Intercept: -11372.662335212566\n"
     ]
    }
   ],
   "source": [
    "print(\"Model 1\")\n",
    "\n",
    "print(\"Coefficient:\", fitted_global_warm_pipe.stages[1].coefficients)\n",
    "\n",
    "print(\"Intercept:\", fitted_global_warm_pipe.stages[1].intercept)\n",
    "\n",
    "print(\"\\nModel 2\")\n",
    "\n",
    "print(\"Coefficient:\", fitted_global_warm_pipe_2.stages[1].coefficients)\n",
    "\n",
    "print(\"Intercept:\", fitted_global_warm_pipe_2.stages[1].intercept)"
   ]
  },
  {
   "cell_type": "markdown",
   "metadata": {},
   "source": [
    "##### Grading Feedback Cell"
   ]
  },
  {
   "cell_type": "markdown",
   "metadata": {},
   "source": [
    "### Question 11 Test the linear regression pipeline (10 pts)"
   ]
  },
  {
   "cell_type": "markdown",
   "metadata": {},
   "source": [
    "### Question 11a (5 pts)\n",
    "- Compute mean squared error (MSE) using the transform method on each fitted model.\n",
    "- Print the resulting MSEs."
   ]
  },
  {
   "cell_type": "code",
   "execution_count": 21,
   "metadata": {},
   "outputs": [
    {
     "name": "stdout",
     "output_type": "stream",
     "text": [
      "MSE for model 1:\n",
      "+------------------+\n",
      "|               mse|\n",
      "+------------------+\n",
      "|132.88955318312426|\n",
      "+------------------+\n",
      "\n",
      "MSE for model 2:\n",
      "+-----------------+\n",
      "|              mse|\n",
      "+-----------------+\n",
      "|97.21417568028954|\n",
      "+-----------------+\n",
      "\n"
     ]
    }
   ],
   "source": [
    "mse = fn.mean((fn.col('Temp') - fn.col('prediction')) ** 2).alias('mse')\n",
    "\n",
    "print(\"MSE for model 1:\")\n",
    "\n",
    "fitted_global_warm_pipe.transform(gw_test).select(mse).show()\n",
    "\n",
    "print(\"MSE for model 2:\")\n",
    "\n",
    "fitted_global_warm_pipe_2.transform(gw_test).select(mse).show()"
   ]
  },
  {
   "cell_type": "markdown",
   "metadata": {},
   "source": [
    "##### Grading Feedback Cell"
   ]
  },
  {
   "cell_type": "markdown",
   "metadata": {},
   "source": [
    "### Question 11b (5 pts)\n",
    "- Which of the 2 models have higher performance.  In the cell below, describe why you think the better performing model made the model perform better."
   ]
  },
  {
   "cell_type": "markdown",
   "metadata": {},
   "source": [
    "- Model 2 has high performance than model 1 as it has lower MSE.\n",
    "- One reason why model 2 performs better could be because it has 4 explanatory variables, while model 1 has just 1 explanatory variable. The 4 explanatory variables in model 2 together predict Temp more precisely than CO2 alone in model 1."
   ]
  },
  {
   "cell_type": "markdown",
   "metadata": {},
   "source": [
    "### Question 12 Inference (10 pts)"
   ]
  },
  {
   "cell_type": "markdown",
   "metadata": {},
   "source": [
    "### Question 12a Data Scaling (5 pts)\n",
    "Add data scaling to fitted_global_warm_pipe_2 above. Name the resulting fitted model fitted_global_warm_pipe_3.  Print the resulting fitted model coefficients such that each coefficient is clearly labeled with it's corresponding feature name."
   ]
  },
  {
   "cell_type": "code",
   "execution_count": 22,
   "metadata": {},
   "outputs": [
    {
     "name": "stdout",
     "output_type": "stream",
     "text": [
      "Model 3 coefficients\n",
      "CO2: 14.400342550378179\n",
      "Solar: 3.69445696498837\n",
      "Transmission: 3.1268456590488296\n",
      "IceShelf: -1.756452307902348\n"
     ]
    }
   ],
   "source": [
    "fitted_global_warm_pipe_3 = Pipeline(stages = [feature.VectorAssembler(inputCols = ['CO2', 'Solar', 'Transmission', 'IceShelf'], outputCol='features'),\n",
    "                                               feature.StandardScaler(inputCol = 'features', outputCol = 'scaledFeatures', withStd = True, withMean = True),\n",
    "                                               regression.LinearRegression(featuresCol = 'scaledFeatures', labelCol = 'Temp')]).fit(gw_train)\n",
    "\n",
    "print(\"Model 3 coefficients\")\n",
    "\n",
    "print(\"CO2:\", fitted_global_warm_pipe_3.stages[2].coefficients[0])\n",
    "\n",
    "print(\"Solar:\", fitted_global_warm_pipe_3.stages[2].coefficients[1])\n",
    "\n",
    "print(\"Transmission:\", fitted_global_warm_pipe_3.stages[2].coefficients[2])\n",
    "\n",
    "print(\"IceShelf:\", fitted_global_warm_pipe_3.stages[2].coefficients[3])"
   ]
  },
  {
   "cell_type": "markdown",
   "metadata": {},
   "source": [
    "### Question 12b Inference (5 pts)  \n",
    "Use the coefficients printed above to gain insights into the global warming problem. Describe your inference conclusions in the cell below."
   ]
  },
  {
   "cell_type": "markdown",
   "metadata": {},
   "source": [
    "- CO2, Solar and Transmission have a positive impact on Temp, thereby increasing global warming.\n",
    "- IceShelf has negative impact on Temp and is not a contributor for global warming.\n",
    "- CO2 is the major contributor for global warming.\n",
    "- With every 1 unit increase in CO2, Temp increases by 14.4 units.\n",
    "- With every 1 unit increase in Solar, Temp increases by 3.7 units.\n",
    "- With every 1 unit increase in Transmission, Temp increases by 3.1 units.\n",
    "- With every 1 unit increase in IceShelf, Temp decreases by 1.8 units."
   ]
  },
  {
   "cell_type": "markdown",
   "metadata": {},
   "source": [
    "##### Grading Feedback Cell"
   ]
  },
  {
   "cell_type": "markdown",
   "metadata": {},
   "source": [
    "# Question 13 Extra Credit (10 pts)\n",
    "This question is optional.  No points will be deducted from your score if you do not attempt this problem.<br>\n",
    "\n",
    "Starting with the rdd class presented in lecture (maintaining all class method names), implement a my_reduce method in the rdd class.  Your implementation shall maintain rdd class immutability.  Your my_reduce method return type should be consistent with the return type in the real Spark reduce method. Do some research and see what the Spark reduce return type would be.  <br>\n",
    "\n",
    "Implement a function named times_3 which returns its input multiplied by 3. Implement a function named is_even that returns true if it's input is even, false otherwise.  Implement a my_sum function that returns the sum of its 2 inputs.  <br>\n",
    "\n",
    "Your overall implementation should not rely on receiving specific data types as inputs.  For example, the plus operator works on more than just ints and floats."
   ]
  },
  {
   "cell_type": "code",
   "execution_count": 23,
   "metadata": {},
   "outputs": [],
   "source": [
    "import numpy as np\n",
    "\n",
    "def times_3(e):\n",
    "    \n",
    "    return 3 * e\n",
    "\n",
    "def is_even(e):\n",
    "    \n",
    "    if e % 2 == 0:\n",
    "        return True\n",
    "    \n",
    "    else:\n",
    "        return False\n",
    "\n",
    "def my_sum(v1, v2):\n",
    "    \n",
    "    return v1 + v2\n",
    "\n",
    "class rdd:\n",
    "    \n",
    "    def __init__(self, data):\n",
    "        \n",
    "        self.array = data\n",
    "    \n",
    "    def my_map(self, fun):\n",
    "        \n",
    "        if len(self.array) < 1:\n",
    "            raise Exception(\"my_map: len(local_array) < 1\")\n",
    "        \n",
    "        mapped = np.empty_like(self.array)\n",
    "        \n",
    "        for i, e in enumerate(self.array):\n",
    "            \n",
    "            mapped[i] = fun(self.array[i])\n",
    "            \n",
    "        return rdd(mapped)\n",
    "    \n",
    "    def my_filter(self, fun):\n",
    "        \n",
    "        transformed = []\n",
    "        \n",
    "        for e in self.array:\n",
    "            \n",
    "            if fun(e):\n",
    "                transformed.append(e)\n",
    "                \n",
    "        return rdd(np.array(transformed))\n",
    "    \n",
    "    def my_reduce(self, fun):\n",
    "        \n",
    "        add = 0\n",
    "    \n",
    "        for i in range(len(self.array)):\n",
    "            \n",
    "            add += fun(self.array[i] , self.array[i - 1]) - self.array[i]\n",
    "            \n",
    "        return add\n"
   ]
  },
  {
   "cell_type": "code",
   "execution_count": 24,
   "metadata": {
    "scrolled": true
   },
   "outputs": [
    {
     "name": "stdout",
     "output_type": "stream",
     "text": [
      "<class 'numpy.int64'>\n",
      "7350\n"
     ]
    }
   ],
   "source": [
    "# Simple test code\n",
    "test_rdd = rdd(np.arange(100))\n",
    "result = test_rdd.my_map(times_3).my_filter(is_even).my_reduce(my_sum)\n",
    "print(type(result))\n",
    "print(result)\n",
    "\n",
    "# secret grading test code follows \n"
   ]
  },
  {
   "cell_type": "markdown",
   "metadata": {},
   "source": [
    "##### Grading Feedback Cell"
   ]
  }
 ],
 "metadata": {
  "celltoolbar": "Edit Metadata",
  "kernelspec": {
   "display_name": "Python 3",
   "language": "python",
   "name": "python3"
  },
  "language_info": {
   "codemirror_mode": {
    "name": "ipython",
    "version": 3
   },
   "file_extension": ".py",
   "mimetype": "text/x-python",
   "name": "python",
   "nbconvert_exporter": "python",
   "pygments_lexer": "ipython3",
   "version": "3.7.4"
  }
 },
 "nbformat": 4,
 "nbformat_minor": 2
}
