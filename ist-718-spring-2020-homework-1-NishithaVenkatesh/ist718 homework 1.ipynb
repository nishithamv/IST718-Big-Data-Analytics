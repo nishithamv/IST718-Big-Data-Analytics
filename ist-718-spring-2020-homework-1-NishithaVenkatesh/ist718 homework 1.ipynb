{
 "cells": [
  {
   "cell_type": "markdown",
   "metadata": {},
   "source": [
    "##### Grading Feedback Cell"
   ]
  },
  {
   "cell_type": "markdown",
   "metadata": {
    "deletable": false,
    "nbgrader": {
     "checksum": "4e6cefb0049d48a2f4648d752841bb06",
     "grade": false,
     "grade_id": "cell-b038e38b5e3072a9",
     "locked": false,
     "schema_version": 1,
     "solution": false
    }
   },
   "source": [
    "# IST 718: Big Data Analytics\n",
    "\n",
    "- Professor: Willard Williamson <wewillia@syr.edu>\n",
    "- Faculty Assistant: Yash Pasar\n",
    "## General instructions:\n",
    "\n",
    "- You are welcome to discuss the problems with your classmates but __you are not allowed to copy any part of your answers from your classmates.  Short code snippets are allowed from the internet.  Code from the class text books or class provided code can be copied in its entirety.__\n",
    "- __Do not change homework file names.__ The FAs and the professor use these names to grade your homework.  Changing file names may result in a point reduction penalty.\n",
    "- There could be tests in some cells (i.e., `assert` and `np.testing.` statements). These tests (if present) are used to grade your answers. **However, the professor and FAs could use __additional__ test for your answer. Think about cases where your code should run even if it passess all the tests you see.**\n",
    "- Before submitting your work, remember to check for run time errors with the following procedure:\n",
    "`Kernel`$\\rightarrow$`Restart and Run All`.  All runtime errors will result in a minimum penalty of half off.\n",
    "- Data Bricks is the official class runtime environment so you should test your code on Data Bricks before submission.  If there is a runtime problem in the grading environment, we will try your code on Data Bricks before making a final grading decision.\n",
    "- All plots shall include a title, and axis labels.\n",
    "- Grading feedback cells are there for graders to provide feedback to students.  Don't change or remove grading feedback cells."
   ]
  },
  {
   "cell_type": "code",
   "execution_count": 1,
   "metadata": {},
   "outputs": [],
   "source": [
    "import numpy as np\n",
    "import random as r\n",
    "import matplotlib.pyplot as plt\n",
    "import pandas as pd\n",
    "import seaborn as sns\n",
    "from sklearn.datasets import load_iris"
   ]
  },
  {
   "cell_type": "markdown",
   "metadata": {},
   "source": [
    "**Question 1 (10 pts)** Write a function named reverse_by_three that receives a numpy array, python list, or tuple as an input argument and starting at the 2nd from last element, returns every 3rd element of the list in reverse order.  It is legal to return an empty python list, numpy array, or tuple if the input.  Use slicing syntax exclusively to perform the operations.  Your code should be efficient as possible and not use a lot of extraneous un-needed code in the solution."
   ]
  },
  {
   "cell_type": "code",
   "execution_count": 2,
   "metadata": {
    "deletable": false,
    "nbgrader": {
     "checksum": "085f5b48fbce649d8e6a5f12381f40ce",
     "grade": false,
     "grade_id": "cell-5eb87107d2800505",
     "locked": false,
     "schema_version": 1,
     "solution": true
    }
   },
   "outputs": [],
   "source": [
    "#returning the array in reverse order with step 3 starting from second last element\n",
    "def reverse_by_three(array):\n",
    "    \n",
    "    return array[-2::-3]"
   ]
  },
  {
   "cell_type": "code",
   "execution_count": 3,
   "metadata": {
    "deletable": false,
    "editable": false,
    "nbgrader": {
     "checksum": "da34aac4c035b267f3ff5816fd031fba",
     "grade": true,
     "grade_id": "cell-17c0ac01cace4b18",
     "locked": true,
     "points": 10,
     "schema_version": 1,
     "solution": false
    }
   },
   "outputs": [
    {
     "data": {
      "text/plain": [
       "array([5, 2])"
      ]
     },
     "execution_count": 3,
     "metadata": {},
     "output_type": "execute_result"
    }
   ],
   "source": [
    "# For grading use only (question 1)\n",
    "reverse_by_three(np.array([1,2,3,4,5,6]))"
   ]
  },
  {
   "cell_type": "markdown",
   "metadata": {},
   "source": [
    "##### Grading Feedback Cell"
   ]
  },
  {
   "cell_type": "markdown",
   "metadata": {},
   "source": [
    "**Question 2 (10 pts)** Create a python class named my_statistics.  The my_statisitics class should require a single numpy array argument in its constructor.  Implement the following statistical methods in the my_statistics class: get_mean, get_pop_std, get_sample_std, get_min, and get_max.  The get_pop_std method shall return the standard deviation assuming the constructor argument is a complete population.  The get_sample_std method shall return the standard deviation assuming that the constructor argument is a sample of a population.  The get_min and get_max methods shall return the min and max of the constructor argument respectively.  The get_mean method shall return the mean.  Return a 'None' type if the constructor argument would cause an error for the specified operation.  Use numpy functions to perform the statistical calculations."
   ]
  },
  {
   "cell_type": "code",
   "execution_count": 4,
   "metadata": {
    "deletable": false,
    "nbgrader": {
     "checksum": "93c89a396ab6aa6ace9fe98663691b74",
     "grade": false,
     "grade_id": "cell-48471c8515aa4e5c",
     "locked": false,
     "schema_version": 1,
     "solution": true
    }
   },
   "outputs": [],
   "source": [
    "#using numpy functions to perform statistical calculations\n",
    "class my_statistics():\n",
    "    \n",
    "    def __init__(stat, array):\n",
    "        \n",
    "        stat.data = array\n",
    "        \n",
    "    def get_mean(stat):\n",
    "            \n",
    "            return np.mean(stat.data)\n",
    "\n",
    "#std function in numpy calculates population standard deviation by default\n",
    "    def get_pop_std(stat):\n",
    "            \n",
    "            return np.std(stat.data)\n",
    "\n",
    "#setting delta degrees of freedom(ddof) parameter to 1 in std function calculates sample standard deviation\n",
    "    def get_sample_std(stat):\n",
    "            \n",
    "            return np.std(stat.data, ddof = 1)\n",
    "    \n",
    "    def get_min(stat):\n",
    "            \n",
    "            return np.min(stat.data)\n",
    "    \n",
    "    def get_max(stat):\n",
    "            \n",
    "            return np.max(stat.data)"
   ]
  },
  {
   "cell_type": "code",
   "execution_count": 5,
   "metadata": {
    "deletable": false,
    "nbgrader": {
     "checksum": "da34aac4c035b267f3ff5816fd031fba",
     "grade": true,
     "grade_id": "cell-17c0ac01cace4b18",
     "locked": true,
     "points": 10,
     "schema_version": 1,
     "solution": false
    }
   },
   "outputs": [
    {
     "name": "stdout",
     "output_type": "stream",
     "text": [
      "-6.066666666666666\n",
      "85.59086140211205\n",
      "88.59495847206355\n",
      "-310\n",
      "99\n"
     ]
    }
   ],
   "source": [
    "# For grading use only (question 2)\n",
    "stats_data = np.array([12, 17, 9, 13, -5, -7, -9, -11, 39, 42, 17, 2, 99, 1, -310])\n",
    "my_stats = my_statistics(stats_data)\n",
    "print(my_stats.get_mean())\n",
    "print(my_stats.get_pop_std())\n",
    "print(my_stats.get_sample_std())\n",
    "print(my_stats.get_min())\n",
    "print(my_stats.get_max())"
   ]
  },
  {
   "cell_type": "markdown",
   "metadata": {},
   "source": [
    "##### Grading Feedback Cell"
   ]
  },
  {
   "cell_type": "markdown",
   "metadata": {},
   "source": [
    "**Question 3 (30 pts)** Create a function named monte_hall that takes as an argument the number of times to iterate a monte-carlo simulation of the Monte Hall problem with 4 doors and 1 prize.   (https://en.wikipedia.org/wiki/Monty_Hall_problem).   \n",
    "For simplicity, you can assume that the game player always initially chooses door A and the host will open one door.  The prize may be behind any of the 4 doors.  The monte_hall function should print answers to the following 2 questions:  Based on the simulation, what is the probability of winning if you switch doors, and what is the probability of winning if you keep door A?  Your function should return these values in a tuple (prob_win_if_switch, prob_win_if_keep)."
   ]
  },
  {
   "cell_type": "code",
   "execution_count": 6,
   "metadata": {},
   "outputs": [],
   "source": [
    "#monte carlo simulation of monty hall problem\n",
    "def monte_hall(n):\n",
    "    \n",
    "    prob_win_if_switch = 0\n",
    "    prob_win_if_keep = 0\n",
    "    sum_win_if_keep = 0\n",
    "    sum_win_if_switch = 0\n",
    "\n",
    "#iterating monte carlo simulation n times\n",
    "    for x in range(n):\n",
    "\n",
    "#creating 4 doors where 1 represents the door with gift and shuffling them\n",
    "        doors = [0, 0, 1, 0]\n",
    "        r.shuffle(doors)\n",
    "    \n",
    "#assumimng that the player always chooses door A i.e., index 0 in doors\n",
    "        door_selected = 0\n",
    "    \n",
    "#host opens the door with no gift behind\n",
    "        non_gift_door = list()\n",
    "        \n",
    "        for i,val in enumerate(doors):\n",
    "            if i != door_selected and val == 0:\n",
    "                non_gift_door.append(i)\n",
    "        \n",
    "        door_opened = r.choice(non_gift_door)\n",
    "    \n",
    "#winning by staying at door A\n",
    "        if doors[door_selected] == 1:\n",
    "            sum_win_if_keep += 1\n",
    "\n",
    "#switching to one of the two remaining doors\n",
    "        door_remaining = [0, 1, 2, 3]\n",
    "        door_remaining.remove(door_selected)\n",
    "        door_remaining.remove(door_opened)\n",
    "        \n",
    "        door_switched = r.choice(door_remaining)\n",
    "\n",
    "#winning by switching doors\n",
    "        if doors[door_switched] == 1:\n",
    "            sum_win_if_switch += 1\n",
    "\n",
    "#calculating probability of winning\n",
    "    prob_win_if_keep = sum_win_if_keep / n\n",
    "    prob_win_if_switch = sum_win_if_switch / n\n",
    "    \n",
    "    return(prob_win_if_switch, prob_win_if_keep)"
   ]
  },
  {
   "cell_type": "code",
   "execution_count": 7,
   "metadata": {
    "deletable": false,
    "editable": false,
    "nbgrader": {
     "checksum": "2d488b9ce0d64d863d724afc6ca32625",
     "grade": false,
     "grade_id": "cell-8804dcdb0db3c1bb",
     "locked": false,
     "schema_version": 1,
     "solution": true
    }
   },
   "outputs": [
    {
     "name": "stdout",
     "output_type": "stream",
     "text": [
      "(0.3698, 0.2558)\n"
     ]
    }
   ],
   "source": [
    "# For grading use only (question 3)\n",
    "print(monte_hall(10000))"
   ]
  },
  {
   "cell_type": "markdown",
   "metadata": {},
   "source": [
    "##### Grading Feedback Cell"
   ]
  },
  {
   "cell_type": "markdown",
   "metadata": {},
   "source": [
    "##### **Question 4 (10 pts)** Create a numpy array containing 10,000 samples of random normal data with a mean of 5 and a variance of 4.  Plot a histogram of the data using matplotlib."
   ]
  },
  {
   "cell_type": "code",
   "execution_count": 8,
   "metadata": {},
   "outputs": [
    {
     "data": {
      "image/png": "[encoded data removed]",
      "text/plain": [
       "<Figure size 432x288 with 1 Axes>"
      ]
     },
     "metadata": {
      "needs_background": "light"
     },
     "output_type": "display_data"
    }
   ],
   "source": [
    "#creating a histogram for 10,000 random samples using matplotlib\n",
    "sample_array = np.random.normal(5, 4, 10000)\n",
    "plt.hist(sample_array, edgecolor = \"black\")\n",
    "plt.title(\"Histogram\")\n",
    "plt.ylabel(\"Frequency\")\n",
    "plt.xlabel(\"Array elements\")\n",
    "\n",
    "plt.show()"
   ]
  },
  {
   "cell_type": "markdown",
   "metadata": {},
   "source": [
    "##### Grading Feedback Cell"
   ]
  },
  {
   "cell_type": "markdown",
   "metadata": {},
   "source": [
    "#### Question 5 (10 pts) The below cell creates a pandas dataframe called iris_df.  Write a function named plot_iris_grid that uses matplotlib to create a grid of 16 scatter plots of all combinatations of the columns in the iris_df data frame.  For example, the first row should be sepal len vs sepal len, sepal len vs sepal width, sepal len vs petal len, sepal len vs petal width."
   ]
  },
  {
   "cell_type": "code",
   "execution_count": 9,
   "metadata": {
    "nbgrader": {
     "checksum": "e943372f6c350987929750bb43e37729",
     "grade": true,
     "grade_id": "cell-fc6a0f4ea3e7d63d",
     "locked": true,
     "points": 10,
     "schema_version": 1,
     "solution": false
    }
   },
   "outputs": [
    {
     "data": {
      "image/png": "[encoded data removed]",
      "text/plain": [
       "<Figure size 720x720 with 20 Axes>"
      ]
     },
     "metadata": {
      "needs_background": "light"
     },
     "output_type": "display_data"
    }
   ],
   "source": [
    "#creating grid of scatter plots for iris dataset using matplotliv and seaborn\n",
    "def plot_iris_grid(iris_df):\n",
    "    \n",
    "    grid = sns.PairGrid(iris_df)\n",
    "    grid.map_diag(plt.hist, edgecolor = \"w\")\n",
    "    grid.map_offdiag(plt.scatter)\n",
    "\n",
    "#loading iris dataframe from sklearn\n",
    "iris = load_iris()\n",
    "iris_df = pd.DataFrame(iris.data, columns = iris.feature_names)\n",
    "\n",
    "plot_iris_grid(iris_df)"
   ]
  },
  {
   "cell_type": "markdown",
   "metadata": {},
   "source": [
    "##### Grading Feedback Cell"
   ]
  },
  {
   "cell_type": "markdown",
   "metadata": {},
   "source": [
    "#### Question 6 (20 pts) Pandas"
   ]
  },
  {
   "cell_type": "markdown",
   "metadata": {},
   "source": [
    "6a (4 pts): Read the supplied potholes_2016.csv file into a pandas dataframe named potholes.  Save the shape of the potholes dataframe in a variable named potholes_shape.  Display the potholes_shape variable.  Display the head of the potholes dataframe.  "
   ]
  },
  {
   "cell_type": "code",
   "execution_count": 10,
   "metadata": {},
   "outputs": [
    {
     "name": "stdout",
     "output_type": "stream",
     "text": [
      "Shape of the potholes dataframe: (7488, 10)\n"
     ]
    },
    {
     "data": {
      "text/html": [
       "<div>\n",
       "<style scoped>\n",
       "    .dataframe tbody tr th:only-of-type {\n",
       "        vertical-align: middle;\n",
       "    }\n",
       "\n",
       "    .dataframe tbody tr th {\n",
       "        vertical-align: top;\n",
       "    }\n",
       "\n",
       "    .dataframe thead th {\n",
       "        text-align: right;\n",
       "    }\n",
       "</style>\n",
       "<table border=\"1\" class=\"dataframe\">\n",
       "  <thead>\n",
       "    <tr style=\"text-align: right;\">\n",
       "      <th></th>\n",
       "      <th>StreetNumber</th>\n",
       "      <th>StreetName</th>\n",
       "      <th>StreetNamePostType</th>\n",
       "      <th>Directional</th>\n",
       "      <th>strLocation</th>\n",
       "      <th>dtTime</th>\n",
       "      <th>streetID</th>\n",
       "      <th>VehicleName</th>\n",
       "      <th>Latitude</th>\n",
       "      <th>Longitude</th>\n",
       "    </tr>\n",
       "  </thead>\n",
       "  <tbody>\n",
       "    <tr>\n",
       "      <td>0</td>\n",
       "      <td>215</td>\n",
       "      <td>COMSTOCK</td>\n",
       "      <td>AVE</td>\n",
       "      <td></td>\n",
       "      <td>215 COMSTOCK AVE &amp; HARRISON S</td>\n",
       "      <td>4/14/2016 8:57</td>\n",
       "      <td>12578124</td>\n",
       "      <td>DP2</td>\n",
       "      <td>-76.130140</td>\n",
       "      <td>43.044159</td>\n",
       "    </tr>\n",
       "    <tr>\n",
       "      <td>1</td>\n",
       "      <td>700</td>\n",
       "      <td>MIDLAND</td>\n",
       "      <td>AVE</td>\n",
       "      <td></td>\n",
       "      <td>700-06 MIDLAND AVE &amp; CASTLE ST W</td>\n",
       "      <td>4/15/2016 9:01</td>\n",
       "      <td>12573231</td>\n",
       "      <td>DP1</td>\n",
       "      <td>-76.154074</td>\n",
       "      <td>43.031314</td>\n",
       "    </tr>\n",
       "    <tr>\n",
       "      <td>2</td>\n",
       "      <td>1604</td>\n",
       "      <td>GRANT</td>\n",
       "      <td>BLVD</td>\n",
       "      <td></td>\n",
       "      <td>1604-08 GRANT BLVD &amp; WOODRUFF AVE</td>\n",
       "      <td>4/15/2016 13:03</td>\n",
       "      <td>12580306</td>\n",
       "      <td>DP1</td>\n",
       "      <td>-76.138284</td>\n",
       "      <td>43.072356</td>\n",
       "    </tr>\n",
       "    <tr>\n",
       "      <td>3</td>\n",
       "      <td>261</td>\n",
       "      <td>HOPPER</td>\n",
       "      <td>RD</td>\n",
       "      <td></td>\n",
       "      <td>261 HOPPER RD</td>\n",
       "      <td>4/18/2016 10:39</td>\n",
       "      <td>12571704</td>\n",
       "      <td>DP2</td>\n",
       "      <td>-76.159681</td>\n",
       "      <td>42.998028</td>\n",
       "    </tr>\n",
       "    <tr>\n",
       "      <td>4</td>\n",
       "      <td>1821</td>\n",
       "      <td>VALLEY</td>\n",
       "      <td>DR</td>\n",
       "      <td></td>\n",
       "      <td>1821 VALLEY DR &amp; CHAFFEE AVE E</td>\n",
       "      <td>4/18/2016 10:52</td>\n",
       "      <td>12571710</td>\n",
       "      <td>DP2</td>\n",
       "      <td>-76.152482</td>\n",
       "      <td>42.997837</td>\n",
       "    </tr>\n",
       "  </tbody>\n",
       "</table>\n",
       "</div>"
      ],
      "text/plain": [
       "  StreetNumber StreetName StreetNamePostType Directional  \\\n",
       "0          215  COMSTOCK                 AVE               \n",
       "1          700   MIDLAND                 AVE               \n",
       "2         1604     GRANT                BLVD               \n",
       "3          261    HOPPER                  RD               \n",
       "4         1821    VALLEY                  DR               \n",
       "\n",
       "                         strLocation           dtTime  streetID VehicleName  \\\n",
       "0      215 COMSTOCK AVE & HARRISON S   4/14/2016 8:57  12578124         DP2   \n",
       "1   700-06 MIDLAND AVE & CASTLE ST W   4/15/2016 9:01  12573231         DP1   \n",
       "2  1604-08 GRANT BLVD & WOODRUFF AVE  4/15/2016 13:03  12580306         DP1   \n",
       "3                      261 HOPPER RD  4/18/2016 10:39  12571704         DP2   \n",
       "4     1821 VALLEY DR & CHAFFEE AVE E  4/18/2016 10:52  12571710         DP2   \n",
       "\n",
       "    Latitude  Longitude  \n",
       "0 -76.130140  43.044159  \n",
       "1 -76.154074  43.031314  \n",
       "2 -76.138284  43.072356  \n",
       "3 -76.159681  42.998028  \n",
       "4 -76.152482  42.997837  "
      ]
     },
     "execution_count": 10,
     "metadata": {},
     "output_type": "execute_result"
    }
   ],
   "source": [
    "#reading potholes data from csv file\n",
    "potholes = pd.read_csv('potholes_2016.csv')\n",
    "potholes_shape = potholes.shape\n",
    "\n",
    "print(\"Shape of the potholes dataframe:\", potholes_shape)\n",
    "\n",
    "potholes.head()"
   ]
  },
  {
   "cell_type": "code",
   "execution_count": 11,
   "metadata": {
    "deletable": false,
    "editable": false,
    "nbgrader": {
     "checksum": "da34aac4c035b267f3ff5816fd031fba",
     "grade": true,
     "grade_id": "cell-17c0ac01cace4b18",
     "locked": true,
     "points": 10,
     "schema_version": 1,
     "solution": false
    }
   },
   "outputs": [],
   "source": [
    "# for grading use only (question 6a)\n"
   ]
  },
  {
   "cell_type": "markdown",
   "metadata": {},
   "source": [
    "##### Grading Feedback Cell"
   ]
  },
  {
   "cell_type": "markdown",
   "metadata": {},
   "source": [
    "6b (4 pts): Count the total number of NAN values in the potholes dataframe and store in a variable named total_nan.  Print the total_nan variable."
   ]
  },
  {
   "cell_type": "code",
   "execution_count": 12,
   "metadata": {},
   "outputs": [
    {
     "name": "stdout",
     "output_type": "stream",
     "text": [
      "Total number of NaN values in the potholes dataframe: 0\n",
      "Total number of blank values in the potholes dataframe: 5495\n"
     ]
    }
   ],
   "source": [
    "#counting total number of NaN values\n",
    "total_nan = potholes.isnull().sum().sum()\n",
    "\n",
    "print(\"Total number of NaN values in the potholes dataframe:\", total_nan)\n",
    "\n",
    "#counting total number of blank values by considering single white space as NA value\n",
    "potholes = pd.read_csv('potholes_2016.csv', na_values = ' ')\n",
    "total_blank = potholes.isnull().sum().sum()\n",
    "\n",
    "print(\"Total number of blank values in the potholes dataframe:\", total_blank)"
   ]
  },
  {
   "cell_type": "code",
   "execution_count": 13,
   "metadata": {
    "deletable": false,
    "editable": false,
    "nbgrader": {
     "checksum": "da34aac4c035b267f3ff5816fd031fba",
     "grade": true,
     "grade_id": "cell-17c0ac01cace4b18",
     "locked": true,
     "points": 10,
     "schema_version": 1,
     "solution": false
    }
   },
   "outputs": [],
   "source": [
    "# for grading use only (question 6b)\n"
   ]
  },
  {
   "cell_type": "markdown",
   "metadata": {},
   "source": [
    "##### Grading Feedback Cell"
   ]
  },
  {
   "cell_type": "markdown",
   "metadata": {},
   "source": [
    "6c (4 pts): Count the number of unique street names in the dataframe and store in a variable named unique_street_name_count.  Print unique_street_name_count."
   ]
  },
  {
   "cell_type": "code",
   "execution_count": 14,
   "metadata": {},
   "outputs": [
    {
     "name": "stdout",
     "output_type": "stream",
     "text": [
      "Number of unique street names in the dataframe: 413\n"
     ]
    }
   ],
   "source": [
    "#counting number of unique street names\n",
    "unique_street_name_count = len(potholes.StreetName.unique())\n",
    "\n",
    "print(\"Number of unique street names in the dataframe:\", unique_street_name_count)"
   ]
  },
  {
   "cell_type": "code",
   "execution_count": 15,
   "metadata": {
    "deletable": false,
    "editable": false,
    "nbgrader": {
     "checksum": "da34aac4c035b267f3ff5816fd031fba",
     "grade": true,
     "grade_id": "cell-17c0ac01cace4b18",
     "locked": true,
     "points": 10,
     "schema_version": 1,
     "solution": false
    }
   },
   "outputs": [],
   "source": [
    "# for grading use only (question 6c)"
   ]
  },
  {
   "cell_type": "markdown",
   "metadata": {},
   "source": [
    "##### Grading Feedback Cell"
   ]
  },
  {
   "cell_type": "markdown",
   "metadata": {},
   "source": [
    "6d (4 pts): Use the pandas groupby feature to create a new dataframe called street_pothole_sum which summarizes the total number of potholes by street.  You are essentially counting the number of rows by street name.  The rows of street_pothole_sum should be the labeled with street name.  There should be a single column in street_pothole_sum dataframe named num_potholes.  Print the head and shape of the street_pothole_sum dataframe."
   ]
  },
  {
   "cell_type": "code",
   "execution_count": 16,
   "metadata": {
    "scrolled": true
   },
   "outputs": [
    {
     "name": "stdout",
     "output_type": "stream",
     "text": [
      "Shape of the street_pothole_sum dataframe: (413, 1)\n"
     ]
    },
    {
     "data": {
      "text/html": [
       "<div>\n",
       "<style scoped>\n",
       "    .dataframe tbody tr th:only-of-type {\n",
       "        vertical-align: middle;\n",
       "    }\n",
       "\n",
       "    .dataframe tbody tr th {\n",
       "        vertical-align: top;\n",
       "    }\n",
       "\n",
       "    .dataframe thead th {\n",
       "        text-align: right;\n",
       "    }\n",
       "</style>\n",
       "<table border=\"1\" class=\"dataframe\">\n",
       "  <thead>\n",
       "    <tr style=\"text-align: right;\">\n",
       "      <th></th>\n",
       "      <th>num_potholes</th>\n",
       "    </tr>\n",
       "    <tr>\n",
       "      <th>StreetName</th>\n",
       "      <th></th>\n",
       "    </tr>\n",
       "  </thead>\n",
       "  <tbody>\n",
       "    <tr>\n",
       "      <td>ACADEMY</td>\n",
       "      <td>76</td>\n",
       "    </tr>\n",
       "    <tr>\n",
       "      <td>ACKERMAN</td>\n",
       "      <td>5</td>\n",
       "    </tr>\n",
       "    <tr>\n",
       "      <td>ADAMS</td>\n",
       "      <td>17</td>\n",
       "    </tr>\n",
       "    <tr>\n",
       "      <td>AINSLEY</td>\n",
       "      <td>7</td>\n",
       "    </tr>\n",
       "    <tr>\n",
       "      <td>ALANSON</td>\n",
       "      <td>4</td>\n",
       "    </tr>\n",
       "  </tbody>\n",
       "</table>\n",
       "</div>"
      ],
      "text/plain": [
       "            num_potholes\n",
       "StreetName              \n",
       "ACADEMY               76\n",
       "ACKERMAN               5\n",
       "ADAMS                 17\n",
       "AINSLEY                7\n",
       "ALANSON                4"
      ]
     },
     "execution_count": 16,
     "metadata": {},
     "output_type": "execute_result"
    }
   ],
   "source": [
    "#creating a dataframe with total number of potholes in each street\n",
    "street_pothole_sum = potholes.groupby('StreetName')[['StreetName']].count()\n",
    "street_pothole_sum.columns = ['num_potholes']\n",
    "\n",
    "print(\"Shape of the street_pothole_sum dataframe:\", street_pothole_sum.shape)\n",
    "\n",
    "street_pothole_sum.head()"
   ]
  },
  {
   "cell_type": "code",
   "execution_count": 17,
   "metadata": {
    "deletable": false,
    "editable": false,
    "nbgrader": {
     "checksum": "da34aac4c035b267f3ff5816fd031fba",
     "grade": true,
     "grade_id": "cell-17c0ac01cace4b18",
     "locked": true,
     "points": 10,
     "schema_version": 1,
     "solution": false
    }
   },
   "outputs": [],
   "source": [
    "# for grading use only (question 6d)"
   ]
  },
  {
   "cell_type": "markdown",
   "metadata": {},
   "source": [
    "##### Grading Feedback Cell"
   ]
  },
  {
   "cell_type": "markdown",
   "metadata": {},
   "source": [
    "6e (4 pts) Save the number of potholes on Comstock Ave in a variable named num_potholes_comstock and display the variable. The num_potholes_comstock variable should be an integer type.  Print num_potholes_comstock."
   ]
  },
  {
   "cell_type": "code",
   "execution_count": 18,
   "metadata": {},
   "outputs": [
    {
     "name": "stdout",
     "output_type": "stream",
     "text": [
      "Number of potholes on Comstock Ave: 10\n"
     ]
    }
   ],
   "source": [
    "#number of potholes in comstock\n",
    "num_potholes_comstock = street_pothole_sum.loc['COMSTOCK ', 'num_potholes']\n",
    "\n",
    "print(\"Number of potholes on Comstock Ave:\", num_potholes_comstock)"
   ]
  },
  {
   "cell_type": "code",
   "execution_count": 19,
   "metadata": {
    "deletable": false,
    "editable": false,
    "nbgrader": {
     "checksum": "da34aac4c035b267f3ff5816fd031fba",
     "grade": true,
     "grade_id": "cell-17c0ac01cace4b18",
     "locked": true,
     "points": 10,
     "schema_version": 1,
     "solution": false
    }
   },
   "outputs": [],
   "source": [
    "# for grading use only (question 6e)"
   ]
  },
  {
   "cell_type": "markdown",
   "metadata": {},
   "source": [
    "##### Grading Feedback Cell"
   ]
  },
  {
   "cell_type": "markdown",
   "metadata": {},
   "source": [
    "#### Question 7 (10 pts): Create a function named my_corr_coef that takes as input 2 numpy single dimensional arrays and returns the correlation coefficient to the caller.  Note that your function does not have to work for matrices.  The correlation coefficient is a number of type float between -1 and 1.  The my_corr_coef function should not use any built in numpy functions to calculate the correlation.  For example, don't use the built in numpy corrcoef function, don't use np.mean, etc.  Make sure to check for input error conditions and return the Python 'None' type if the correlation coefficient cannot be computed due to problems with the input data.  See [equation 3](https://en.wikipedia.org/wiki/Pearson_correlation_coefficient) as a reference on how to compute correlation."
   ]
  },
  {
   "cell_type": "code",
   "execution_count": 20,
   "metadata": {},
   "outputs": [],
   "source": [
    "#calculating correlation coefficient (i.e., covariance/(standard_deviation_x * standard_deviation_y))\n",
    "def my_corr_coef(x, y):\n",
    "    \n",
    "    corr_coef = 0\n",
    "    cov_xy = 0\n",
    "    stdev_x = 0\n",
    "    stdev_y = 0\n",
    "    mean_x = 0\n",
    "    mean_y = 0\n",
    "\n",
    "#correlation can be calculated only if the two samples are of equal length\n",
    "    if len(x) == len(y):\n",
    "\n",
    "#mean of x        \n",
    "        sum = 0\n",
    "        for ele in x:\n",
    "            sum += ele\n",
    "        \n",
    "        mean_x = sum / len(x)\n",
    "\n",
    "#mean of y\n",
    "        sum = 0\n",
    "        for ele in y:\n",
    "            sum += ele\n",
    "        \n",
    "        mean_y = sum / len(y)\n",
    "        \n",
    "#covariance of x and y\n",
    "        sum = 0\n",
    "        for i in range(len(x)):\n",
    "            sum += (x[i] - mean_x) * (y[i] - mean_y)\n",
    "        \n",
    "        cov_xy = sum / (len(x) - 1)\n",
    "    \n",
    "#standard deviation of x\n",
    "        sum = 0\n",
    "        for ele in x:\n",
    "            sum += (ele - mean_x) ** 2\n",
    "        \n",
    "        stdev_x = (sum / (len(x) - 1)) ** (1/2)\n",
    "    \n",
    "#standard deviation of y\n",
    "        sum = 0\n",
    "        for ele in y:\n",
    "            sum += (ele - mean_y) ** 2\n",
    "        \n",
    "        stdev_y = (sum / (len(y) - 1)) ** (1/2)\n",
    "    \n",
    "#correlation coefficient of x and y\n",
    "        corr_coef = cov_xy / (stdev_x * stdev_y)\n",
    "        \n",
    "        return corr_coef\n",
    "    \n",
    "    else:\n",
    "        return 'None'"
   ]
  },
  {
   "cell_type": "code",
   "execution_count": 21,
   "metadata": {
    "deletable": false,
    "editable": false,
    "nbgrader": {
     "checksum": "da34aac4c035b267f3ff5816fd031fba",
     "grade": true,
     "grade_id": "cell-17c0ac01cace4b18",
     "locked": true,
     "points": 10,
     "schema_version": 1,
     "solution": false
    }
   },
   "outputs": [
    {
     "data": {
      "text/plain": [
       "0.9953500135553002"
      ]
     },
     "execution_count": 21,
     "metadata": {},
     "output_type": "execute_result"
    }
   ],
   "source": [
    "# for grading use only (question 7)\n",
    "a = np.array([1,2,3,4,6,7,8,9])\n",
    "b = np.array([2,4,6,8,10,12,13,15])\n",
    "my_corr_coef(a,b)"
   ]
  },
  {
   "cell_type": "markdown",
   "metadata": {},
   "source": [
    "##### Grading Feedback Cell"
   ]
  }
 ],
 "metadata": {
  "celltoolbar": "Edit Metadata",
  "kernel_info": {
   "name": "python3"
  },
  "kernelspec": {
   "display_name": "Python 3",
   "language": "python",
   "name": "python3"
  },
  "language_info": {
   "codemirror_mode": {
    "name": "ipython",
    "version": 3
   },
   "file_extension": ".py",
   "mimetype": "text/x-python",
   "name": "python",
   "nbconvert_exporter": "python",
   "pygments_lexer": "ipython3",
   "version": "3.7.4"
  },
  "name": "lab1-no-key",
  "notebookId": 3197279189044075,
  "nteract": {
   "version": "0.12.3"
  }
 },
 "nbformat": 4,
 "nbformat_minor": 1
}
