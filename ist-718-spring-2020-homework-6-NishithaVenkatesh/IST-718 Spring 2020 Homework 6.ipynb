{
 "cells": [
  {
   "cell_type": "markdown",
   "metadata": {},
   "source": [
    "##### Grading Feedback"
   ]
  },
  {
   "cell_type": "markdown",
   "metadata": {
    "deletable": false,
    "editable": false,
    "nbgrader": {
     "checksum": "c51f80b694da894627ba37be28c86055",
     "grade": false,
     "grade_id": "cell-b038e38b5e3072a9",
     "locked": true,
     "schema_version": 1,
     "solution": false
    }
   },
   "source": [
    "# IST 718: Big Data Analytics\n",
    "\n",
    "- Professor: Willard Williamson <wewillia@syr.edu>\n",
    "- Faculty Assistant: Yash Pasar <yspasar@syr.edu>\n",
    "## General instructions:\n",
    "\n",
    "- You are welcome to discuss the problems with your classmates but __you are not allowed to copy any part of your answers from your classmates.  Short code snippets are allowed from the internet.  Code from the class text books or class provided code can be copied in its entirety.__\n",
    "- There could be tests in some cells (i.e., `assert` and `np.testing.` statements). These tests (if present) are used to grade your answers. **However, the professor and FAs could use __additional__ test for your answer. Think about cases where your code should run even if it passess all the tests you see.**\n",
    "- Before submitting your work, remember to check for run time errors with the following procedure:\n",
    "`Kernel`$\\rightarrow$`Restart and Run All`.  All runtime errors will result in a minimum penalty of half off.\n",
    "- Data Bricks is the official class runtime environment so you should test your code on Data Bricks before submission.  If there is a runtime problem in the grading environment, we will try your code on Data Bricks before making a final grading decision.\n",
    "- All plots shall include a title, and axis labels.\n",
    "- Grading feedback cells are there for graders to provide feedback to students.  Don't change or remove grading feedback cells.\n",
    "- Don't add or remove files from your git repo.\n",
    "- Do not change file names in your repo.  This also means don't change the title of the ipython notebook.\n",
    "- You are free to add additional code cells around the cells marked `your code here`.\n",
    "- Students may use toPandas() to print the head of data frames.\n",
    "- Students are responsible for reading the usage comments and understanding how to properly use the get_training_filename() function.  Runtime errors which result from incorrect usage of get_training_filename() shall result in a  point reduction.  \n",
    "- __Only use spark, spark machine learning, spark data frames, RDD's, and map reduce to solve all problems unless instructed otherwise.  Heavy weight operations that convert data to pandas or spark (like collect()) will result in a point reduction.__"
   ]
  },
  {
   "cell_type": "markdown",
   "metadata": {
    "deletable": false,
    "nbgrader": {
     "checksum": "c51f80b694da894627ba37be28c86055",
     "grade": false,
     "grade_id": "cell-b038e38b5e3072a9",
     "locked": true,
     "schema_version": 1,
     "solution": false
    }
   },
   "source": [
    "### Wine Analysis\n",
    "I'm a big fan of wine and would love to use visualizations, machine learning, and inference to learn more about the characteristics of a good wine and predict good wines.  Unfortunately I'm too busy (and lazy) to do the analysis myself but I do have just under 60 trained data scientests at my disposal to do the research for me.  The data set contains the following columns:<br>\n",
    "\n",
    "Input variables (based on physicochemical tests):\n",
    "\n",
    "1. fixed acidity\n",
    "2. volatile acidity\n",
    "3. citric acid\n",
    "4. residual sugar\n",
    "5. chlorides\n",
    "6. free sulfur dioxide\n",
    "7. total sulfur dioxide\n",
    "8. density\n",
    "9. pH\n",
    "10. sulphates\n",
    "11. alcohol\n",
    "\n",
    "Output variable (based on sensory data):\n",
    "12. quality (score between 0 and 10)"
   ]
  },
  {
   "cell_type": "code",
   "execution_count": 1,
   "metadata": {
    "deletable": false,
    "editable": false,
    "nbgrader": {
     "checksum": "c51f80b694da894627ba37be28c86055",
     "grade": false,
     "grade_id": "cell-b038e38b5e3072a9",
     "locked": true,
     "schema_version": 1,
     "solution": false
    }
   },
   "outputs": [],
   "source": [
    "# Do not delete or change this cell\n",
    "\n",
    "# grading import statements\n",
    "from pyspark.sql import SparkSession\n",
    "from pyspark.sql import SQLContext\n",
    "spark = SparkSession.builder.getOrCreate()\n",
    "sc = spark.sparkContext\n",
    "sqlContext = SQLContext(sc)\n",
    "import os\n",
    "\n",
    "# Define a function to determine if we are running on data bricks\n",
    "# Return true if running in the data bricks environment, false otherwise\n",
    "def is_databricks():\n",
    "    # get the databricks runtime version\n",
    "    db_env = os.getenv(\"DATABRICKS_RUNTIME_VERSION\")\n",
    "    \n",
    "    # if running on data bricks\n",
    "    if db_env != None:\n",
    "        return True\n",
    "    else:\n",
    "        return False\n",
    "\n",
    "# Define a function to read the data file.  The full path data file name is constructed\n",
    "# by checking runtime environment variables to determine if the runtime environment is \n",
    "# databricks, or a student's personal computer.  The full path file name is then\n",
    "# constructed based on the runtime env.\n",
    "# \n",
    "# Params\n",
    "#   data_file_name: The base name of the data file to load\n",
    "# \n",
    "# Returns the full path file name based on the runtime env\n",
    "#\n",
    "# Correct Usage Example (pass ONLY the full file name):\n",
    "#   file_name_to_load = get_training_filename(\"sms_spam.csv\") # correct - pass ONLY the full file name  \n",
    "#   \n",
    "# Incorrect Usage Example\n",
    "#   file_name_to_load = get_training_filename(\"/sms_spam.csv\") # incorrect - pass ONLY the full file name\n",
    "#   file_name_to_load = get_training_filename(\"sms_spam.csv/\") # incorrect - pass ONLY the full file name\n",
    "#   file_name_to_load = get_training_filename(\"c:/users/will/data/sms_spam.csv\") incorrect -pass ONLY the full file name\n",
    "def get_training_filename(data_file_name):    \n",
    "    # if running on data bricks\n",
    "    if is_databricks():\n",
    "        # build the full path file name assuming data brick env\n",
    "        full_path_name = \"/FileStore/tables/%s\" % data_file_name\n",
    "    # else the data is assumed to be in the same dir as this notebook\n",
    "    else:\n",
    "        # Assume the student is running on their own computer and load the data\n",
    "        # file from the same dir as this notebook\n",
    "        full_path_name = data_file_name\n",
    "    \n",
    "    # return the full path file name to the caller\n",
    "    return full_path_name"
   ]
  },
  {
   "cell_type": "markdown",
   "metadata": {},
   "source": [
    "# Question 1 Data Wrangling: (10 pts)\n",
    "Read the winequality-red.csv data set into a spark data frame named wine_df.  Use the get_training_filename function provided above to determine the appropriate file path based on the platform on which you are running. Check the resulting data frame for NA / NAN values and deal with these problems appropriately.  Note that the target variable has 10 classes.  Convert the 10 classes into 2 classes.  If the target variable is greater than or equal to 7, replace the label with a 1 indicating good wine.  If the target varible is less than 7, replace the label with a 0 indicating a lower quality wine."
   ]
  },
  {
   "cell_type": "code",
   "execution_count": 2,
   "metadata": {},
   "outputs": [],
   "source": [
    "wine_df = spark.read.csv(get_training_filename('winequality-red.csv'), header = True, inferSchema = True)"
   ]
  },
  {
   "cell_type": "code",
   "execution_count": 3,
   "metadata": {},
   "outputs": [
    {
     "data": {
      "text/html": [
       "<div>\n",
       "<style scoped>\n",
       "    .dataframe tbody tr th:only-of-type {\n",
       "        vertical-align: middle;\n",
       "    }\n",
       "\n",
       "    .dataframe tbody tr th {\n",
       "        vertical-align: top;\n",
       "    }\n",
       "\n",
       "    .dataframe thead th {\n",
       "        text-align: right;\n",
       "    }\n",
       "</style>\n",
       "<table border=\"1\" class=\"dataframe\">\n",
       "  <thead>\n",
       "    <tr style=\"text-align: right;\">\n",
       "      <th></th>\n",
       "      <th>fixed acidity</th>\n",
       "      <th>volatile acidity</th>\n",
       "      <th>citric acid</th>\n",
       "      <th>residual sugar</th>\n",
       "      <th>chlorides</th>\n",
       "      <th>free sulfur dioxide</th>\n",
       "      <th>total sulfur dioxide</th>\n",
       "      <th>density</th>\n",
       "      <th>pH</th>\n",
       "      <th>sulphates</th>\n",
       "      <th>alcohol</th>\n",
       "      <th>quality</th>\n",
       "    </tr>\n",
       "  </thead>\n",
       "  <tbody>\n",
       "    <tr>\n",
       "      <td>0</td>\n",
       "      <td>7.4</td>\n",
       "      <td>0.70</td>\n",
       "      <td>0.00</td>\n",
       "      <td>1.9</td>\n",
       "      <td>0.076</td>\n",
       "      <td>11.0</td>\n",
       "      <td>34.0</td>\n",
       "      <td>0.9978</td>\n",
       "      <td>3.51</td>\n",
       "      <td>0.56</td>\n",
       "      <td>9.4</td>\n",
       "      <td>5</td>\n",
       "    </tr>\n",
       "    <tr>\n",
       "      <td>1</td>\n",
       "      <td>7.8</td>\n",
       "      <td>0.88</td>\n",
       "      <td>0.00</td>\n",
       "      <td>2.6</td>\n",
       "      <td>0.098</td>\n",
       "      <td>25.0</td>\n",
       "      <td>67.0</td>\n",
       "      <td>0.9968</td>\n",
       "      <td>3.20</td>\n",
       "      <td>0.68</td>\n",
       "      <td>9.8</td>\n",
       "      <td>5</td>\n",
       "    </tr>\n",
       "    <tr>\n",
       "      <td>2</td>\n",
       "      <td>7.8</td>\n",
       "      <td>0.76</td>\n",
       "      <td>0.04</td>\n",
       "      <td>2.3</td>\n",
       "      <td>0.092</td>\n",
       "      <td>15.0</td>\n",
       "      <td>54.0</td>\n",
       "      <td>0.9970</td>\n",
       "      <td>3.26</td>\n",
       "      <td>0.65</td>\n",
       "      <td>9.8</td>\n",
       "      <td>5</td>\n",
       "    </tr>\n",
       "    <tr>\n",
       "      <td>3</td>\n",
       "      <td>11.2</td>\n",
       "      <td>0.28</td>\n",
       "      <td>0.56</td>\n",
       "      <td>1.9</td>\n",
       "      <td>0.075</td>\n",
       "      <td>17.0</td>\n",
       "      <td>60.0</td>\n",
       "      <td>0.9980</td>\n",
       "      <td>3.16</td>\n",
       "      <td>0.58</td>\n",
       "      <td>9.8</td>\n",
       "      <td>6</td>\n",
       "    </tr>\n",
       "    <tr>\n",
       "      <td>4</td>\n",
       "      <td>7.4</td>\n",
       "      <td>0.70</td>\n",
       "      <td>0.00</td>\n",
       "      <td>1.9</td>\n",
       "      <td>0.076</td>\n",
       "      <td>11.0</td>\n",
       "      <td>34.0</td>\n",
       "      <td>0.9978</td>\n",
       "      <td>3.51</td>\n",
       "      <td>0.56</td>\n",
       "      <td>9.4</td>\n",
       "      <td>5</td>\n",
       "    </tr>\n",
       "  </tbody>\n",
       "</table>\n",
       "</div>"
      ],
      "text/plain": [
       "   fixed acidity  volatile acidity  citric acid  residual sugar  chlorides  \\\n",
       "0            7.4              0.70         0.00             1.9      0.076   \n",
       "1            7.8              0.88         0.00             2.6      0.098   \n",
       "2            7.8              0.76         0.04             2.3      0.092   \n",
       "3           11.2              0.28         0.56             1.9      0.075   \n",
       "4            7.4              0.70         0.00             1.9      0.076   \n",
       "\n",
       "   free sulfur dioxide  total sulfur dioxide  density    pH  sulphates  \\\n",
       "0                 11.0                  34.0   0.9978  3.51       0.56   \n",
       "1                 25.0                  67.0   0.9968  3.20       0.68   \n",
       "2                 15.0                  54.0   0.9970  3.26       0.65   \n",
       "3                 17.0                  60.0   0.9980  3.16       0.58   \n",
       "4                 11.0                  34.0   0.9978  3.51       0.56   \n",
       "\n",
       "   alcohol  quality  \n",
       "0      9.4        5  \n",
       "1      9.8        5  \n",
       "2      9.8        5  \n",
       "3      9.8        6  \n",
       "4      9.4        5  "
      ]
     },
     "metadata": {},
     "output_type": "display_data"
    },
    {
     "name": "stdout",
     "output_type": "stream",
     "text": [
      "Shape of wine_df: (1599, 12)\n"
     ]
    }
   ],
   "source": [
    "display(wine_df.toPandas().head())\n",
    "\n",
    "print(\"Shape of wine_df:\", (wine_df.count(), len(wine_df.columns)))"
   ]
  },
  {
   "cell_type": "code",
   "execution_count": 4,
   "metadata": {},
   "outputs": [
    {
     "name": "stdout",
     "output_type": "stream",
     "text": [
      "NaN values in wine_df dataframe:\n"
     ]
    },
    {
     "data": {
      "text/html": [
       "<div>\n",
       "<style scoped>\n",
       "    .dataframe tbody tr th:only-of-type {\n",
       "        vertical-align: middle;\n",
       "    }\n",
       "\n",
       "    .dataframe tbody tr th {\n",
       "        vertical-align: top;\n",
       "    }\n",
       "\n",
       "    .dataframe thead th {\n",
       "        text-align: right;\n",
       "    }\n",
       "</style>\n",
       "<table border=\"1\" class=\"dataframe\">\n",
       "  <thead>\n",
       "    <tr style=\"text-align: right;\">\n",
       "      <th></th>\n",
       "      <th>fixed acidity</th>\n",
       "      <th>volatile acidity</th>\n",
       "      <th>citric acid</th>\n",
       "      <th>residual sugar</th>\n",
       "      <th>chlorides</th>\n",
       "      <th>free sulfur dioxide</th>\n",
       "      <th>total sulfur dioxide</th>\n",
       "      <th>density</th>\n",
       "      <th>pH</th>\n",
       "      <th>sulphates</th>\n",
       "      <th>alcohol</th>\n",
       "      <th>quality</th>\n",
       "    </tr>\n",
       "  </thead>\n",
       "  <tbody>\n",
       "    <tr>\n",
       "      <td>0</td>\n",
       "      <td>0</td>\n",
       "      <td>0</td>\n",
       "      <td>0</td>\n",
       "      <td>0</td>\n",
       "      <td>0</td>\n",
       "      <td>0</td>\n",
       "      <td>0</td>\n",
       "      <td>0</td>\n",
       "      <td>0</td>\n",
       "      <td>0</td>\n",
       "      <td>0</td>\n",
       "      <td>0</td>\n",
       "    </tr>\n",
       "  </tbody>\n",
       "</table>\n",
       "</div>"
      ],
      "text/plain": [
       "   fixed acidity  volatile acidity  citric acid  residual sugar  chlorides  \\\n",
       "0              0                 0            0               0          0   \n",
       "\n",
       "   free sulfur dioxide  total sulfur dioxide  density  pH  sulphates  alcohol  \\\n",
       "0                    0                     0        0   0          0        0   \n",
       "\n",
       "   quality  \n",
       "0        0  "
      ]
     },
     "metadata": {},
     "output_type": "display_data"
    }
   ],
   "source": [
    "from pyspark.sql.functions import *\n",
    "\n",
    "print(\"NaN values in wine_df dataframe:\")\n",
    "display(wine_df.select([count(when(isnan(c), c)).alias(c) for c in wine_df.columns]).toPandas())\n",
    "\n",
    "wine_df = wine_df.withColumn(\"quality\", when(wine_df.quality >= 7, 1).otherwise(0))\n",
    "wine_df = wine_df.withColumnRenamed(\"quality\", \"label\")"
   ]
  },
  {
   "cell_type": "markdown",
   "metadata": {},
   "source": [
    "##### Grading feedback cell"
   ]
  },
  {
   "cell_type": "markdown",
   "metadata": {},
   "source": [
    "# Question 2 Visualizations (10 pts)\n",
    "I am interested to know more about the data set.  Create one or more visualizations that summarize the data.  Write a short description that helps me understand the visualizations.  Tell me something interesting or surprising about the data."
   ]
  },
  {
   "cell_type": "code",
   "execution_count": 5,
   "metadata": {},
   "outputs": [
    {
     "data": {
      "image/png": "[encoded data removed]",
      "text/plain": [
       "<Figure size 432x288 with 1 Axes>"
      ]
     },
     "metadata": {
      "needs_background": "light"
     },
     "output_type": "display_data"
    }
   ],
   "source": [
    "%matplotlib inline\n",
    "import matplotlib.pyplot as plt\n",
    "\n",
    "plt.hist(wine_df.rdd.map(lambda row: row.label).collect())\n",
    "plt.xticks(range(0, 2))\n",
    "plt.xlabel(\"Wine quality\")\n",
    "plt.ylabel(\"Count\")\n",
    "plt.title(\"Number of good and bad quality wine\")\n",
    "\n",
    "plt.show()"
   ]
  },
  {
   "cell_type": "code",
   "execution_count": 6,
   "metadata": {},
   "outputs": [
    {
     "data": {
      "image/png": "[encoded data removed]",
      "text/plain": [
       "<Figure size 432x288 with 1 Axes>"
      ]
     },
     "metadata": {
      "needs_background": "light"
     },
     "output_type": "display_data"
    }
   ],
   "source": [
    "%matplotlib inline\n",
    "\n",
    "plt.scatter(wine_df.select(col('citric acid')).collect(), wine_df.select(col('pH')).collect()) \n",
    "plt.xlabel(\"Cirtic Acid\")\n",
    "plt.ylabel(\"pH\")\n",
    "plt.title(\"pH vs Cirtic Acid\")\n",
    "\n",
    "plt.show()"
   ]
  },
  {
   "cell_type": "markdown",
   "metadata": {},
   "source": [
    "Your short description here:<br>\n",
    "\n",
    "- There are very few good quality wine.\n",
    "\n",
    "- As citric acid content increases, pH decreases and wine will be more acidic."
   ]
  },
  {
   "cell_type": "markdown",
   "metadata": {},
   "source": [
    "##### Grading Feedback"
   ]
  },
  {
   "cell_type": "markdown",
   "metadata": {},
   "source": [
    "# Random Forest"
   ]
  },
  {
   "cell_type": "markdown",
   "metadata": {},
   "source": [
    "# Question 3: (10 pts)\n",
    "Create a spark RandomForestClassifier using all default parameters.  Train the model and calculate the AUC using a BinaryClassificationEvaluator."
   ]
  },
  {
   "cell_type": "code",
   "execution_count": 7,
   "metadata": {},
   "outputs": [
    {
     "data": {
      "text/plain": [
       "0.8842845111093305"
      ]
     },
     "execution_count": 7,
     "metadata": {},
     "output_type": "execute_result"
    }
   ],
   "source": [
    "from pyspark.ml.feature import VectorAssembler\n",
    "from pyspark.ml.classification import RandomForestClassifier\n",
    "from pyspark.ml import Pipeline\n",
    "from pyspark.ml.evaluation import BinaryClassificationEvaluator\n",
    "\n",
    "train_df, test_df = wine_df.randomSplit([0.6, 0.4], seed = 13)\n",
    "\n",
    "va = VectorAssembler().setInputCols(train_df.columns[:len(train_df.columns)-1]).setOutputCol('features')\n",
    "\n",
    "rf = RandomForestClassifier()\n",
    "rf_pipe = Pipeline(stages = [va, rf])\n",
    "fitted_rf = rf_pipe.fit(train_df)\n",
    "\n",
    "bce = BinaryClassificationEvaluator()\n",
    "\n",
    "bce.evaluate(fitted_rf.transform(test_df))"
   ]
  },
  {
   "cell_type": "markdown",
   "metadata": {},
   "source": [
    "##### Grading Feedback"
   ]
  },
  {
   "cell_type": "markdown",
   "metadata": {},
   "source": [
    "# Question 4: (10 pts)\n",
    "Use spark RandomForestClassifier, ParamGridBuilder, and CrossValidator objects to perform a random forest grid search.  Use 3 fold cross validation and a BinaryClassificationEvaluator to evaluate the results.  The goal is to see if you can improve upon the AUC score produced by the default random forest model above.  You are free to choose any hyper parameters you want in your grid search.  You should be able to achieve an AUC score around / above 88%. "
   ]
  },
  {
   "cell_type": "code",
   "execution_count": 8,
   "metadata": {
    "deletable": false,
    "nbgrader": {
     "checksum": "2912f0aa0562283b8c2b9b8d330a9e8c",
     "grade": false,
     "grade_id": "cell-5d34f31b40350198",
     "locked": false,
     "schema_version": 1,
     "solution": true
    }
   },
   "outputs": [
    {
     "data": {
      "text/plain": [
       "0.910192909280502"
      ]
     },
     "execution_count": 8,
     "metadata": {},
     "output_type": "execute_result"
    }
   ],
   "source": [
    "from pyspark.ml.tuning import ParamGridBuilder, CrossValidator\n",
    "\n",
    "rf_grid = ParamGridBuilder()\\\n",
    "    .addGrid(rf.numTrees, [25, 40, 50])\\\n",
    "    .addGrid(rf.maxDepth, [5, 10, 15])\\\n",
    "    .build()\n",
    "\n",
    "rf_cv = CrossValidator()\\\n",
    "    .setEstimator(rf_pipe)\\\n",
    "    .setEvaluator(bce)\\\n",
    "    .setEstimatorParamMaps(rf_grid)\\\n",
    "    .setNumFolds(3)\n",
    "\n",
    "rf_fitted_cv = rf_cv.fit(train_df)\n",
    "\n",
    "bce.evaluate(rf_fitted_cv.transform(test_df))"
   ]
  },
  {
   "cell_type": "markdown",
   "metadata": {},
   "source": [
    "##### Grading Feedback"
   ]
  },
  {
   "cell_type": "markdown",
   "metadata": {},
   "source": [
    "# Question 5 (10 pts)\n",
    "Extract the cross validation AUC score and specific hyper parameters used from the grid search above.  Create a pandas dataframe where the first column is the grid parameter name and the 2nd colum is the grid parameter value.  Make the last row of the pandas data frame the resulting AUC score.  Print the pandas data frame.  Describe in words in the markdown cell below what specific parameters you used in your grid and what those parameters do in the model.  For example, if you specified impurity in your grid, describe what impurity does in the random forest.  Keep the descriptions brief and at a high level, I'm just trying to see if you understand the high level concept of what the tuning parameter does."
   ]
  },
  {
   "cell_type": "code",
   "execution_count": 9,
   "metadata": {},
   "outputs": [
    {
     "data": {
      "text/html": [
       "<div>\n",
       "<style scoped>\n",
       "    .dataframe tbody tr th:only-of-type {\n",
       "        vertical-align: middle;\n",
       "    }\n",
       "\n",
       "    .dataframe tbody tr th {\n",
       "        vertical-align: top;\n",
       "    }\n",
       "\n",
       "    .dataframe thead th {\n",
       "        text-align: right;\n",
       "    }\n",
       "</style>\n",
       "<table border=\"1\" class=\"dataframe\">\n",
       "  <thead>\n",
       "    <tr style=\"text-align: right;\">\n",
       "      <th></th>\n",
       "      <th>Grid Parameter</th>\n",
       "      <th>Grid Parameter Value</th>\n",
       "    </tr>\n",
       "  </thead>\n",
       "  <tbody>\n",
       "    <tr>\n",
       "      <td>0</td>\n",
       "      <td>numTrees</td>\n",
       "      <td>40.0</td>\n",
       "    </tr>\n",
       "    <tr>\n",
       "      <td>1</td>\n",
       "      <td>maxDepth</td>\n",
       "      <td>10.0</td>\n",
       "    </tr>\n",
       "    <tr>\n",
       "      <td>2</td>\n",
       "      <td>AUC score</td>\n",
       "      <td>1.0</td>\n",
       "    </tr>\n",
       "  </tbody>\n",
       "</table>\n",
       "</div>"
      ],
      "text/plain": [
       "  Grid Parameter  Grid Parameter Value\n",
       "0       numTrees                  40.0\n",
       "1       maxDepth                  10.0\n",
       "2      AUC score                   1.0"
      ]
     },
     "execution_count": 9,
     "metadata": {},
     "output_type": "execute_result"
    }
   ],
   "source": [
    "import pandas as pd\n",
    "\n",
    "rf_hp = {'Grid Parameter': ['numTrees', 'maxDepth', 'AUC score'], \n",
    "      'Grid Parameter Value': [rf_fitted_cv.bestModel.stages[-1].getNumTrees, \n",
    "                               rf_fitted_cv.bestModel.stages[-1].getOrDefault('maxDepth'),\n",
    "                               bce.evaluate(rf_fitted_cv.transform(train_df))]}\n",
    "\n",
    "rf_hp_df = pd.DataFrame(rf_hp)\n",
    "\n",
    "rf_hp_df"
   ]
  },
  {
   "cell_type": "markdown",
   "metadata": {},
   "source": [
    "Write your grid search parameter descriptions here:\n",
    "\n",
    "- numTrees: number of trees to train\n",
    "\n",
    "The best model above trains 40 different trees\n",
    "\n",
    "- maxDepth: maximum depth of the tree\n",
    "\n",
    "The trees in the best model have a depth of 10"
   ]
  },
  {
   "cell_type": "markdown",
   "metadata": {},
   "source": [
    "##### Grading Feedback"
   ]
  },
  {
   "cell_type": "markdown",
   "metadata": {},
   "source": [
    "# Question 6: 5 pts\n",
    "Create a pandas dataframe containing 2 columns: `feature` and `importance`.  Load the feature column with the dataset feature names and the 2nd column with the feature importances as determined by the best model produced by the grid search above.  Sort the dataframe by `importance` in descending order. In the markdown cell, tell me the 3 features that are most important to predicting a good wine."
   ]
  },
  {
   "cell_type": "code",
   "execution_count": 10,
   "metadata": {
    "deletable": false,
    "nbgrader": {
     "checksum": "89dc0c52dff983147af006f48049dd3e",
     "grade": false,
     "grade_id": "cell-5b666b921af5a375",
     "locked": false,
     "schema_version": 1,
     "solution": true
    }
   },
   "outputs": [
    {
     "data": {
      "text/html": [
       "<div>\n",
       "<style scoped>\n",
       "    .dataframe tbody tr th:only-of-type {\n",
       "        vertical-align: middle;\n",
       "    }\n",
       "\n",
       "    .dataframe tbody tr th {\n",
       "        vertical-align: top;\n",
       "    }\n",
       "\n",
       "    .dataframe thead th {\n",
       "        text-align: right;\n",
       "    }\n",
       "</style>\n",
       "<table border=\"1\" class=\"dataframe\">\n",
       "  <thead>\n",
       "    <tr style=\"text-align: right;\">\n",
       "      <th></th>\n",
       "      <th>feature</th>\n",
       "      <th>importance</th>\n",
       "    </tr>\n",
       "  </thead>\n",
       "  <tbody>\n",
       "    <tr>\n",
       "      <td>10</td>\n",
       "      <td>alcohol</td>\n",
       "      <td>0.179196</td>\n",
       "    </tr>\n",
       "    <tr>\n",
       "      <td>9</td>\n",
       "      <td>sulphates</td>\n",
       "      <td>0.135940</td>\n",
       "    </tr>\n",
       "    <tr>\n",
       "      <td>1</td>\n",
       "      <td>volatile acidity</td>\n",
       "      <td>0.124434</td>\n",
       "    </tr>\n",
       "    <tr>\n",
       "      <td>0</td>\n",
       "      <td>fixed acidity</td>\n",
       "      <td>0.098042</td>\n",
       "    </tr>\n",
       "    <tr>\n",
       "      <td>6</td>\n",
       "      <td>total sulfur dioxide</td>\n",
       "      <td>0.082136</td>\n",
       "    </tr>\n",
       "    <tr>\n",
       "      <td>7</td>\n",
       "      <td>density</td>\n",
       "      <td>0.081628</td>\n",
       "    </tr>\n",
       "    <tr>\n",
       "      <td>2</td>\n",
       "      <td>citric acid</td>\n",
       "      <td>0.064945</td>\n",
       "    </tr>\n",
       "    <tr>\n",
       "      <td>4</td>\n",
       "      <td>chlorides</td>\n",
       "      <td>0.064852</td>\n",
       "    </tr>\n",
       "    <tr>\n",
       "      <td>8</td>\n",
       "      <td>pH</td>\n",
       "      <td>0.059726</td>\n",
       "    </tr>\n",
       "    <tr>\n",
       "      <td>5</td>\n",
       "      <td>free sulfur dioxide</td>\n",
       "      <td>0.059172</td>\n",
       "    </tr>\n",
       "    <tr>\n",
       "      <td>3</td>\n",
       "      <td>residual sugar</td>\n",
       "      <td>0.049929</td>\n",
       "    </tr>\n",
       "  </tbody>\n",
       "</table>\n",
       "</div>"
      ],
      "text/plain": [
       "                 feature  importance\n",
       "10               alcohol    0.179196\n",
       "9              sulphates    0.135940\n",
       "1       volatile acidity    0.124434\n",
       "0          fixed acidity    0.098042\n",
       "6   total sulfur dioxide    0.082136\n",
       "7                density    0.081628\n",
       "2            citric acid    0.064945\n",
       "4              chlorides    0.064852\n",
       "8                     pH    0.059726\n",
       "5    free sulfur dioxide    0.059172\n",
       "3         residual sugar    0.049929"
      ]
     },
     "execution_count": 10,
     "metadata": {},
     "output_type": "execute_result"
    }
   ],
   "source": [
    "pd.DataFrame(list(zip(wine_df.columns[:len(wine_df.columns)-1], \n",
    "                      rf_fitted_cv.bestModel.stages[-1].featureImportances.toArray())),\n",
    "             columns = ['feature', 'importance']).sort_values('importance', ascending = False)"
   ]
  },
  {
   "cell_type": "markdown",
   "metadata": {},
   "source": [
    "Your feature importance comments here.\n",
    "\n",
    "With respect to random forest classifier, the top three features that are most important in predictiing a good wine are:\n",
    "\n",
    "1. alcohol\n",
    "\n",
    "2. sulphates\n",
    "\n",
    "3. volatile acidity"
   ]
  },
  {
   "cell_type": "markdown",
   "metadata": {},
   "source": [
    "# Question 7:  10 pts.\n",
    "Print any of the trees in the forest from the final model.  Copy the printed text to the tree printout markdown cell below and retain the same formatting and indentation as the printout so it's easy for the graders to view the data.  Add comments to the markdown cell below describing how the root node is split:  Describe 2 things in the markdown cells below.  1) What specific predictor variable is being split and what is the value that determines the left / right split.  2) The top level split indicates the most important predictor in the data set.  Explain why the top level predictor in your printed tree can be different that the top level predictor from the cross validated model above. <br>"
   ]
  },
  {
   "cell_type": "code",
   "execution_count": 11,
   "metadata": {
    "deletable": false,
    "nbgrader": {
     "checksum": "b212587e3d2f28ad35f04e2a6149e762",
     "grade": false,
     "grade_id": "cell-7476baa7ceb72c05",
     "locked": false,
     "schema_version": 1,
     "solution": true
    }
   },
   "outputs": [
    {
     "name": "stdout",
     "output_type": "stream",
     "text": [
      "DecisionTreeClassificationModel (uid=dtc_1484c45febf9) of depth 10 with 155 nodes\n",
      "  If (feature 10 <= 11.55)\n",
      "   If (feature 10 <= 10.45)\n",
      "    If (feature 1 <= 0.385)\n",
      "     If (feature 4 <= 0.07150000000000001)\n",
      "      If (feature 8 <= 3.145)\n",
      "       Predict: 0.0\n",
      "      Else (feature 8 > 3.145)\n",
      "       If (feature 1 <= 0.245)\n",
      "        Predict: 0.0\n",
      "       Else (feature 1 > 0.245)\n",
      "        If (feature 9 <= 0.585)\n",
      "         Predict: 0.0\n",
      "        Else (feature 9 > 0.585)\n",
      "         If (feature 7 <= 0.99679)\n",
      "          If (feature 9 <= 0.705)\n",
      "           Predict: 1.0\n",
      "          Else (feature 9 > 0.705)\n",
      "           Predict: 0.0\n",
      "         Else (feature 7 > 0.99679)\n",
      "          Predict: 1.0\n",
      "     Else (feature 4 > 0.07150000000000001)\n",
      "      If (feature 6 <= 10.5)\n",
      "       Predict: 1.0\n",
      "      Else (feature 6 > 10.5)\n",
      "       If (feature 1 <= 0.365)\n",
      "        Predict: 0.0\n",
      "       Else (feature 1 > 0.365)\n",
      "        If (feature 7 <= 0.998005)\n",
      "         Predict: 0.0\n",
      "        Else (feature 7 > 0.998005)\n",
      "         If (feature 10 <= 9.850000000000001)\n",
      "          Predict: 0.0\n",
      "         Else (feature 10 > 9.850000000000001)\n",
      "          Predict: 1.0\n",
      "    Else (feature 1 > 0.385)\n",
      "     If (feature 0 <= 12.25)\n",
      "      If (feature 4 <= 0.0695)\n",
      "       If (feature 9 <= 0.645)\n",
      "        Predict: 0.0\n",
      "       Else (feature 9 > 0.645)\n",
      "        If (feature 1 <= 0.495)\n",
      "         If (feature 6 <= 25.5)\n",
      "          Predict: 1.0\n",
      "         Else (feature 6 > 25.5)\n",
      "          If (feature 1 <= 0.4725)\n",
      "           Predict: 0.0\n",
      "          Else (feature 1 > 0.4725)\n",
      "           Predict: 1.0\n",
      "        Else (feature 1 > 0.495)\n",
      "         Predict: 0.0\n",
      "      Else (feature 4 > 0.0695)\n",
      "       Predict: 0.0\n",
      "     Else (feature 0 > 12.25)\n",
      "      If (feature 1 <= 0.595)\n",
      "       Predict: 0.0\n",
      "      Else (feature 1 > 0.595)\n",
      "       Predict: 1.0\n",
      "   Else (feature 10 > 10.45)\n",
      "    If (feature 9 <= 0.665)\n",
      "     If (feature 1 <= 0.245)\n",
      "      Predict: 1.0\n",
      "     Else (feature 1 > 0.245)\n",
      "      If (feature 3 <= 2.825)\n",
      "       Predict: 0.0\n",
      "      Else (feature 3 > 2.825)\n",
      "       If (feature 10 <= 10.850000000000001)\n",
      "        If (feature 8 <= 3.1950000000000003)\n",
      "         Predict: 1.0\n",
      "        Else (feature 8 > 3.1950000000000003)\n",
      "         If (feature 6 <= 19.5)\n",
      "          If (feature 4 <= 0.0625)\n",
      "           Predict: 1.0\n",
      "          Else (feature 4 > 0.0625)\n",
      "           Predict: 0.0\n",
      "         Else (feature 6 > 19.5)\n",
      "          Predict: 0.0\n",
      "       Else (feature 10 > 10.850000000000001)\n",
      "        Predict: 0.0\n",
      "    Else (feature 9 > 0.665)\n",
      "     If (feature 3 <= 2.125)\n",
      "      If (feature 0 <= 6.85)\n",
      "       Predict: 0.0\n",
      "      Else (feature 0 > 6.85)\n",
      "       If (feature 9 <= 0.815)\n",
      "        If (feature 9 <= 0.685)\n",
      "         Predict: 1.0\n",
      "        Else (feature 9 > 0.685)\n",
      "         If (feature 4 <= 0.0495)\n",
      "          Predict: 1.0\n",
      "         Else (feature 4 > 0.0495)\n",
      "          If (feature 10 <= 10.525)\n",
      "           If (feature 0 <= 8.649999999999999)\n",
      "            Predict: 1.0\n",
      "           Else (feature 0 > 8.649999999999999)\n",
      "            Predict: 0.0\n",
      "          Else (feature 10 > 10.525)\n",
      "           Predict: 0.0\n",
      "       Else (feature 9 > 0.815)\n",
      "        If (feature 0 <= 7.05)\n",
      "         Predict: 0.0\n",
      "        Else (feature 0 > 7.05)\n",
      "         If (feature 4 <= 0.0595)\n",
      "          Predict: 0.0\n",
      "         Else (feature 4 > 0.0595)\n",
      "          If (feature 4 <= 0.0695)\n",
      "           If (feature 10 <= 10.649999999999999)\n",
      "            Predict: 0.0\n",
      "           Else (feature 10 > 10.649999999999999)\n",
      "            Predict: 1.0\n",
      "          Else (feature 4 > 0.0695)\n",
      "           Predict: 1.0\n",
      "     Else (feature 3 > 2.125)\n",
      "      If (feature 8 <= 3.5149999999999997)\n",
      "       If (feature 2 <= 0.525)\n",
      "        If (feature 7 <= 0.99884)\n",
      "         If (feature 9 <= 0.765)\n",
      "          Predict: 0.0\n",
      "         Else (feature 9 > 0.765)\n",
      "          If (feature 6 <= 17.5)\n",
      "           If (feature 10 <= 10.525)\n",
      "            Predict: 0.0\n",
      "           Else (feature 10 > 10.525)\n",
      "            Predict: 1.0\n",
      "          Else (feature 6 > 17.5)\n",
      "           If (feature 9 <= 0.785)\n",
      "            Predict: 1.0\n",
      "           Else (feature 9 > 0.785)\n",
      "            Predict: 0.0\n",
      "        Else (feature 7 > 0.99884)\n",
      "         If (feature 2 <= 0.485)\n",
      "          Predict: 1.0\n",
      "         Else (feature 2 > 0.485)\n",
      "          Predict: 0.0\n",
      "       Else (feature 2 > 0.525)\n",
      "        If (feature 3 <= 2.825)\n",
      "         If (feature 0 <= 11.45)\n",
      "          Predict: 1.0\n",
      "         Else (feature 0 > 11.45)\n",
      "          If (feature 6 <= 24.5)\n",
      "           Predict: 0.0\n",
      "          Else (feature 6 > 24.5)\n",
      "           Predict: 1.0\n",
      "        Else (feature 3 > 2.825)\n",
      "         Predict: 0.0\n",
      "      Else (feature 8 > 3.5149999999999997)\n",
      "       Predict: 1.0\n",
      "  Else (feature 10 > 11.55)\n",
      "   If (feature 1 <= 0.425)\n",
      "    If (feature 2 <= 0.575)\n",
      "     If (feature 4 <= 0.0625)\n",
      "      If (feature 4 <= 0.0495)\n",
      "       If (feature 9 <= 0.565)\n",
      "        If (feature 7 <= 0.9933150000000001)\n",
      "         Predict: 1.0\n",
      "        Else (feature 7 > 0.9933150000000001)\n",
      "         Predict: 0.0\n",
      "       Else (feature 9 > 0.565)\n",
      "        Predict: 1.0\n",
      "      Else (feature 4 > 0.0495)\n",
      "       If (feature 1 <= 0.405)\n",
      "        Predict: 0.0\n",
      "       Else (feature 1 > 0.405)\n",
      "        Predict: 1.0\n",
      "     Else (feature 4 > 0.0625)\n",
      "      If (feature 1 <= 0.245)\n",
      "       Predict: 0.0\n",
      "      Else (feature 1 > 0.245)\n",
      "       If (feature 9 <= 0.765)\n",
      "        If (feature 5 <= 5.25)\n",
      "         If (feature 0 <= 6.85)\n",
      "          Predict: 1.0\n",
      "         Else (feature 0 > 6.85)\n",
      "          If (feature 3 <= 3.8499999999999996)\n",
      "           Predict: 0.0\n",
      "          Else (feature 3 > 3.8499999999999996)\n",
      "           Predict: 1.0\n",
      "        Else (feature 5 > 5.25)\n",
      "         If (feature 4 <= 0.07350000000000001)\n",
      "          Predict: 0.0\n",
      "         Else (feature 4 > 0.07350000000000001)\n",
      "          Predict: 1.0\n",
      "       Else (feature 9 > 0.765)\n",
      "        If (feature 2 <= 0.485)\n",
      "         Predict: 1.0\n",
      "        Else (feature 2 > 0.485)\n",
      "         If (feature 10 <= 11.75)\n",
      "          Predict: 1.0\n",
      "         Else (feature 10 > 11.75)\n",
      "          Predict: 0.0\n",
      "    Else (feature 2 > 0.575)\n",
      "     Predict: 0.0\n",
      "   Else (feature 1 > 0.425)\n",
      "    If (feature 3 <= 1.725)\n",
      "     If (feature 8 <= 3.605)\n",
      "      If (feature 9 <= 0.545)\n",
      "       Predict: 0.0\n",
      "      Else (feature 9 > 0.545)\n",
      "       Predict: 1.0\n",
      "     Else (feature 8 > 3.605)\n",
      "      Predict: 0.0\n",
      "    Else (feature 3 > 1.725)\n",
      "     If (feature 8 <= 3.295)\n",
      "      If (feature 3 <= 4.55)\n",
      "       If (feature 9 <= 0.575)\n",
      "        Predict: 0.0\n",
      "       Else (feature 9 > 0.575)\n",
      "        If (feature 0 <= 7.55)\n",
      "         Predict: 0.0\n",
      "        Else (feature 0 > 7.55)\n",
      "         If (feature 10 <= 12.850000000000001)\n",
      "          Predict: 1.0\n",
      "         Else (feature 10 > 12.850000000000001)\n",
      "          Predict: 0.0\n",
      "      Else (feature 3 > 4.55)\n",
      "       Predict: 0.0\n",
      "     Else (feature 8 > 3.295)\n",
      "      If (feature 10 <= 11.75)\n",
      "       If (feature 0 <= 7.05)\n",
      "        Predict: 0.0\n",
      "       Else (feature 0 > 7.05)\n",
      "        If (feature 5 <= 17.5)\n",
      "         Predict: 1.0\n",
      "        Else (feature 5 > 17.5)\n",
      "         Predict: 0.0\n",
      "      Else (feature 10 > 11.75)\n",
      "       If (feature 9 <= 0.705)\n",
      "        Predict: 0.0\n",
      "       Else (feature 9 > 0.705)\n",
      "        If (feature 0 <= 6.65)\n",
      "         Predict: 1.0\n",
      "        Else (feature 0 > 6.65)\n",
      "         Predict: 0.0\n",
      "\n"
     ]
    }
   ],
   "source": [
    "print(rf_fitted_cv.bestModel.stages[-1].trees[0].toDebugString)"
   ]
  },
  {
   "cell_type": "markdown",
   "metadata": {},
   "source": [
    "##### Grading Feedback"
   ]
  },
  {
   "cell_type": "raw",
   "metadata": {},
   "source": [
    "Paste the tree printout in this cell:\n",
    "\n",
    "DecisionTreeClassificationModel (uid=dtc_00d4f9647d18) of depth 10 with 155 nodes\n",
    "  If (feature 10 <= 11.55)\n",
    "   If (feature 10 <= 10.45)\n",
    "    If (feature 1 <= 0.385)\n",
    "     If (feature 4 <= 0.07150000000000001)\n",
    "      If (feature 8 <= 3.145)\n",
    "       Predict: 0.0\n",
    "      Else (feature 8 > 3.145)\n",
    "       If (feature 1 <= 0.245)\n",
    "        Predict: 0.0\n",
    "       Else (feature 1 > 0.245)\n",
    "        If (feature 9 <= 0.585)\n",
    "         Predict: 0.0\n",
    "        Else (feature 9 > 0.585)\n",
    "         If (feature 7 <= 0.99679)\n",
    "          If (feature 9 <= 0.705)\n",
    "           Predict: 1.0\n",
    "          Else (feature 9 > 0.705)\n",
    "           Predict: 0.0\n",
    "         Else (feature 7 > 0.99679)\n",
    "          Predict: 1.0\n",
    "     Else (feature 4 > 0.07150000000000001)\n",
    "      If (feature 6 <= 10.5)\n",
    "       Predict: 1.0\n",
    "      Else (feature 6 > 10.5)\n",
    "       If (feature 1 <= 0.365)\n",
    "        Predict: 0.0\n",
    "       Else (feature 1 > 0.365)\n",
    "        If (feature 7 <= 0.998005)\n",
    "         Predict: 0.0\n",
    "        Else (feature 7 > 0.998005)\n",
    "         If (feature 10 <= 9.850000000000001)\n",
    "          Predict: 0.0\n",
    "         Else (feature 10 > 9.850000000000001)\n",
    "          Predict: 1.0\n",
    "    Else (feature 1 > 0.385)\n",
    "     If (feature 0 <= 12.25)\n",
    "      If (feature 4 <= 0.0695)\n",
    "       If (feature 9 <= 0.645)\n",
    "        Predict: 0.0\n",
    "       Else (feature 9 > 0.645)\n",
    "        If (feature 1 <= 0.495)\n",
    "         If (feature 6 <= 25.5)\n",
    "          Predict: 1.0\n",
    "         Else (feature 6 > 25.5)\n",
    "          If (feature 1 <= 0.4725)\n",
    "           Predict: 0.0\n",
    "          Else (feature 1 > 0.4725)\n",
    "           Predict: 1.0\n",
    "        Else (feature 1 > 0.495)\n",
    "         Predict: 0.0\n",
    "      Else (feature 4 > 0.0695)\n",
    "       Predict: 0.0\n",
    "     Else (feature 0 > 12.25)\n",
    "      If (feature 1 <= 0.595)\n",
    "       Predict: 0.0\n",
    "      Else (feature 1 > 0.595)\n",
    "       Predict: 1.0\n",
    "   Else (feature 10 > 10.45)\n",
    "    If (feature 9 <= 0.665)\n",
    "     If (feature 1 <= 0.245)\n",
    "      Predict: 1.0\n",
    "     Else (feature 1 > 0.245)\n",
    "      If (feature 3 <= 2.825)\n",
    "       Predict: 0.0\n",
    "      Else (feature 3 > 2.825)\n",
    "       If (feature 10 <= 10.850000000000001)\n",
    "        If (feature 8 <= 3.1950000000000003)\n",
    "         Predict: 1.0\n",
    "        Else (feature 8 > 3.1950000000000003)\n",
    "         If (feature 6 <= 19.5)\n",
    "          If (feature 4 <= 0.0625)\n",
    "           Predict: 1.0\n",
    "          Else (feature 4 > 0.0625)\n",
    "           Predict: 0.0\n",
    "         Else (feature 6 > 19.5)\n",
    "          Predict: 0.0\n",
    "       Else (feature 10 > 10.850000000000001)\n",
    "        Predict: 0.0\n",
    "    Else (feature 9 > 0.665)\n",
    "     If (feature 3 <= 2.125)\n",
    "      If (feature 0 <= 6.85)\n",
    "       Predict: 0.0\n",
    "      Else (feature 0 > 6.85)\n",
    "       If (feature 9 <= 0.815)\n",
    "        If (feature 9 <= 0.685)\n",
    "         Predict: 1.0\n",
    "        Else (feature 9 > 0.685)\n",
    "         If (feature 4 <= 0.0495)\n",
    "          Predict: 1.0\n",
    "         Else (feature 4 > 0.0495)\n",
    "          If (feature 10 <= 10.525)\n",
    "           If (feature 0 <= 8.649999999999999)\n",
    "            Predict: 1.0\n",
    "           Else (feature 0 > 8.649999999999999)\n",
    "            Predict: 0.0\n",
    "          Else (feature 10 > 10.525)\n",
    "           Predict: 0.0\n",
    "       Else (feature 9 > 0.815)\n",
    "        If (feature 0 <= 7.05)\n",
    "         Predict: 0.0\n",
    "        Else (feature 0 > 7.05)\n",
    "         If (feature 4 <= 0.0595)\n",
    "          Predict: 0.0\n",
    "         Else (feature 4 > 0.0595)\n",
    "          If (feature 4 <= 0.0695)\n",
    "           If (feature 10 <= 10.649999999999999)\n",
    "            Predict: 0.0\n",
    "           Else (feature 10 > 10.649999999999999)\n",
    "            Predict: 1.0\n",
    "          Else (feature 4 > 0.0695)\n",
    "           Predict: 1.0\n",
    "     Else (feature 3 > 2.125)\n",
    "      If (feature 8 <= 3.5149999999999997)\n",
    "       If (feature 2 <= 0.525)\n",
    "        If (feature 7 <= 0.99884)\n",
    "         If (feature 9 <= 0.765)\n",
    "          Predict: 0.0\n",
    "         Else (feature 9 > 0.765)\n",
    "          If (feature 6 <= 17.5)\n",
    "           If (feature 10 <= 10.525)\n",
    "            Predict: 0.0\n",
    "           Else (feature 10 > 10.525)\n",
    "            Predict: 1.0\n",
    "          Else (feature 6 > 17.5)\n",
    "           If (feature 9 <= 0.785)\n",
    "            Predict: 1.0\n",
    "           Else (feature 9 > 0.785)\n",
    "            Predict: 0.0\n",
    "        Else (feature 7 > 0.99884)\n",
    "         If (feature 2 <= 0.485)\n",
    "          Predict: 1.0\n",
    "         Else (feature 2 > 0.485)\n",
    "          Predict: 0.0\n",
    "       Else (feature 2 > 0.525)\n",
    "        If (feature 3 <= 2.825)\n",
    "         If (feature 0 <= 11.45)\n",
    "          Predict: 1.0\n",
    "         Else (feature 0 > 11.45)\n",
    "          If (feature 6 <= 24.5)\n",
    "           Predict: 0.0\n",
    "          Else (feature 6 > 24.5)\n",
    "           Predict: 1.0\n",
    "        Else (feature 3 > 2.825)\n",
    "         Predict: 0.0\n",
    "      Else (feature 8 > 3.5149999999999997)\n",
    "       Predict: 1.0\n",
    "  Else (feature 10 > 11.55)\n",
    "   If (feature 1 <= 0.425)\n",
    "    If (feature 2 <= 0.575)\n",
    "     If (feature 4 <= 0.0625)\n",
    "      If (feature 4 <= 0.0495)\n",
    "       If (feature 9 <= 0.565)\n",
    "        If (feature 7 <= 0.9933150000000001)\n",
    "         Predict: 1.0\n",
    "        Else (feature 7 > 0.9933150000000001)\n",
    "         Predict: 0.0\n",
    "       Else (feature 9 > 0.565)\n",
    "        Predict: 1.0\n",
    "      Else (feature 4 > 0.0495)\n",
    "       If (feature 1 <= 0.405)\n",
    "        Predict: 0.0\n",
    "       Else (feature 1 > 0.405)\n",
    "        Predict: 1.0\n",
    "     Else (feature 4 > 0.0625)\n",
    "      If (feature 1 <= 0.245)\n",
    "       Predict: 0.0\n",
    "      Else (feature 1 > 0.245)\n",
    "       If (feature 9 <= 0.765)\n",
    "        If (feature 5 <= 5.25)\n",
    "         If (feature 0 <= 6.85)\n",
    "          Predict: 1.0\n",
    "         Else (feature 0 > 6.85)\n",
    "          If (feature 3 <= 3.8499999999999996)\n",
    "           Predict: 0.0\n",
    "          Else (feature 3 > 3.8499999999999996)\n",
    "           Predict: 1.0\n",
    "        Else (feature 5 > 5.25)\n",
    "         If (feature 4 <= 0.07350000000000001)\n",
    "          Predict: 0.0\n",
    "         Else (feature 4 > 0.07350000000000001)\n",
    "          Predict: 1.0\n",
    "       Else (feature 9 > 0.765)\n",
    "        If (feature 2 <= 0.485)\n",
    "         Predict: 1.0\n",
    "        Else (feature 2 > 0.485)\n",
    "         If (feature 10 <= 11.75)\n",
    "          Predict: 1.0\n",
    "         Else (feature 10 > 11.75)\n",
    "          Predict: 0.0\n",
    "    Else (feature 2 > 0.575)\n",
    "     Predict: 0.0\n",
    "   Else (feature 1 > 0.425)\n",
    "    If (feature 3 <= 1.725)\n",
    "     If (feature 8 <= 3.605)\n",
    "      If (feature 9 <= 0.545)\n",
    "       Predict: 0.0\n",
    "      Else (feature 9 > 0.545)\n",
    "       Predict: 1.0\n",
    "     Else (feature 8 > 3.605)\n",
    "      Predict: 0.0\n",
    "    Else (feature 3 > 1.725)\n",
    "     If (feature 8 <= 3.295)\n",
    "      If (feature 3 <= 4.55)\n",
    "       If (feature 9 <= 0.575)\n",
    "        Predict: 0.0\n",
    "       Else (feature 9 > 0.575)\n",
    "        If (feature 0 <= 7.55)\n",
    "         Predict: 0.0\n",
    "        Else (feature 0 > 7.55)\n",
    "         If (feature 10 <= 12.850000000000001)\n",
    "          Predict: 1.0\n",
    "         Else (feature 10 > 12.850000000000001)\n",
    "          Predict: 0.0\n",
    "      Else (feature 3 > 4.55)\n",
    "       Predict: 0.0\n",
    "     Else (feature 8 > 3.295)\n",
    "      If (feature 10 <= 11.75)\n",
    "       If (feature 0 <= 7.05)\n",
    "        Predict: 0.0\n",
    "       Else (feature 0 > 7.05)\n",
    "        If (feature 5 <= 17.5)\n",
    "         Predict: 1.0\n",
    "        Else (feature 5 > 17.5)\n",
    "         Predict: 0.0\n",
    "      Else (feature 10 > 11.75)\n",
    "       If (feature 9 <= 0.705)\n",
    "        Predict: 0.0\n",
    "       Else (feature 9 > 0.705)\n",
    "        If (feature 0 <= 6.65)\n",
    "         Predict: 1.0\n",
    "        Else (feature 0 > 6.65)\n",
    "         Predict: 0.0"
   ]
  },
  {
   "cell_type": "markdown",
   "metadata": {},
   "source": [
    "##### Grading Feedback"
   ]
  },
  {
   "cell_type": "markdown",
   "metadata": {},
   "source": [
    "What specific predictor variable is being split and what is the value that determines the left / right split:\n",
    "\n",
    "The predictor variable used for split at the root is 'alcohol'\n",
    "\n",
    "The value that determines the left/right split is a value less than 11.55 for alcohol"
   ]
  },
  {
   "cell_type": "markdown",
   "metadata": {},
   "source": [
    "##### Grading Feedback"
   ]
  },
  {
   "cell_type": "markdown",
   "metadata": {},
   "source": [
    "Explain why the top level predictor in your printed tree can be different that the top level predictor from the cross validated model above:\n",
    "\n",
    "Since random forest randomly selects 'k' features from the total features for each tree and calculates information gain, the top level predictor in one tree might not be included in the random 'k' features selected for another tree. Hence, the top level predictor can be different."
   ]
  },
  {
   "cell_type": "markdown",
   "metadata": {},
   "source": [
    "##### Grading Feedback"
   ]
  },
  {
   "cell_type": "markdown",
   "metadata": {},
   "source": [
    "# Question 8:  10 pts.\n",
    "Create a spark GBTClassifier using all default parameters.  Train the model and calculate the AUC using a BinaryClassificationEvaluator."
   ]
  },
  {
   "cell_type": "code",
   "execution_count": 12,
   "metadata": {},
   "outputs": [
    {
     "data": {
      "text/plain": [
       "0.8755213764337859"
      ]
     },
     "execution_count": 12,
     "metadata": {},
     "output_type": "execute_result"
    }
   ],
   "source": [
    "from pyspark.ml.classification import GBTClassifier\n",
    "\n",
    "gbt = GBTClassifier()\n",
    "gbt_pipe = Pipeline(stages = [va, gbt])\n",
    "fitted_gbt = gbt_pipe.fit(train_df)\n",
    "\n",
    "bce.evaluate(fitted_gbt.transform(test_df))"
   ]
  },
  {
   "cell_type": "markdown",
   "metadata": {},
   "source": [
    "##### Grading Feedback"
   ]
  },
  {
   "cell_type": "markdown",
   "metadata": {},
   "source": [
    "# Question 9:  10 pts.\n",
    "Use spark GBTClassifier, ParamGridBuilder, and CrossValidator objects to perform a GBT grid search.  Use 3 fold cross validation and a BinaryClassificationEvaluator to evaluate the results.  The goal is to see if you can improve upon the AUC score produced by the default GBT model and the random forest model above.  You are free to experiment with any search parameters you wish.  It is also okay to experiment with maxIter and stepSize outside of the grid if you wish as long as you comment what you are doing."
   ]
  },
  {
   "cell_type": "code",
   "execution_count": 13,
   "metadata": {},
   "outputs": [
    {
     "data": {
      "text/plain": [
       "0.8929072752065462"
      ]
     },
     "execution_count": 13,
     "metadata": {},
     "output_type": "execute_result"
    }
   ],
   "source": [
    "gbt_grid = ParamGridBuilder()\\\n",
    "    .addGrid(gbt.maxDepth, [10, 15, 20])\\\n",
    "    .addGrid(gbt.featureSubsetStrategy, ['all', 'sqrt'])\\\n",
    "    .build()\n",
    "\n",
    "gbt_cv = CrossValidator()\\\n",
    "    .setEstimator(gbt_pipe)\\\n",
    "    .setEvaluator(bce)\\\n",
    "    .setEstimatorParamMaps(gbt_grid)\\\n",
    "    .setNumFolds(3)\n",
    "\n",
    "gbt_fitted_cv = gbt_cv.fit(train_df)\n",
    "\n",
    "bce.evaluate(gbt_fitted_cv.transform(test_df))"
   ]
  },
  {
   "cell_type": "markdown",
   "metadata": {},
   "source": [
    "##### Grading Feedback"
   ]
  },
  {
   "cell_type": "markdown",
   "metadata": {},
   "source": [
    "# Question 10 10 pts\n",
    "Create a grid search summary pandas data frame for the GBT grid search exactly like you did in question 5 above."
   ]
  },
  {
   "cell_type": "code",
   "execution_count": 14,
   "metadata": {},
   "outputs": [
    {
     "data": {
      "text/html": [
       "<div>\n",
       "<style scoped>\n",
       "    .dataframe tbody tr th:only-of-type {\n",
       "        vertical-align: middle;\n",
       "    }\n",
       "\n",
       "    .dataframe tbody tr th {\n",
       "        vertical-align: top;\n",
       "    }\n",
       "\n",
       "    .dataframe thead th {\n",
       "        text-align: right;\n",
       "    }\n",
       "</style>\n",
       "<table border=\"1\" class=\"dataframe\">\n",
       "  <thead>\n",
       "    <tr style=\"text-align: right;\">\n",
       "      <th></th>\n",
       "      <th>Grid Parameter</th>\n",
       "      <th>Grid Parameter Value</th>\n",
       "    </tr>\n",
       "  </thead>\n",
       "  <tbody>\n",
       "    <tr>\n",
       "      <td>0</td>\n",
       "      <td>maxDepth</td>\n",
       "      <td>15</td>\n",
       "    </tr>\n",
       "    <tr>\n",
       "      <td>1</td>\n",
       "      <td>featureSubsetStrategy</td>\n",
       "      <td>sqrt</td>\n",
       "    </tr>\n",
       "    <tr>\n",
       "      <td>2</td>\n",
       "      <td>AUC score</td>\n",
       "      <td>1</td>\n",
       "    </tr>\n",
       "  </tbody>\n",
       "</table>\n",
       "</div>"
      ],
      "text/plain": [
       "          Grid Parameter Grid Parameter Value\n",
       "0               maxDepth                   15\n",
       "1  featureSubsetStrategy                 sqrt\n",
       "2              AUC score                    1"
      ]
     },
     "execution_count": 14,
     "metadata": {},
     "output_type": "execute_result"
    }
   ],
   "source": [
    "gbt_hp = {'Grid Parameter': ['maxDepth', 'featureSubsetStrategy', 'AUC score'], \n",
    "      'Grid Parameter Value': [gbt_fitted_cv.bestModel.stages[-1].getOrDefault('maxDepth'),\n",
    "                               gbt_fitted_cv.bestModel.stages[-1].getOrDefault('featureSubsetStrategy'),\n",
    "                               bce.evaluate(gbt_fitted_cv.transform(train_df))]}\n",
    "\n",
    "gbt_hp_df = pd.DataFrame(gbt_hp)\n",
    "\n",
    "gbt_hp_df"
   ]
  },
  {
   "cell_type": "markdown",
   "metadata": {},
   "source": [
    "##### Grading Feedback"
   ]
  },
  {
   "cell_type": "markdown",
   "metadata": {},
   "source": [
    "Add search parameter comments here\n",
    "\n",
    "- maxDepth: maximum depth of the tree\n",
    "\n",
    "The trees in the best model have a depth of 15\n",
    "\n",
    "- featureSubsetStrategy: number of features to consider for split at each tree node\n",
    "\n",
    "The trees in the best model consider square root of number of features for split at each node"
   ]
  },
  {
   "cell_type": "markdown",
   "metadata": {},
   "source": [
    "# Question 11 (5 pts):\n",
    "Create and print a pandas dataframe with the columns `feature` and `importance` just like question 6 above.  Also, compare the feature importances to random forest from question 6 above - how different or similar are the feature importances between GBT and random forest."
   ]
  },
  {
   "cell_type": "code",
   "execution_count": 15,
   "metadata": {},
   "outputs": [
    {
     "data": {
      "text/html": [
       "<div>\n",
       "<style scoped>\n",
       "    .dataframe tbody tr th:only-of-type {\n",
       "        vertical-align: middle;\n",
       "    }\n",
       "\n",
       "    .dataframe tbody tr th {\n",
       "        vertical-align: top;\n",
       "    }\n",
       "\n",
       "    .dataframe thead th {\n",
       "        text-align: right;\n",
       "    }\n",
       "</style>\n",
       "<table border=\"1\" class=\"dataframe\">\n",
       "  <thead>\n",
       "    <tr style=\"text-align: right;\">\n",
       "      <th></th>\n",
       "      <th>feature</th>\n",
       "      <th>importance</th>\n",
       "    </tr>\n",
       "  </thead>\n",
       "  <tbody>\n",
       "    <tr>\n",
       "      <td>10</td>\n",
       "      <td>alcohol</td>\n",
       "      <td>0.187793</td>\n",
       "    </tr>\n",
       "    <tr>\n",
       "      <td>1</td>\n",
       "      <td>volatile acidity</td>\n",
       "      <td>0.128978</td>\n",
       "    </tr>\n",
       "    <tr>\n",
       "      <td>9</td>\n",
       "      <td>sulphates</td>\n",
       "      <td>0.127968</td>\n",
       "    </tr>\n",
       "    <tr>\n",
       "      <td>6</td>\n",
       "      <td>total sulfur dioxide</td>\n",
       "      <td>0.092700</td>\n",
       "    </tr>\n",
       "    <tr>\n",
       "      <td>0</td>\n",
       "      <td>fixed acidity</td>\n",
       "      <td>0.091003</td>\n",
       "    </tr>\n",
       "    <tr>\n",
       "      <td>7</td>\n",
       "      <td>density</td>\n",
       "      <td>0.074852</td>\n",
       "    </tr>\n",
       "    <tr>\n",
       "      <td>5</td>\n",
       "      <td>free sulfur dioxide</td>\n",
       "      <td>0.068679</td>\n",
       "    </tr>\n",
       "    <tr>\n",
       "      <td>2</td>\n",
       "      <td>citric acid</td>\n",
       "      <td>0.065506</td>\n",
       "    </tr>\n",
       "    <tr>\n",
       "      <td>4</td>\n",
       "      <td>chlorides</td>\n",
       "      <td>0.057196</td>\n",
       "    </tr>\n",
       "    <tr>\n",
       "      <td>3</td>\n",
       "      <td>residual sugar</td>\n",
       "      <td>0.055782</td>\n",
       "    </tr>\n",
       "    <tr>\n",
       "      <td>8</td>\n",
       "      <td>pH</td>\n",
       "      <td>0.049542</td>\n",
       "    </tr>\n",
       "  </tbody>\n",
       "</table>\n",
       "</div>"
      ],
      "text/plain": [
       "                 feature  importance\n",
       "10               alcohol    0.187793\n",
       "1       volatile acidity    0.128978\n",
       "9              sulphates    0.127968\n",
       "6   total sulfur dioxide    0.092700\n",
       "0          fixed acidity    0.091003\n",
       "7                density    0.074852\n",
       "5    free sulfur dioxide    0.068679\n",
       "2            citric acid    0.065506\n",
       "4              chlorides    0.057196\n",
       "3         residual sugar    0.055782\n",
       "8                     pH    0.049542"
      ]
     },
     "execution_count": 15,
     "metadata": {},
     "output_type": "execute_result"
    }
   ],
   "source": [
    "pd.DataFrame(list(zip(wine_df.columns[:len(wine_df.columns)-1], \n",
    "                      gbt_fitted_cv.bestModel.stages[-1].featureImportances.toArray())),\n",
    "             columns = ['feature', 'importance']).sort_values('importance', ascending = False)"
   ]
  },
  {
   "cell_type": "markdown",
   "metadata": {},
   "source": [
    "Feature importance comments here:\n",
    "\n",
    "With respect to GBT classifier, the top three features that are most important in predictiing a good wine are:\n",
    "\n",
    "1. alcohol\n",
    "\n",
    "2. volatile acidity\n",
    "\n",
    "3. sulphates"
   ]
  },
  {
   "cell_type": "markdown",
   "metadata": {},
   "source": [
    "Add feature importance comparison comments here:<br>\n",
    "\n",
    "Top three features that are most important are same in both Random Forest and GBT. \n",
    "\n",
    "'alcohol' has highest importance in GBT and Random Forest.\n",
    "\n",
    "'sulphates' has the second highest importance in Random Forest and third highest importance in GBT.\n",
    "\n",
    "'volatile acidity' has second highest importance in GBT while third highest importance in Random Forest."
   ]
  },
  {
   "cell_type": "markdown",
   "metadata": {},
   "source": [
    "##### Grading Feedback"
   ]
  }
 ],
 "metadata": {
  "celltoolbar": "Edit Metadata",
  "kernelspec": {
   "display_name": "Python 3",
   "language": "python",
   "name": "python3"
  },
  "language_info": {
   "codemirror_mode": {
    "name": "ipython",
    "version": 3
   },
   "file_extension": ".py",
   "mimetype": "text/x-python",
   "name": "python",
   "nbconvert_exporter": "python",
   "pygments_lexer": "ipython3",
   "version": "3.7.4"
  }
 },
 "nbformat": 4,
 "nbformat_minor": 2
}
